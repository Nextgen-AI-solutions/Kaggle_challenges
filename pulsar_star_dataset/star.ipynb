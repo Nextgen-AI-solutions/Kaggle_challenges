{
 "cells": [
  {
   "cell_type": "code",
   "execution_count": 1,
   "metadata": {},
   "outputs": [],
   "source": [
    "import pandas as pd\n",
    "import numpy as np\n",
    "import warnings\n",
    "import matplotlib.pyplot as plt\n",
    "import seaborn as sns\n",
    "warnings.filterwarnings('ignore')\n",
    "%matplotlib inline"
   ]
  },
  {
   "cell_type": "markdown",
   "metadata": {},
   "source": [
    "### Loading data"
   ]
  },
  {
   "cell_type": "code",
   "execution_count": 2,
   "metadata": {},
   "outputs": [
    {
     "data": {
      "text/html": [
       "<div>\n",
       "<style scoped>\n",
       "    .dataframe tbody tr th:only-of-type {\n",
       "        vertical-align: middle;\n",
       "    }\n",
       "\n",
       "    .dataframe tbody tr th {\n",
       "        vertical-align: top;\n",
       "    }\n",
       "\n",
       "    .dataframe thead th {\n",
       "        text-align: right;\n",
       "    }\n",
       "</style>\n",
       "<table border=\"1\" class=\"dataframe\">\n",
       "  <thead>\n",
       "    <tr style=\"text-align: right;\">\n",
       "      <th></th>\n",
       "      <th>Mean of the integrated profile</th>\n",
       "      <th>Standard deviation of the integrated profile</th>\n",
       "      <th>Excess kurtosis of the integrated profile</th>\n",
       "      <th>Skewness of the integrated profile</th>\n",
       "      <th>Mean of the DM-SNR curve</th>\n",
       "      <th>Standard deviation of the DM-SNR curve</th>\n",
       "      <th>Excess kurtosis of the DM-SNR curve</th>\n",
       "      <th>Skewness of the DM-SNR curve</th>\n",
       "      <th>target_class</th>\n",
       "    </tr>\n",
       "  </thead>\n",
       "  <tbody>\n",
       "    <tr>\n",
       "      <th>0</th>\n",
       "      <td>121.156250</td>\n",
       "      <td>48.372971</td>\n",
       "      <td>0.375485</td>\n",
       "      <td>-0.013165</td>\n",
       "      <td>3.168896</td>\n",
       "      <td>18.399367</td>\n",
       "      <td>7.449874</td>\n",
       "      <td>65.159298</td>\n",
       "      <td>0.0</td>\n",
       "    </tr>\n",
       "    <tr>\n",
       "      <th>1</th>\n",
       "      <td>76.968750</td>\n",
       "      <td>36.175557</td>\n",
       "      <td>0.712898</td>\n",
       "      <td>3.388719</td>\n",
       "      <td>2.399666</td>\n",
       "      <td>17.570997</td>\n",
       "      <td>9.414652</td>\n",
       "      <td>102.722975</td>\n",
       "      <td>0.0</td>\n",
       "    </tr>\n",
       "    <tr>\n",
       "      <th>2</th>\n",
       "      <td>130.585938</td>\n",
       "      <td>53.229534</td>\n",
       "      <td>0.133408</td>\n",
       "      <td>-0.297242</td>\n",
       "      <td>2.743311</td>\n",
       "      <td>22.362553</td>\n",
       "      <td>8.508364</td>\n",
       "      <td>74.031324</td>\n",
       "      <td>0.0</td>\n",
       "    </tr>\n",
       "    <tr>\n",
       "      <th>3</th>\n",
       "      <td>156.398438</td>\n",
       "      <td>48.865942</td>\n",
       "      <td>-0.215989</td>\n",
       "      <td>-0.171294</td>\n",
       "      <td>17.471572</td>\n",
       "      <td>NaN</td>\n",
       "      <td>2.958066</td>\n",
       "      <td>7.197842</td>\n",
       "      <td>0.0</td>\n",
       "    </tr>\n",
       "    <tr>\n",
       "      <th>4</th>\n",
       "      <td>84.804688</td>\n",
       "      <td>36.117659</td>\n",
       "      <td>0.825013</td>\n",
       "      <td>3.274125</td>\n",
       "      <td>2.790134</td>\n",
       "      <td>20.618009</td>\n",
       "      <td>8.405008</td>\n",
       "      <td>76.291128</td>\n",
       "      <td>0.0</td>\n",
       "    </tr>\n",
       "  </tbody>\n",
       "</table>\n",
       "</div>"
      ],
      "text/plain": [
       "    Mean of the integrated profile  \\\n",
       "0                       121.156250   \n",
       "1                        76.968750   \n",
       "2                       130.585938   \n",
       "3                       156.398438   \n",
       "4                        84.804688   \n",
       "\n",
       "    Standard deviation of the integrated profile  \\\n",
       "0                                      48.372971   \n",
       "1                                      36.175557   \n",
       "2                                      53.229534   \n",
       "3                                      48.865942   \n",
       "4                                      36.117659   \n",
       "\n",
       "    Excess kurtosis of the integrated profile  \\\n",
       "0                                    0.375485   \n",
       "1                                    0.712898   \n",
       "2                                    0.133408   \n",
       "3                                   -0.215989   \n",
       "4                                    0.825013   \n",
       "\n",
       "    Skewness of the integrated profile   Mean of the DM-SNR curve  \\\n",
       "0                            -0.013165                   3.168896   \n",
       "1                             3.388719                   2.399666   \n",
       "2                            -0.297242                   2.743311   \n",
       "3                            -0.171294                  17.471572   \n",
       "4                             3.274125                   2.790134   \n",
       "\n",
       "    Standard deviation of the DM-SNR curve  \\\n",
       "0                                18.399367   \n",
       "1                                17.570997   \n",
       "2                                22.362553   \n",
       "3                                      NaN   \n",
       "4                                20.618009   \n",
       "\n",
       "    Excess kurtosis of the DM-SNR curve   Skewness of the DM-SNR curve  \\\n",
       "0                              7.449874                      65.159298   \n",
       "1                              9.414652                     102.722975   \n",
       "2                              8.508364                      74.031324   \n",
       "3                              2.958066                       7.197842   \n",
       "4                              8.405008                      76.291128   \n",
       "\n",
       "   target_class  \n",
       "0           0.0  \n",
       "1           0.0  \n",
       "2           0.0  \n",
       "3           0.0  \n",
       "4           0.0  "
      ]
     },
     "execution_count": 2,
     "metadata": {},
     "output_type": "execute_result"
    }
   ],
   "source": [
    "train_df = pd.read_csv(\"pulsar_data_train.csv\")\n",
    "test_df = pd.read_csv(\"pulsar_data_test.csv\")\n",
    "train_df.head(5)"
   ]
  },
  {
   "cell_type": "code",
   "execution_count": 3,
   "metadata": {},
   "outputs": [
    {
     "data": {
      "text/html": [
       "<div>\n",
       "<style scoped>\n",
       "    .dataframe tbody tr th:only-of-type {\n",
       "        vertical-align: middle;\n",
       "    }\n",
       "\n",
       "    .dataframe tbody tr th {\n",
       "        vertical-align: top;\n",
       "    }\n",
       "\n",
       "    .dataframe thead th {\n",
       "        text-align: right;\n",
       "    }\n",
       "</style>\n",
       "<table border=\"1\" class=\"dataframe\">\n",
       "  <thead>\n",
       "    <tr style=\"text-align: right;\">\n",
       "      <th></th>\n",
       "      <th>Mean of the integrated profile</th>\n",
       "      <th>Standard deviation of the integrated profile</th>\n",
       "      <th>Excess kurtosis of the integrated profile</th>\n",
       "      <th>Skewness of the integrated profile</th>\n",
       "      <th>Mean of the DM-SNR curve</th>\n",
       "      <th>Standard deviation of the DM-SNR curve</th>\n",
       "      <th>Excess kurtosis of the DM-SNR curve</th>\n",
       "      <th>Skewness of the DM-SNR curve</th>\n",
       "      <th>target_class</th>\n",
       "    </tr>\n",
       "  </thead>\n",
       "  <tbody>\n",
       "    <tr>\n",
       "      <th>0</th>\n",
       "      <td>116.906250</td>\n",
       "      <td>48.920605</td>\n",
       "      <td>0.186046</td>\n",
       "      <td>-0.129815</td>\n",
       "      <td>3.037625</td>\n",
       "      <td>17.737102</td>\n",
       "      <td>8.122621</td>\n",
       "      <td>78.813405</td>\n",
       "      <td>NaN</td>\n",
       "    </tr>\n",
       "    <tr>\n",
       "      <th>1</th>\n",
       "      <td>75.585938</td>\n",
       "      <td>34.386254</td>\n",
       "      <td>2.025498</td>\n",
       "      <td>8.652913</td>\n",
       "      <td>3.765050</td>\n",
       "      <td>21.897049</td>\n",
       "      <td>7.048189</td>\n",
       "      <td>55.878791</td>\n",
       "      <td>NaN</td>\n",
       "    </tr>\n",
       "    <tr>\n",
       "      <th>2</th>\n",
       "      <td>103.273438</td>\n",
       "      <td>46.996628</td>\n",
       "      <td>0.504295</td>\n",
       "      <td>0.821088</td>\n",
       "      <td>2.244983</td>\n",
       "      <td>15.622566</td>\n",
       "      <td>9.330498</td>\n",
       "      <td>105.134941</td>\n",
       "      <td>NaN</td>\n",
       "    </tr>\n",
       "    <tr>\n",
       "      <th>3</th>\n",
       "      <td>101.078125</td>\n",
       "      <td>48.587487</td>\n",
       "      <td>1.011427</td>\n",
       "      <td>1.151870</td>\n",
       "      <td>81.887960</td>\n",
       "      <td>81.464136</td>\n",
       "      <td>0.485105</td>\n",
       "      <td>-1.117904</td>\n",
       "      <td>NaN</td>\n",
       "    </tr>\n",
       "    <tr>\n",
       "      <th>4</th>\n",
       "      <td>113.226562</td>\n",
       "      <td>48.608804</td>\n",
       "      <td>0.291538</td>\n",
       "      <td>0.292120</td>\n",
       "      <td>6.291806</td>\n",
       "      <td>26.585056</td>\n",
       "      <td>4.540138</td>\n",
       "      <td>21.708268</td>\n",
       "      <td>NaN</td>\n",
       "    </tr>\n",
       "  </tbody>\n",
       "</table>\n",
       "</div>"
      ],
      "text/plain": [
       "    Mean of the integrated profile  \\\n",
       "0                       116.906250   \n",
       "1                        75.585938   \n",
       "2                       103.273438   \n",
       "3                       101.078125   \n",
       "4                       113.226562   \n",
       "\n",
       "    Standard deviation of the integrated profile  \\\n",
       "0                                      48.920605   \n",
       "1                                      34.386254   \n",
       "2                                      46.996628   \n",
       "3                                      48.587487   \n",
       "4                                      48.608804   \n",
       "\n",
       "    Excess kurtosis of the integrated profile  \\\n",
       "0                                    0.186046   \n",
       "1                                    2.025498   \n",
       "2                                    0.504295   \n",
       "3                                    1.011427   \n",
       "4                                    0.291538   \n",
       "\n",
       "    Skewness of the integrated profile   Mean of the DM-SNR curve  \\\n",
       "0                            -0.129815                   3.037625   \n",
       "1                             8.652913                   3.765050   \n",
       "2                             0.821088                   2.244983   \n",
       "3                             1.151870                  81.887960   \n",
       "4                             0.292120                   6.291806   \n",
       "\n",
       "    Standard deviation of the DM-SNR curve  \\\n",
       "0                                17.737102   \n",
       "1                                21.897049   \n",
       "2                                15.622566   \n",
       "3                                81.464136   \n",
       "4                                26.585056   \n",
       "\n",
       "    Excess kurtosis of the DM-SNR curve   Skewness of the DM-SNR curve  \\\n",
       "0                              8.122621                      78.813405   \n",
       "1                              7.048189                      55.878791   \n",
       "2                              9.330498                     105.134941   \n",
       "3                              0.485105                      -1.117904   \n",
       "4                              4.540138                      21.708268   \n",
       "\n",
       "   target_class  \n",
       "0           NaN  \n",
       "1           NaN  \n",
       "2           NaN  \n",
       "3           NaN  \n",
       "4           NaN  "
      ]
     },
     "execution_count": 3,
     "metadata": {},
     "output_type": "execute_result"
    }
   ],
   "source": [
    "test_df.head(5)"
   ]
  },
  {
   "cell_type": "code",
   "execution_count": 4,
   "metadata": {},
   "outputs": [
    {
     "name": "stdout",
     "output_type": "stream",
     "text": [
      "<class 'pandas.core.frame.DataFrame'>\n",
      "RangeIndex: 12528 entries, 0 to 12527\n",
      "Data columns (total 9 columns):\n",
      " #   Column                                         Non-Null Count  Dtype  \n",
      "---  ------                                         --------------  -----  \n",
      " 0    Mean of the integrated profile                12528 non-null  float64\n",
      " 1    Standard deviation of the integrated profile  12528 non-null  float64\n",
      " 2    Excess kurtosis of the integrated profile     10793 non-null  float64\n",
      " 3    Skewness of the integrated profile            12528 non-null  float64\n",
      " 4    Mean of the DM-SNR curve                      12528 non-null  float64\n",
      " 5    Standard deviation of the DM-SNR curve        11350 non-null  float64\n",
      " 6    Excess kurtosis of the DM-SNR curve           12528 non-null  float64\n",
      " 7    Skewness of the DM-SNR curve                  11903 non-null  float64\n",
      " 8   target_class                                   12528 non-null  float64\n",
      "dtypes: float64(9)\n",
      "memory usage: 881.0 KB\n",
      "None\n",
      "<class 'pandas.core.frame.DataFrame'>\n",
      "RangeIndex: 5370 entries, 0 to 5369\n",
      "Data columns (total 9 columns):\n",
      " #   Column                                         Non-Null Count  Dtype  \n",
      "---  ------                                         --------------  -----  \n",
      " 0    Mean of the integrated profile                5370 non-null   float64\n",
      " 1    Standard deviation of the integrated profile  5370 non-null   float64\n",
      " 2    Excess kurtosis of the integrated profile     4603 non-null   float64\n",
      " 3    Skewness of the integrated profile            5370 non-null   float64\n",
      " 4    Mean of the DM-SNR curve                      5370 non-null   float64\n",
      " 5    Standard deviation of the DM-SNR curve        4846 non-null   float64\n",
      " 6    Excess kurtosis of the DM-SNR curve           5370 non-null   float64\n",
      " 7    Skewness of the DM-SNR curve                  5126 non-null   float64\n",
      " 8   target_class                                   0 non-null      float64\n",
      "dtypes: float64(9)\n",
      "memory usage: 377.7 KB\n",
      "None\n"
     ]
    }
   ],
   "source": [
    "print(train_df.info())\n",
    "print(test_df.info())"
   ]
  },
  {
   "cell_type": "code",
   "execution_count": 5,
   "metadata": {},
   "outputs": [
    {
     "data": {
      "text/plain": [
       " Mean of the integrated profile                     0\n",
       " Standard deviation of the integrated profile       0\n",
       " Excess kurtosis of the integrated profile       1735\n",
       " Skewness of the integrated profile                 0\n",
       " Mean of the DM-SNR curve                           0\n",
       " Standard deviation of the DM-SNR curve          1178\n",
       " Excess kurtosis of the DM-SNR curve                0\n",
       " Skewness of the DM-SNR curve                     625\n",
       "target_class                                        0\n",
       "dtype: int64"
      ]
     },
     "execution_count": 5,
     "metadata": {},
     "output_type": "execute_result"
    }
   ],
   "source": [
    "train_df.isnull().sum()"
   ]
  },
  {
   "cell_type": "code",
   "execution_count": 6,
   "metadata": {},
   "outputs": [
    {
     "data": {
      "text/plain": [
       " Mean of the integrated profile                     0\n",
       " Standard deviation of the integrated profile       0\n",
       " Excess kurtosis of the integrated profile        767\n",
       " Skewness of the integrated profile                 0\n",
       " Mean of the DM-SNR curve                           0\n",
       " Standard deviation of the DM-SNR curve           524\n",
       " Excess kurtosis of the DM-SNR curve                0\n",
       " Skewness of the DM-SNR curve                     244\n",
       "target_class                                     5370\n",
       "dtype: int64"
      ]
     },
     "execution_count": 6,
     "metadata": {},
     "output_type": "execute_result"
    }
   ],
   "source": [
    "test_df.isnull().sum()"
   ]
  },
  {
   "cell_type": "markdown",
   "metadata": {},
   "source": [
    "### Creating a dataframe called \"testdf\" out of 'test_df' which drops the target column as it can finally used for prediction of our classification model"
   ]
  },
  {
   "cell_type": "code",
   "execution_count": 7,
   "metadata": {},
   "outputs": [
    {
     "data": {
      "text/html": [
       "<div>\n",
       "<style scoped>\n",
       "    .dataframe tbody tr th:only-of-type {\n",
       "        vertical-align: middle;\n",
       "    }\n",
       "\n",
       "    .dataframe tbody tr th {\n",
       "        vertical-align: top;\n",
       "    }\n",
       "\n",
       "    .dataframe thead th {\n",
       "        text-align: right;\n",
       "    }\n",
       "</style>\n",
       "<table border=\"1\" class=\"dataframe\">\n",
       "  <thead>\n",
       "    <tr style=\"text-align: right;\">\n",
       "      <th></th>\n",
       "      <th>Mean of the integrated profile</th>\n",
       "      <th>Standard deviation of the integrated profile</th>\n",
       "      <th>Excess kurtosis of the integrated profile</th>\n",
       "      <th>Skewness of the integrated profile</th>\n",
       "      <th>Mean of the DM-SNR curve</th>\n",
       "      <th>Standard deviation of the DM-SNR curve</th>\n",
       "      <th>Excess kurtosis of the DM-SNR curve</th>\n",
       "      <th>Skewness of the DM-SNR curve</th>\n",
       "    </tr>\n",
       "  </thead>\n",
       "  <tbody>\n",
       "    <tr>\n",
       "      <th>5363</th>\n",
       "      <td>113.210938</td>\n",
       "      <td>42.025039</td>\n",
       "      <td>NaN</td>\n",
       "      <td>0.469897</td>\n",
       "      <td>0.647993</td>\n",
       "      <td>9.051728</td>\n",
       "      <td>21.955583</td>\n",
       "      <td>559.245245</td>\n",
       "    </tr>\n",
       "    <tr>\n",
       "      <th>5364</th>\n",
       "      <td>93.828125</td>\n",
       "      <td>51.244986</td>\n",
       "      <td>0.387653</td>\n",
       "      <td>0.011425</td>\n",
       "      <td>1.926421</td>\n",
       "      <td>19.543869</td>\n",
       "      <td>10.996804</td>\n",
       "      <td>NaN</td>\n",
       "    </tr>\n",
       "    <tr>\n",
       "      <th>5365</th>\n",
       "      <td>116.531250</td>\n",
       "      <td>51.140269</td>\n",
       "      <td>-0.001220</td>\n",
       "      <td>-0.184189</td>\n",
       "      <td>4.510870</td>\n",
       "      <td>26.599514</td>\n",
       "      <td>6.634989</td>\n",
       "      <td>45.362390</td>\n",
       "    </tr>\n",
       "    <tr>\n",
       "      <th>5366</th>\n",
       "      <td>114.976562</td>\n",
       "      <td>53.783052</td>\n",
       "      <td>0.377599</td>\n",
       "      <td>-0.155708</td>\n",
       "      <td>2.772575</td>\n",
       "      <td>20.838488</td>\n",
       "      <td>8.440796</td>\n",
       "      <td>77.355028</td>\n",
       "    </tr>\n",
       "    <tr>\n",
       "      <th>5367</th>\n",
       "      <td>136.171875</td>\n",
       "      <td>48.924385</td>\n",
       "      <td>NaN</td>\n",
       "      <td>0.063227</td>\n",
       "      <td>2.810201</td>\n",
       "      <td>18.695230</td>\n",
       "      <td>7.848577</td>\n",
       "      <td>69.388978</td>\n",
       "    </tr>\n",
       "    <tr>\n",
       "      <th>5368</th>\n",
       "      <td>106.500000</td>\n",
       "      <td>49.066122</td>\n",
       "      <td>0.245742</td>\n",
       "      <td>0.140377</td>\n",
       "      <td>2.331104</td>\n",
       "      <td>15.417568</td>\n",
       "      <td>9.008041</td>\n",
       "      <td>100.367616</td>\n",
       "    </tr>\n",
       "    <tr>\n",
       "      <th>5369</th>\n",
       "      <td>110.679688</td>\n",
       "      <td>38.252642</td>\n",
       "      <td>0.459937</td>\n",
       "      <td>1.690689</td>\n",
       "      <td>4.434783</td>\n",
       "      <td>22.201794</td>\n",
       "      <td>5.939747</td>\n",
       "      <td>39.781374</td>\n",
       "    </tr>\n",
       "  </tbody>\n",
       "</table>\n",
       "</div>"
      ],
      "text/plain": [
       "       Mean of the integrated profile  \\\n",
       "5363                       113.210938   \n",
       "5364                        93.828125   \n",
       "5365                       116.531250   \n",
       "5366                       114.976562   \n",
       "5367                       136.171875   \n",
       "5368                       106.500000   \n",
       "5369                       110.679688   \n",
       "\n",
       "       Standard deviation of the integrated profile  \\\n",
       "5363                                      42.025039   \n",
       "5364                                      51.244986   \n",
       "5365                                      51.140269   \n",
       "5366                                      53.783052   \n",
       "5367                                      48.924385   \n",
       "5368                                      49.066122   \n",
       "5369                                      38.252642   \n",
       "\n",
       "       Excess kurtosis of the integrated profile  \\\n",
       "5363                                         NaN   \n",
       "5364                                    0.387653   \n",
       "5365                                   -0.001220   \n",
       "5366                                    0.377599   \n",
       "5367                                         NaN   \n",
       "5368                                    0.245742   \n",
       "5369                                    0.459937   \n",
       "\n",
       "       Skewness of the integrated profile   Mean of the DM-SNR curve  \\\n",
       "5363                             0.469897                   0.647993   \n",
       "5364                             0.011425                   1.926421   \n",
       "5365                            -0.184189                   4.510870   \n",
       "5366                            -0.155708                   2.772575   \n",
       "5367                             0.063227                   2.810201   \n",
       "5368                             0.140377                   2.331104   \n",
       "5369                             1.690689                   4.434783   \n",
       "\n",
       "       Standard deviation of the DM-SNR curve  \\\n",
       "5363                                 9.051728   \n",
       "5364                                19.543869   \n",
       "5365                                26.599514   \n",
       "5366                                20.838488   \n",
       "5367                                18.695230   \n",
       "5368                                15.417568   \n",
       "5369                                22.201794   \n",
       "\n",
       "       Excess kurtosis of the DM-SNR curve   Skewness of the DM-SNR curve  \n",
       "5363                             21.955583                     559.245245  \n",
       "5364                             10.996804                            NaN  \n",
       "5365                              6.634989                      45.362390  \n",
       "5366                              8.440796                      77.355028  \n",
       "5367                              7.848577                      69.388978  \n",
       "5368                              9.008041                     100.367616  \n",
       "5369                              5.939747                      39.781374  "
      ]
     },
     "execution_count": 7,
     "metadata": {},
     "output_type": "execute_result"
    }
   ],
   "source": [
    "testdf = test_df.drop(['target_class'] ,axis=1)\n",
    "testdf.tail(7)"
   ]
  },
  {
   "cell_type": "markdown",
   "metadata": {},
   "source": [
    "### Creating a simple function to impute the null values with mean of that respective columns there is only numerical columns no need of dealing  with categorical variables."
   ]
  },
  {
   "cell_type": "code",
   "execution_count": 8,
   "metadata": {},
   "outputs": [
    {
     "data": {
      "text/html": [
       "<div>\n",
       "<style scoped>\n",
       "    .dataframe tbody tr th:only-of-type {\n",
       "        vertical-align: middle;\n",
       "    }\n",
       "\n",
       "    .dataframe tbody tr th {\n",
       "        vertical-align: top;\n",
       "    }\n",
       "\n",
       "    .dataframe thead th {\n",
       "        text-align: right;\n",
       "    }\n",
       "</style>\n",
       "<table border=\"1\" class=\"dataframe\">\n",
       "  <thead>\n",
       "    <tr style=\"text-align: right;\">\n",
       "      <th></th>\n",
       "      <th>Mean of the integrated profile</th>\n",
       "      <th>Standard deviation of the integrated profile</th>\n",
       "      <th>Excess kurtosis of the integrated profile</th>\n",
       "      <th>Skewness of the integrated profile</th>\n",
       "      <th>Mean of the DM-SNR curve</th>\n",
       "      <th>Standard deviation of the DM-SNR curve</th>\n",
       "      <th>Excess kurtosis of the DM-SNR curve</th>\n",
       "      <th>Skewness of the DM-SNR curve</th>\n",
       "      <th>target_class</th>\n",
       "    </tr>\n",
       "  </thead>\n",
       "  <tbody>\n",
       "    <tr>\n",
       "      <th>0</th>\n",
       "      <td>121.156250</td>\n",
       "      <td>48.372971</td>\n",
       "      <td>0.375485</td>\n",
       "      <td>-0.013165</td>\n",
       "      <td>3.168896</td>\n",
       "      <td>18.399367</td>\n",
       "      <td>7.449874</td>\n",
       "      <td>65.159298</td>\n",
       "      <td>0.0</td>\n",
       "    </tr>\n",
       "    <tr>\n",
       "      <th>1</th>\n",
       "      <td>76.968750</td>\n",
       "      <td>36.175557</td>\n",
       "      <td>0.712898</td>\n",
       "      <td>3.388719</td>\n",
       "      <td>2.399666</td>\n",
       "      <td>17.570997</td>\n",
       "      <td>9.414652</td>\n",
       "      <td>102.722975</td>\n",
       "      <td>0.0</td>\n",
       "    </tr>\n",
       "    <tr>\n",
       "      <th>2</th>\n",
       "      <td>130.585938</td>\n",
       "      <td>53.229534</td>\n",
       "      <td>0.133408</td>\n",
       "      <td>-0.297242</td>\n",
       "      <td>2.743311</td>\n",
       "      <td>22.362553</td>\n",
       "      <td>8.508364</td>\n",
       "      <td>74.031324</td>\n",
       "      <td>0.0</td>\n",
       "    </tr>\n",
       "    <tr>\n",
       "      <th>3</th>\n",
       "      <td>156.398438</td>\n",
       "      <td>48.865942</td>\n",
       "      <td>-0.215989</td>\n",
       "      <td>-0.171294</td>\n",
       "      <td>17.471572</td>\n",
       "      <td>18.412402</td>\n",
       "      <td>2.958066</td>\n",
       "      <td>7.197842</td>\n",
       "      <td>0.0</td>\n",
       "    </tr>\n",
       "    <tr>\n",
       "      <th>4</th>\n",
       "      <td>84.804688</td>\n",
       "      <td>36.117659</td>\n",
       "      <td>0.825013</td>\n",
       "      <td>3.274125</td>\n",
       "      <td>2.790134</td>\n",
       "      <td>20.618009</td>\n",
       "      <td>8.405008</td>\n",
       "      <td>76.291128</td>\n",
       "      <td>0.0</td>\n",
       "    </tr>\n",
       "    <tr>\n",
       "      <th>5</th>\n",
       "      <td>121.007812</td>\n",
       "      <td>47.176944</td>\n",
       "      <td>0.229708</td>\n",
       "      <td>0.091336</td>\n",
       "      <td>2.036789</td>\n",
       "      <td>18.412402</td>\n",
       "      <td>9.546051</td>\n",
       "      <td>112.131721</td>\n",
       "      <td>0.0</td>\n",
       "    </tr>\n",
       "    <tr>\n",
       "      <th>6</th>\n",
       "      <td>79.343750</td>\n",
       "      <td>42.402174</td>\n",
       "      <td>1.063413</td>\n",
       "      <td>2.244377</td>\n",
       "      <td>141.641304</td>\n",
       "      <td>18.412402</td>\n",
       "      <td>-0.700809</td>\n",
       "      <td>-1.200653</td>\n",
       "      <td>0.0</td>\n",
       "    </tr>\n",
       "  </tbody>\n",
       "</table>\n",
       "</div>"
      ],
      "text/plain": [
       "    Mean of the integrated profile  \\\n",
       "0                       121.156250   \n",
       "1                        76.968750   \n",
       "2                       130.585938   \n",
       "3                       156.398438   \n",
       "4                        84.804688   \n",
       "5                       121.007812   \n",
       "6                        79.343750   \n",
       "\n",
       "    Standard deviation of the integrated profile  \\\n",
       "0                                      48.372971   \n",
       "1                                      36.175557   \n",
       "2                                      53.229534   \n",
       "3                                      48.865942   \n",
       "4                                      36.117659   \n",
       "5                                      47.176944   \n",
       "6                                      42.402174   \n",
       "\n",
       "    Excess kurtosis of the integrated profile  \\\n",
       "0                                    0.375485   \n",
       "1                                    0.712898   \n",
       "2                                    0.133408   \n",
       "3                                   -0.215989   \n",
       "4                                    0.825013   \n",
       "5                                    0.229708   \n",
       "6                                    1.063413   \n",
       "\n",
       "    Skewness of the integrated profile   Mean of the DM-SNR curve  \\\n",
       "0                            -0.013165                   3.168896   \n",
       "1                             3.388719                   2.399666   \n",
       "2                            -0.297242                   2.743311   \n",
       "3                            -0.171294                  17.471572   \n",
       "4                             3.274125                   2.790134   \n",
       "5                             0.091336                   2.036789   \n",
       "6                             2.244377                 141.641304   \n",
       "\n",
       "    Standard deviation of the DM-SNR curve  \\\n",
       "0                                18.399367   \n",
       "1                                17.570997   \n",
       "2                                22.362553   \n",
       "3                                18.412402   \n",
       "4                                20.618009   \n",
       "5                                18.412402   \n",
       "6                                18.412402   \n",
       "\n",
       "    Excess kurtosis of the DM-SNR curve   Skewness of the DM-SNR curve  \\\n",
       "0                              7.449874                      65.159298   \n",
       "1                              9.414652                     102.722975   \n",
       "2                              8.508364                      74.031324   \n",
       "3                              2.958066                       7.197842   \n",
       "4                              8.405008                      76.291128   \n",
       "5                              9.546051                     112.131721   \n",
       "6                             -0.700809                      -1.200653   \n",
       "\n",
       "   target_class  \n",
       "0           0.0  \n",
       "1           0.0  \n",
       "2           0.0  \n",
       "3           0.0  \n",
       "4           0.0  \n",
       "5           0.0  \n",
       "6           0.0  "
      ]
     },
     "execution_count": 8,
     "metadata": {},
     "output_type": "execute_result"
    }
   ],
   "source": [
    "def col_imputer(df):\n",
    "    for col in df.columns:\n",
    "        if df[col].isnull:\n",
    "            df[col] = df[col].fillna(df[col].median())\n",
    "    return df\n",
    "col_imputer(train_df)\n",
    "train_df.head(7)"
   ]
  },
  {
   "cell_type": "code",
   "execution_count": 9,
   "metadata": {},
   "outputs": [
    {
     "data": {
      "text/html": [
       "<div>\n",
       "<style scoped>\n",
       "    .dataframe tbody tr th:only-of-type {\n",
       "        vertical-align: middle;\n",
       "    }\n",
       "\n",
       "    .dataframe tbody tr th {\n",
       "        vertical-align: top;\n",
       "    }\n",
       "\n",
       "    .dataframe thead th {\n",
       "        text-align: right;\n",
       "    }\n",
       "</style>\n",
       "<table border=\"1\" class=\"dataframe\">\n",
       "  <thead>\n",
       "    <tr style=\"text-align: right;\">\n",
       "      <th></th>\n",
       "      <th>Mean of the integrated profile</th>\n",
       "      <th>Standard deviation of the integrated profile</th>\n",
       "      <th>Excess kurtosis of the integrated profile</th>\n",
       "      <th>Skewness of the integrated profile</th>\n",
       "      <th>Mean of the DM-SNR curve</th>\n",
       "      <th>Standard deviation of the DM-SNR curve</th>\n",
       "      <th>Excess kurtosis of the DM-SNR curve</th>\n",
       "      <th>Skewness of the DM-SNR curve</th>\n",
       "    </tr>\n",
       "  </thead>\n",
       "  <tbody>\n",
       "    <tr>\n",
       "      <th>0</th>\n",
       "      <td>116.906250</td>\n",
       "      <td>48.920605</td>\n",
       "      <td>0.186046</td>\n",
       "      <td>-0.129815</td>\n",
       "      <td>3.037625</td>\n",
       "      <td>17.737102</td>\n",
       "      <td>8.122621</td>\n",
       "      <td>78.813405</td>\n",
       "    </tr>\n",
       "    <tr>\n",
       "      <th>1</th>\n",
       "      <td>75.585938</td>\n",
       "      <td>34.386254</td>\n",
       "      <td>2.025498</td>\n",
       "      <td>8.652913</td>\n",
       "      <td>3.765050</td>\n",
       "      <td>21.897049</td>\n",
       "      <td>7.048189</td>\n",
       "      <td>55.878791</td>\n",
       "    </tr>\n",
       "    <tr>\n",
       "      <th>2</th>\n",
       "      <td>103.273438</td>\n",
       "      <td>46.996628</td>\n",
       "      <td>0.504295</td>\n",
       "      <td>0.821088</td>\n",
       "      <td>2.244983</td>\n",
       "      <td>15.622566</td>\n",
       "      <td>9.330498</td>\n",
       "      <td>105.134941</td>\n",
       "    </tr>\n",
       "    <tr>\n",
       "      <th>3</th>\n",
       "      <td>101.078125</td>\n",
       "      <td>48.587487</td>\n",
       "      <td>1.011427</td>\n",
       "      <td>1.151870</td>\n",
       "      <td>81.887960</td>\n",
       "      <td>81.464136</td>\n",
       "      <td>0.485105</td>\n",
       "      <td>-1.117904</td>\n",
       "    </tr>\n",
       "    <tr>\n",
       "      <th>4</th>\n",
       "      <td>113.226562</td>\n",
       "      <td>48.608804</td>\n",
       "      <td>0.291538</td>\n",
       "      <td>0.292120</td>\n",
       "      <td>6.291806</td>\n",
       "      <td>26.585056</td>\n",
       "      <td>4.540138</td>\n",
       "      <td>21.708268</td>\n",
       "    </tr>\n",
       "    <tr>\n",
       "      <th>5</th>\n",
       "      <td>85.476562</td>\n",
       "      <td>38.052793</td>\n",
       "      <td>0.227314</td>\n",
       "      <td>1.915097</td>\n",
       "      <td>2.637124</td>\n",
       "      <td>18.549670</td>\n",
       "      <td>9.001500</td>\n",
       "      <td>81.392046</td>\n",
       "    </tr>\n",
       "    <tr>\n",
       "      <th>6</th>\n",
       "      <td>120.203125</td>\n",
       "      <td>46.946339</td>\n",
       "      <td>0.028301</td>\n",
       "      <td>0.227984</td>\n",
       "      <td>2.925585</td>\n",
       "      <td>15.006252</td>\n",
       "      <td>8.077168</td>\n",
       "      <td>91.100734</td>\n",
       "    </tr>\n",
       "    <tr>\n",
       "      <th>7</th>\n",
       "      <td>131.921875</td>\n",
       "      <td>48.328564</td>\n",
       "      <td>0.227314</td>\n",
       "      <td>0.071303</td>\n",
       "      <td>4.380435</td>\n",
       "      <td>26.619201</td>\n",
       "      <td>6.530845</td>\n",
       "      <td>43.515761</td>\n",
       "    </tr>\n",
       "  </tbody>\n",
       "</table>\n",
       "</div>"
      ],
      "text/plain": [
       "    Mean of the integrated profile  \\\n",
       "0                       116.906250   \n",
       "1                        75.585938   \n",
       "2                       103.273438   \n",
       "3                       101.078125   \n",
       "4                       113.226562   \n",
       "5                        85.476562   \n",
       "6                       120.203125   \n",
       "7                       131.921875   \n",
       "\n",
       "    Standard deviation of the integrated profile  \\\n",
       "0                                      48.920605   \n",
       "1                                      34.386254   \n",
       "2                                      46.996628   \n",
       "3                                      48.587487   \n",
       "4                                      48.608804   \n",
       "5                                      38.052793   \n",
       "6                                      46.946339   \n",
       "7                                      48.328564   \n",
       "\n",
       "    Excess kurtosis of the integrated profile  \\\n",
       "0                                    0.186046   \n",
       "1                                    2.025498   \n",
       "2                                    0.504295   \n",
       "3                                    1.011427   \n",
       "4                                    0.291538   \n",
       "5                                    0.227314   \n",
       "6                                    0.028301   \n",
       "7                                    0.227314   \n",
       "\n",
       "    Skewness of the integrated profile   Mean of the DM-SNR curve  \\\n",
       "0                            -0.129815                   3.037625   \n",
       "1                             8.652913                   3.765050   \n",
       "2                             0.821088                   2.244983   \n",
       "3                             1.151870                  81.887960   \n",
       "4                             0.292120                   6.291806   \n",
       "5                             1.915097                   2.637124   \n",
       "6                             0.227984                   2.925585   \n",
       "7                             0.071303                   4.380435   \n",
       "\n",
       "    Standard deviation of the DM-SNR curve  \\\n",
       "0                                17.737102   \n",
       "1                                21.897049   \n",
       "2                                15.622566   \n",
       "3                                81.464136   \n",
       "4                                26.585056   \n",
       "5                                18.549670   \n",
       "6                                15.006252   \n",
       "7                                26.619201   \n",
       "\n",
       "    Excess kurtosis of the DM-SNR curve   Skewness of the DM-SNR curve  \n",
       "0                              8.122621                      78.813405  \n",
       "1                              7.048189                      55.878791  \n",
       "2                              9.330498                     105.134941  \n",
       "3                              0.485105                      -1.117904  \n",
       "4                              4.540138                      21.708268  \n",
       "5                              9.001500                      81.392046  \n",
       "6                              8.077168                      91.100734  \n",
       "7                              6.530845                      43.515761  "
      ]
     },
     "execution_count": 9,
     "metadata": {},
     "output_type": "execute_result"
    }
   ],
   "source": [
    "col_imputer(testdf)\n",
    "testdf.head(8)"
   ]
  },
  {
   "cell_type": "code",
   "execution_count": 10,
   "metadata": {},
   "outputs": [
    {
     "name": "stdout",
     "output_type": "stream",
     "text": [
      " Mean of the integrated profile                  0\n",
      " Standard deviation of the integrated profile    0\n",
      " Excess kurtosis of the integrated profile       0\n",
      " Skewness of the integrated profile              0\n",
      " Mean of the DM-SNR curve                        0\n",
      " Standard deviation of the DM-SNR curve          0\n",
      " Excess kurtosis of the DM-SNR curve             0\n",
      " Skewness of the DM-SNR curve                    0\n",
      "target_class                                     0\n",
      "dtype: int64 \n",
      "\n",
      "\n",
      " Mean of the integrated profile                  0\n",
      " Standard deviation of the integrated profile    0\n",
      " Excess kurtosis of the integrated profile       0\n",
      " Skewness of the integrated profile              0\n",
      " Mean of the DM-SNR curve                        0\n",
      " Standard deviation of the DM-SNR curve          0\n",
      " Excess kurtosis of the DM-SNR curve             0\n",
      " Skewness of the DM-SNR curve                    0\n",
      "dtype: int64\n"
     ]
    }
   ],
   "source": [
    "print(train_df.isna().sum(),\"\\n\\n\")\n",
    "print(testdf.isnull().sum())"
   ]
  },
  {
   "cell_type": "code",
   "execution_count": 11,
   "metadata": {},
   "outputs": [
    {
     "data": {
      "image/png": "[encoded data removed]",
      "text/plain": [
       "<Figure size 1008x720 with 9 Axes>"
      ]
     },
     "metadata": {
      "needs_background": "light"
     },
     "output_type": "display_data"
    }
   ],
   "source": [
    "train_df.hist(bins=50,figsize=(14,10))\n",
    "plt.show()"
   ]
  },
  {
   "cell_type": "code",
   "execution_count": 12,
   "metadata": {},
   "outputs": [
    {
     "data": {
      "text/plain": [
       "<AxesSubplot:>"
      ]
     },
     "execution_count": 12,
     "metadata": {},
     "output_type": "execute_result"
    },
    {
     "data": {
      "image/png": "[encoded data removed]",
      "text/plain": [
       "<Figure size 432x432 with 2 Axes>"
      ]
     },
     "metadata": {
      "needs_background": "light"
     },
     "output_type": "display_data"
    }
   ],
   "source": [
    "corr = train_df.corr().abs()\n",
    "plt.figure(figsize=(6,6))\n",
    "sns.heatmap(corr ,annot=True ,cmap=\"coolwarm\")"
   ]
  },
  {
   "cell_type": "markdown",
   "metadata": {},
   "source": [
    "## Applying feature scaling."
   ]
  },
  {
   "cell_type": "code",
   "execution_count": 13,
   "metadata": {},
   "outputs": [],
   "source": [
    "from sklearn.preprocessing import MinMaxScaler\n",
    "nor_scale = MinMaxScaler()"
   ]
  },
  {
   "cell_type": "code",
   "execution_count": 14,
   "metadata": {},
   "outputs": [
    {
     "data": {
      "text/html": [
       "<div>\n",
       "<style scoped>\n",
       "    .dataframe tbody tr th:only-of-type {\n",
       "        vertical-align: middle;\n",
       "    }\n",
       "\n",
       "    .dataframe tbody tr th {\n",
       "        vertical-align: top;\n",
       "    }\n",
       "\n",
       "    .dataframe thead th {\n",
       "        text-align: right;\n",
       "    }\n",
       "</style>\n",
       "<table border=\"1\" class=\"dataframe\">\n",
       "  <thead>\n",
       "    <tr style=\"text-align: right;\">\n",
       "      <th></th>\n",
       "      <th>Mean of the integrated profile</th>\n",
       "      <th>Standard deviation of the integrated profile</th>\n",
       "      <th>Excess kurtosis of the integrated profile</th>\n",
       "      <th>Skewness of the integrated profile</th>\n",
       "      <th>Mean of the DM-SNR curve</th>\n",
       "      <th>Standard deviation of the DM-SNR curve</th>\n",
       "      <th>Excess kurtosis of the DM-SNR curve</th>\n",
       "      <th>Skewness of the DM-SNR curve</th>\n",
       "    </tr>\n",
       "  </thead>\n",
       "  <tbody>\n",
       "    <tr>\n",
       "      <th>0</th>\n",
       "      <td>121.156250</td>\n",
       "      <td>48.372971</td>\n",
       "      <td>0.375485</td>\n",
       "      <td>-0.013165</td>\n",
       "      <td>3.168896</td>\n",
       "      <td>18.399367</td>\n",
       "      <td>7.449874</td>\n",
       "      <td>65.159298</td>\n",
       "    </tr>\n",
       "    <tr>\n",
       "      <th>1</th>\n",
       "      <td>76.968750</td>\n",
       "      <td>36.175557</td>\n",
       "      <td>0.712898</td>\n",
       "      <td>3.388719</td>\n",
       "      <td>2.399666</td>\n",
       "      <td>17.570997</td>\n",
       "      <td>9.414652</td>\n",
       "      <td>102.722975</td>\n",
       "    </tr>\n",
       "    <tr>\n",
       "      <th>2</th>\n",
       "      <td>130.585938</td>\n",
       "      <td>53.229534</td>\n",
       "      <td>0.133408</td>\n",
       "      <td>-0.297242</td>\n",
       "      <td>2.743311</td>\n",
       "      <td>22.362553</td>\n",
       "      <td>8.508364</td>\n",
       "      <td>74.031324</td>\n",
       "    </tr>\n",
       "    <tr>\n",
       "      <th>3</th>\n",
       "      <td>156.398438</td>\n",
       "      <td>48.865942</td>\n",
       "      <td>-0.215989</td>\n",
       "      <td>-0.171294</td>\n",
       "      <td>17.471572</td>\n",
       "      <td>18.412402</td>\n",
       "      <td>2.958066</td>\n",
       "      <td>7.197842</td>\n",
       "    </tr>\n",
       "    <tr>\n",
       "      <th>4</th>\n",
       "      <td>84.804688</td>\n",
       "      <td>36.117659</td>\n",
       "      <td>0.825013</td>\n",
       "      <td>3.274125</td>\n",
       "      <td>2.790134</td>\n",
       "      <td>20.618009</td>\n",
       "      <td>8.405008</td>\n",
       "      <td>76.291128</td>\n",
       "    </tr>\n",
       "  </tbody>\n",
       "</table>\n",
       "</div>"
      ],
      "text/plain": [
       "    Mean of the integrated profile  \\\n",
       "0                       121.156250   \n",
       "1                        76.968750   \n",
       "2                       130.585938   \n",
       "3                       156.398438   \n",
       "4                        84.804688   \n",
       "\n",
       "    Standard deviation of the integrated profile  \\\n",
       "0                                      48.372971   \n",
       "1                                      36.175557   \n",
       "2                                      53.229534   \n",
       "3                                      48.865942   \n",
       "4                                      36.117659   \n",
       "\n",
       "    Excess kurtosis of the integrated profile  \\\n",
       "0                                    0.375485   \n",
       "1                                    0.712898   \n",
       "2                                    0.133408   \n",
       "3                                   -0.215989   \n",
       "4                                    0.825013   \n",
       "\n",
       "    Skewness of the integrated profile   Mean of the DM-SNR curve  \\\n",
       "0                            -0.013165                   3.168896   \n",
       "1                             3.388719                   2.399666   \n",
       "2                            -0.297242                   2.743311   \n",
       "3                            -0.171294                  17.471572   \n",
       "4                             3.274125                   2.790134   \n",
       "\n",
       "    Standard deviation of the DM-SNR curve  \\\n",
       "0                                18.399367   \n",
       "1                                17.570997   \n",
       "2                                22.362553   \n",
       "3                                18.412402   \n",
       "4                                20.618009   \n",
       "\n",
       "    Excess kurtosis of the DM-SNR curve   Skewness of the DM-SNR curve  \n",
       "0                              7.449874                      65.159298  \n",
       "1                              9.414652                     102.722975  \n",
       "2                              8.508364                      74.031324  \n",
       "3                              2.958066                       7.197842  \n",
       "4                              8.405008                      76.291128  "
      ]
     },
     "execution_count": 14,
     "metadata": {},
     "output_type": "execute_result"
    }
   ],
   "source": [
    "train_sc_df = train_df.iloc[:,:-1]\n",
    "train_sc_df.head(5)"
   ]
  },
  {
   "cell_type": "code",
   "execution_count": 15,
   "metadata": {},
   "outputs": [
    {
     "data": {
      "text/plain": [
       "0    0.0\n",
       "1    0.0\n",
       "2    0.0\n",
       "Name: target_class, dtype: float64"
      ]
     },
     "execution_count": 15,
     "metadata": {},
     "output_type": "execute_result"
    }
   ],
   "source": [
    "train_tar = train_df.target_class\n",
    "train_tar.head(3)"
   ]
  },
  {
   "cell_type": "code",
   "execution_count": 16,
   "metadata": {},
   "outputs": [
    {
     "data": {
      "text/plain": [
       "[' Mean of the integrated profile',\n",
       " ' Standard deviation of the integrated profile',\n",
       " ' Excess kurtosis of the integrated profile',\n",
       " ' Skewness of the integrated profile',\n",
       " ' Mean of the DM-SNR curve',\n",
       " ' Standard deviation of the DM-SNR curve',\n",
       " ' Excess kurtosis of the DM-SNR curve',\n",
       " ' Skewness of the DM-SNR curve']"
      ]
     },
     "execution_count": 16,
     "metadata": {},
     "output_type": "execute_result"
    }
   ],
   "source": [
    "colset = train_sc_df.columns.to_list()\n",
    "colset"
   ]
  },
  {
   "cell_type": "code",
   "execution_count": 17,
   "metadata": {},
   "outputs": [
    {
     "data": {
      "text/html": [
       "<div>\n",
       "<style scoped>\n",
       "    .dataframe tbody tr th:only-of-type {\n",
       "        vertical-align: middle;\n",
       "    }\n",
       "\n",
       "    .dataframe tbody tr th {\n",
       "        vertical-align: top;\n",
       "    }\n",
       "\n",
       "    .dataframe thead th {\n",
       "        text-align: right;\n",
       "    }\n",
       "</style>\n",
       "<table border=\"1\" class=\"dataframe\">\n",
       "  <thead>\n",
       "    <tr style=\"text-align: right;\">\n",
       "      <th></th>\n",
       "      <th>Mean of the integrated profile</th>\n",
       "      <th>Standard deviation of the integrated profile</th>\n",
       "      <th>Excess kurtosis of the integrated profile</th>\n",
       "      <th>Skewness of the integrated profile</th>\n",
       "      <th>Mean of the DM-SNR curve</th>\n",
       "      <th>Standard deviation of the DM-SNR curve</th>\n",
       "      <th>Excess kurtosis of the DM-SNR curve</th>\n",
       "      <th>Skewness of the DM-SNR curve</th>\n",
       "    </tr>\n",
       "  </thead>\n",
       "  <tbody>\n",
       "    <tr>\n",
       "      <th>0</th>\n",
       "      <td>0.627134</td>\n",
       "      <td>0.352060</td>\n",
       "      <td>0.215498</td>\n",
       "      <td>0.025449</td>\n",
       "      <td>0.013301</td>\n",
       "      <td>0.106795</td>\n",
       "      <td>0.281035</td>\n",
       "      <td>0.056276</td>\n",
       "    </tr>\n",
       "    <tr>\n",
       "      <th>1</th>\n",
       "      <td>0.386883</td>\n",
       "      <td>0.170109</td>\n",
       "      <td>0.249901</td>\n",
       "      <td>0.074121</td>\n",
       "      <td>0.009840</td>\n",
       "      <td>0.098774</td>\n",
       "      <td>0.333180</td>\n",
       "      <td>0.087764</td>\n",
       "    </tr>\n",
       "    <tr>\n",
       "      <th>2</th>\n",
       "      <td>0.678405</td>\n",
       "      <td>0.424507</td>\n",
       "      <td>0.190815</td>\n",
       "      <td>0.021385</td>\n",
       "      <td>0.011386</td>\n",
       "      <td>0.145172</td>\n",
       "      <td>0.309127</td>\n",
       "      <td>0.063713</td>\n",
       "    </tr>\n",
       "    <tr>\n",
       "      <th>3</th>\n",
       "      <td>0.818749</td>\n",
       "      <td>0.359414</td>\n",
       "      <td>0.155190</td>\n",
       "      <td>0.023187</td>\n",
       "      <td>0.077668</td>\n",
       "      <td>0.106921</td>\n",
       "      <td>0.161823</td>\n",
       "      <td>0.007691</td>\n",
       "    </tr>\n",
       "    <tr>\n",
       "      <th>4</th>\n",
       "      <td>0.429488</td>\n",
       "      <td>0.169245</td>\n",
       "      <td>0.261333</td>\n",
       "      <td>0.072482</td>\n",
       "      <td>0.011597</td>\n",
       "      <td>0.128279</td>\n",
       "      <td>0.306384</td>\n",
       "      <td>0.065607</td>\n",
       "    </tr>\n",
       "    <tr>\n",
       "      <th>5</th>\n",
       "      <td>0.626327</td>\n",
       "      <td>0.334219</td>\n",
       "      <td>0.200634</td>\n",
       "      <td>0.026944</td>\n",
       "      <td>0.008207</td>\n",
       "      <td>0.106921</td>\n",
       "      <td>0.336667</td>\n",
       "      <td>0.095650</td>\n",
       "    </tr>\n",
       "  </tbody>\n",
       "</table>\n",
       "</div>"
      ],
      "text/plain": [
       "    Mean of the integrated profile  \\\n",
       "0                         0.627134   \n",
       "1                         0.386883   \n",
       "2                         0.678405   \n",
       "3                         0.818749   \n",
       "4                         0.429488   \n",
       "5                         0.626327   \n",
       "\n",
       "    Standard deviation of the integrated profile  \\\n",
       "0                                       0.352060   \n",
       "1                                       0.170109   \n",
       "2                                       0.424507   \n",
       "3                                       0.359414   \n",
       "4                                       0.169245   \n",
       "5                                       0.334219   \n",
       "\n",
       "    Excess kurtosis of the integrated profile  \\\n",
       "0                                    0.215498   \n",
       "1                                    0.249901   \n",
       "2                                    0.190815   \n",
       "3                                    0.155190   \n",
       "4                                    0.261333   \n",
       "5                                    0.200634   \n",
       "\n",
       "    Skewness of the integrated profile   Mean of the DM-SNR curve  \\\n",
       "0                             0.025449                   0.013301   \n",
       "1                             0.074121                   0.009840   \n",
       "2                             0.021385                   0.011386   \n",
       "3                             0.023187                   0.077668   \n",
       "4                             0.072482                   0.011597   \n",
       "5                             0.026944                   0.008207   \n",
       "\n",
       "    Standard deviation of the DM-SNR curve  \\\n",
       "0                                 0.106795   \n",
       "1                                 0.098774   \n",
       "2                                 0.145172   \n",
       "3                                 0.106921   \n",
       "4                                 0.128279   \n",
       "5                                 0.106921   \n",
       "\n",
       "    Excess kurtosis of the DM-SNR curve   Skewness of the DM-SNR curve  \n",
       "0                              0.281035                       0.056276  \n",
       "1                              0.333180                       0.087764  \n",
       "2                              0.309127                       0.063713  \n",
       "3                              0.161823                       0.007691  \n",
       "4                              0.306384                       0.065607  \n",
       "5                              0.336667                       0.095650  "
      ]
     },
     "execution_count": 17,
     "metadata": {},
     "output_type": "execute_result"
    }
   ],
   "source": [
    "scaled_train_feat = nor_scale.fit_transform(train_sc_df)\n",
    "scaled_train_feat\n",
    "dsf = pd.DataFrame(scaled_train_feat,columns=colset)\n",
    "dsf.head(6)"
   ]
  },
  {
   "cell_type": "code",
   "execution_count": 18,
   "metadata": {},
   "outputs": [],
   "source": [
    "colset_2 = testdf.columns.to_list()"
   ]
  },
  {
   "cell_type": "code",
   "execution_count": 19,
   "metadata": {},
   "outputs": [
    {
     "data": {
      "text/html": [
       "<div>\n",
       "<style scoped>\n",
       "    .dataframe tbody tr th:only-of-type {\n",
       "        vertical-align: middle;\n",
       "    }\n",
       "\n",
       "    .dataframe tbody tr th {\n",
       "        vertical-align: top;\n",
       "    }\n",
       "\n",
       "    .dataframe thead th {\n",
       "        text-align: right;\n",
       "    }\n",
       "</style>\n",
       "<table border=\"1\" class=\"dataframe\">\n",
       "  <thead>\n",
       "    <tr style=\"text-align: right;\">\n",
       "      <th></th>\n",
       "      <th>Mean of the integrated profile</th>\n",
       "      <th>Standard deviation of the integrated profile</th>\n",
       "      <th>Excess kurtosis of the integrated profile</th>\n",
       "      <th>Skewness of the integrated profile</th>\n",
       "      <th>Mean of the DM-SNR curve</th>\n",
       "      <th>Standard deviation of the DM-SNR curve</th>\n",
       "      <th>Excess kurtosis of the DM-SNR curve</th>\n",
       "      <th>Skewness of the DM-SNR curve</th>\n",
       "    </tr>\n",
       "  </thead>\n",
       "  <tbody>\n",
       "    <tr>\n",
       "      <th>0</th>\n",
       "      <td>0.604027</td>\n",
       "      <td>0.360230</td>\n",
       "      <td>0.196182</td>\n",
       "      <td>0.023780</td>\n",
       "      <td>0.012711</td>\n",
       "      <td>0.100382</td>\n",
       "      <td>0.298889</td>\n",
       "      <td>0.067722</td>\n",
       "    </tr>\n",
       "    <tr>\n",
       "      <th>1</th>\n",
       "      <td>0.379365</td>\n",
       "      <td>0.143417</td>\n",
       "      <td>0.383737</td>\n",
       "      <td>0.149439</td>\n",
       "      <td>0.015984</td>\n",
       "      <td>0.140664</td>\n",
       "      <td>0.270374</td>\n",
       "      <td>0.048497</td>\n",
       "    </tr>\n",
       "    <tr>\n",
       "      <th>2</th>\n",
       "      <td>0.529904</td>\n",
       "      <td>0.331529</td>\n",
       "      <td>0.228632</td>\n",
       "      <td>0.037385</td>\n",
       "      <td>0.009144</td>\n",
       "      <td>0.079907</td>\n",
       "      <td>0.330946</td>\n",
       "      <td>0.089785</td>\n",
       "    </tr>\n",
       "    <tr>\n",
       "      <th>3</th>\n",
       "      <td>0.517968</td>\n",
       "      <td>0.355260</td>\n",
       "      <td>0.280340</td>\n",
       "      <td>0.042118</td>\n",
       "      <td>0.367560</td>\n",
       "      <td>0.717463</td>\n",
       "      <td>0.096191</td>\n",
       "      <td>0.000720</td>\n",
       "    </tr>\n",
       "    <tr>\n",
       "      <th>4</th>\n",
       "      <td>0.584020</td>\n",
       "      <td>0.355578</td>\n",
       "      <td>0.206939</td>\n",
       "      <td>0.029817</td>\n",
       "      <td>0.027355</td>\n",
       "      <td>0.186059</td>\n",
       "      <td>0.203811</td>\n",
       "      <td>0.019854</td>\n",
       "    </tr>\n",
       "  </tbody>\n",
       "</table>\n",
       "</div>"
      ],
      "text/plain": [
       "    Mean of the integrated profile  \\\n",
       "0                         0.604027   \n",
       "1                         0.379365   \n",
       "2                         0.529904   \n",
       "3                         0.517968   \n",
       "4                         0.584020   \n",
       "\n",
       "    Standard deviation of the integrated profile  \\\n",
       "0                                       0.360230   \n",
       "1                                       0.143417   \n",
       "2                                       0.331529   \n",
       "3                                       0.355260   \n",
       "4                                       0.355578   \n",
       "\n",
       "    Excess kurtosis of the integrated profile  \\\n",
       "0                                    0.196182   \n",
       "1                                    0.383737   \n",
       "2                                    0.228632   \n",
       "3                                    0.280340   \n",
       "4                                    0.206939   \n",
       "\n",
       "    Skewness of the integrated profile   Mean of the DM-SNR curve  \\\n",
       "0                             0.023780                   0.012711   \n",
       "1                             0.149439                   0.015984   \n",
       "2                             0.037385                   0.009144   \n",
       "3                             0.042118                   0.367560   \n",
       "4                             0.029817                   0.027355   \n",
       "\n",
       "    Standard deviation of the DM-SNR curve  \\\n",
       "0                                 0.100382   \n",
       "1                                 0.140664   \n",
       "2                                 0.079907   \n",
       "3                                 0.717463   \n",
       "4                                 0.186059   \n",
       "\n",
       "    Excess kurtosis of the DM-SNR curve   Skewness of the DM-SNR curve  \n",
       "0                              0.298889                       0.067722  \n",
       "1                              0.270374                       0.048497  \n",
       "2                              0.330946                       0.089785  \n",
       "3                              0.096191                       0.000720  \n",
       "4                              0.203811                       0.019854  "
      ]
     },
     "execution_count": 19,
     "metadata": {},
     "output_type": "execute_result"
    }
   ],
   "source": [
    "scaled_test_feat = nor_scale.transform(testdf)\n",
    "scaled_test_feat\n",
    "dsftest = pd.DataFrame(scaled_test_feat ,columns=colset_2)\n",
    "dsftest.head(5)\n"
   ]
  },
  {
   "cell_type": "markdown",
   "metadata": {},
   "source": [
    "## Now we have scaled and make our features normally distributed."
   ]
  },
  {
   "cell_type": "code",
   "execution_count": 20,
   "metadata": {},
   "outputs": [
    {
     "data": {
      "image/png": "[encoded data removed]",
      "text/plain": [
       "<Figure size 1008x864 with 9 Axes>"
      ]
     },
     "metadata": {
      "needs_background": "light"
     },
     "output_type": "display_data"
    }
   ],
   "source": [
    "dsf.hist(bins=50,figsize=(14,12))\n",
    "plt.show()"
   ]
  },
  {
   "cell_type": "markdown",
   "metadata": {},
   "source": [
    "## Model Creation & Performance Evaluation"
   ]
  },
  {
   "cell_type": "markdown",
   "metadata": {},
   "source": [
    "###### spliting up of data for that procedure."
   ]
  },
  {
   "cell_type": "code",
   "execution_count": 21,
   "metadata": {},
   "outputs": [],
   "source": [
    "# Assigning \"X\" with Features .\n",
    "X = dsf\n",
    "#Assigning \"y\" with target labels \n",
    "y = train_tar"
   ]
  },
  {
   "cell_type": "markdown",
   "metadata": {},
   "source": [
    "#### we can Implement stratifieed K-Fold cross validation as dataset prediction of True positives through a visual analysis seems happening on rare ocassions when compare total quantile rate of \"target_class\" in dataset."
   ]
  },
  {
   "cell_type": "code",
   "execution_count": 22,
   "metadata": {},
   "outputs": [],
   "source": [
    "from sklearn.model_selection import StratifiedKFold\n",
    "\n",
    "skf = StratifiedKFold(n_splits=10,random_state=0) #splitting feature and target into train &\n",
    "                                                             #validation set\n",
    "skf.get_n_splits(X,y)\n",
    "for train_index,validation_index in skf.split(X,y):\n",
    "    X_train , X_val = X.iloc[train_index] , X.iloc[validation_index]\n",
    "    y_train , y_val = y.iloc[train_index] , y.iloc[validation_index]\n",
    "    "
   ]
  },
  {
   "cell_type": "code",
   "execution_count": 23,
   "metadata": {},
   "outputs": [],
   "source": [
    "#creating matrixes or numpy arrays for features.\n",
    "def conv_arr(data):          #AS NUMPY ARRAYS AND VECTORS WILL SPEED UP COMPUTATION\n",
    "    return np.array(data)\n",
    "X_train1 = conv_arr(X_train)\n",
    "X_val1 = conv_arr(X_val)\n",
    "\n",
    "#creating vectors for Target sets.\n",
    "y_train1 = conv_arr(y_train).reshape(-1,1)\n",
    "y_val1 = conv_arr(y_val).reshape(-1,1)"
   ]
  },
  {
   "cell_type": "markdown",
   "metadata": {},
   "source": [
    "### Creating Classisfier for prediction."
   ]
  },
  {
   "cell_type": "code",
   "execution_count": 24,
   "metadata": {},
   "outputs": [],
   "source": [
    "from sklearn.linear_model import LogisticRegression\n",
    "from sklearn.tree import DecisionTreeClassifier\n",
    "from sklearn.ensemble import RandomForestClassifier\n",
    "from xgboost import XGBClassifier\n",
    "from sklearn.svm import SVC"
   ]
  },
  {
   "cell_type": "code",
   "execution_count": 25,
   "metadata": {},
   "outputs": [],
   "source": [
    "from sklearn.metrics import accuracy_score,confusion_matrix"
   ]
  },
  {
   "cell_type": "code",
   "execution_count": 26,
   "metadata": {},
   "outputs": [],
   "source": [
    "Log_reg = LogisticRegression(solver='liblinear')    \n",
    "dec_tree = DecisionTreeClassifier(random_state=42)\n",
    "Ran_for = RandomForestClassifier(n_estimators=50,criterion='entropy',max_leaf_nodes=200,n_jobs=-1)\n",
    "xgb_class = XGBClassifier(n_estimators=50, n_jobs=-1)\n",
    "SVC_class = SVC()\n",
    "# we can use rest of the models after testing and hyperparameter tuning"
   ]
  },
  {
   "cell_type": "code",
   "execution_count": 27,
   "metadata": {},
   "outputs": [
    {
     "data": {
      "text/plain": [
       "0.9784345047923323"
      ]
     },
     "execution_count": 27,
     "metadata": {},
     "output_type": "execute_result"
    }
   ],
   "source": [
    "#A list to append accuracy scores from classifiers in various n_splits of strata.\n",
    "# Create function to check out various model algorithms.\n",
    "def model_create(clf):\n",
    "    clf.fit(X_train1,y_train1)\n",
    "    pred = clf.predict(X_val1)\n",
    "    score = accuracy_score(pred,y_val1)\n",
    "    return score\n",
    "model_create(Ran_for) #Score of RandomForestClassifier model"
   ]
  },
  {
   "cell_type": "code",
   "execution_count": 28,
   "metadata": {},
   "outputs": [
    {
     "data": {
      "text/plain": [
       "0.9696485623003195"
      ]
     },
     "execution_count": 28,
     "metadata": {},
     "output_type": "execute_result"
    }
   ],
   "source": [
    "model_create(Log_reg)  #Score of LogisticRegression model."
   ]
  },
  {
   "cell_type": "code",
   "execution_count": 29,
   "metadata": {},
   "outputs": [
    {
     "data": {
      "text/plain": [
       "0.9584664536741214"
      ]
     },
     "execution_count": 29,
     "metadata": {},
     "output_type": "execute_result"
    }
   ],
   "source": [
    "model_create(dec_tree) #Score of DecisionTreeClassifier model"
   ]
  },
  {
   "cell_type": "code",
   "execution_count": 30,
   "metadata": {},
   "outputs": [
    {
     "data": {
      "text/plain": [
       "0.9792332268370607"
      ]
     },
     "execution_count": 30,
     "metadata": {},
     "output_type": "execute_result"
    }
   ],
   "source": [
    "model_create(xgb_class) #Score of XGBoostClassifier "
   ]
  },
  {
   "cell_type": "code",
   "execution_count": 31,
   "metadata": {
    "scrolled": true
   },
   "outputs": [
    {
     "data": {
      "text/plain": [
       "0.9728434504792333"
      ]
     },
     "execution_count": 31,
     "metadata": {},
     "output_type": "execute_result"
    }
   ],
   "source": [
    "model_create(SVC_class) #Score of SVC"
   ]
  },
  {
   "cell_type": "markdown",
   "metadata": {},
   "source": [
    "##### Above all models are implemnted without any prior fine tuning so next step we will incorporate fine tuning to our models."
   ]
  },
  {
   "cell_type": "markdown",
   "metadata": {},
   "source": [
    "### Hyperparameter tuning and optimization."
   ]
  },
  {
   "cell_type": "markdown",
   "metadata": {},
   "source": [
    "* Hyperparameter Tuning Using Grid SearchCV in Pipeline"
   ]
  },
  {
   "cell_type": "code",
   "execution_count": 116,
   "metadata": {},
   "outputs": [],
   "source": [
    "from sklearn.pipeline import Pipeline"
   ]
  },
  {
   "cell_type": "code",
   "execution_count": 153,
   "metadata": {},
   "outputs": [],
   "source": [
    "#Create a pipeline\n",
    "pipe = Pipeline([('classifier',XGBClassifier())])\n",
    "#creating dict. with learning algorithms and its hyperparameters\n",
    "\n",
    "grid_param=[\n",
    "    \n",
    "    {'classifier'  :[XGBClassifier()],\n",
    "     'classifier__n_estimators' :[10,100,200],\n",
    "     'classifier__max_depth'    :[2,10,15],\n",
    "     'classifier__learning_rate':[0.05],\n",
    "     'classifier__min_child_weight':[1,5,100]\n",
    "     },\n",
    "     \n",
    "     {\"classifier\": [LogisticRegression()],\n",
    "        \"classifier__penalty\": ['l2'],\n",
    "        \"classifier__C\": np.logspace(0, 4, 10),\n",
    "        \"classifier__solver\":['newton-cg','saga','sag','liblinear']      \n",
    "     },\n",
    "    \n",
    "    {\"classifier\": [RandomForestClassifier()],\n",
    "    \"classifier__n_estimators\": [10, 100, 1000],\n",
    "    \"classifier__max_depth\":[5,8,15,25,30,None],\n",
    "    \"classifier__min_samples_leaf\":[1,2,5,10,15,100],\n",
    "    \"classifier__max_leaf_nodes\": [2, 5,10]\n",
    "    }\n",
    "]"
   ]
  },
  {
   "cell_type": "code",
   "execution_count": 154,
   "metadata": {},
   "outputs": [],
   "source": [
    "#create a gridsearch of the pipeline\n",
    "#fit the model\n",
    "#get the scor\n",
    "from sklearn.model_selection import GridSearchCV\n",
    "gridsearch = GridSearchCV(pipe,grid_param,cv=5,n_jobs=-1)"
   ]
  },
  {
   "cell_type": "code",
   "execution_count": 155,
   "metadata": {},
   "outputs": [],
   "source": [
    "best_model =gridsearch.fit(X_train1,y_train1)"
   ]
  },
  {
   "cell_type": "code",
   "execution_count": 156,
   "metadata": {},
   "outputs": [
    {
     "name": "stdout",
     "output_type": "stream",
     "text": [
      "Pipeline(steps=[('classifier',\n",
      "                 XGBClassifier(base_score=0.5, booster='gbtree',\n",
      "                               colsample_bylevel=1, colsample_bynode=1,\n",
      "                               colsample_bytree=1, gamma=0, gpu_id=-1,\n",
      "                               importance_type='gain',\n",
      "                               interaction_constraints='', learning_rate=0.05,\n",
      "                               max_delta_step=0, max_depth=10,\n",
      "                               min_child_weight=5, missing=nan,\n",
      "                               monotone_constraints='()', n_estimators=100,\n",
      "                               n_jobs=0, num_parallel_tree=1, random_state=0,\n",
      "                               reg_alpha=0, reg_lambda=1, scale_pos_weight=1,\n",
      "                               subsample=1, tree_method='exact',\n",
      "                               validate_parameters=1, verbosity=None))])\n",
      "accuracy of the model is: 0.9832268370607029\n"
     ]
    }
   ],
   "source": [
    "print(best_model.best_estimator_)\n",
    "print('accuracy of the model is:',best_model.score(X_val1,y_val1))"
   ]
  },
  {
   "cell_type": "code",
   "execution_count": 158,
   "metadata": {},
   "outputs": [],
   "source": [
    "#Selecting XGBoost as the best algorithm and creating a model based on the obtained hyperparameters\n",
    "final_model_XGB = XGBClassifier(base_score=0.5, booster='gbtree',\n",
    "                               colsample_bylevel=1, colsample_bynode=1,\n",
    "                               colsample_bytree=1, gamma=0, gpu_id=-1,\n",
    "                               importance_type='gain',\n",
    "                               interaction_constraints='', learning_rate=0.05,\n",
    "                               max_delta_step=0, max_depth=10,\n",
    "                               min_child_weight=5,\n",
    "                               monotone_constraints='()', n_estimators=100,\n",
    "                               n_jobs=0, num_parallel_tree=1, random_state=0,\n",
    "                               reg_alpha=0, reg_lambda=1, scale_pos_weight=1,\n",
    "                               subsample=1, tree_method='exact',\n",
    "                               validate_parameters=1, verbosity=None)"
   ]
  },
  {
   "cell_type": "code",
   "execution_count": 223,
   "metadata": {},
   "outputs": [
    {
     "data": {
      "text/plain": [
       "XGBClassifier(base_score=0.5, booster='gbtree', colsample_bylevel=1,\n",
       "              colsample_bynode=1, colsample_bytree=1, gamma=0, gpu_id=-1,\n",
       "              importance_type='gain', interaction_constraints='',\n",
       "              learning_rate=0.05, max_delta_step=0, max_depth=10,\n",
       "              min_child_weight=5, missing=nan, monotone_constraints='()',\n",
       "              n_estimators=100, n_jobs=0, num_parallel_tree=1, random_state=0,\n",
       "              reg_alpha=0, reg_lambda=1, scale_pos_weight=1, subsample=1,\n",
       "              tree_method='exact', validate_parameters=1, verbosity=None)"
      ]
     },
     "execution_count": 223,
     "metadata": {},
     "output_type": "execute_result"
    }
   ],
   "source": [
    "final_model_XGB.fit(X_train1,y_train1)"
   ]
  },
  {
   "cell_type": "code",
   "execution_count": 224,
   "metadata": {},
   "outputs": [
    {
     "data": {
      "text/plain": [
       "0.9832268370607029"
      ]
     },
     "execution_count": 224,
     "metadata": {},
     "output_type": "execute_result"
    }
   ],
   "source": [
    "final_model_XGB.score(X_val1,y_val1)"
   ]
  },
  {
   "cell_type": "code",
   "execution_count": 225,
   "metadata": {},
   "outputs": [],
   "source": [
    "final_model_pred = final_model_XGB.predict(X_val1)"
   ]
  },
  {
   "cell_type": "code",
   "execution_count": 226,
   "metadata": {},
   "outputs": [],
   "source": [
    "from sklearn.metrics import classification_report,confusion_matrix"
   ]
  },
  {
   "cell_type": "code",
   "execution_count": 227,
   "metadata": {},
   "outputs": [
    {
     "name": "stdout",
     "output_type": "stream",
     "text": [
      "[[1136    1]\n",
      " [  20   95]]\n"
     ]
    }
   ],
   "source": [
    "#confussion matrix2\n",
    "print(confusion_matrix(y_val1,final_model_pred))"
   ]
  },
  {
   "cell_type": "code",
   "execution_count": 229,
   "metadata": {},
   "outputs": [
    {
     "name": "stdout",
     "output_type": "stream",
     "text": [
      "              precision    recall  f1-score   support\n",
      "\n",
      "         0.0       0.98      1.00      0.99      1137\n",
      "         1.0       0.99      0.83      0.90       115\n",
      "\n",
      "    accuracy                           0.98      1252\n",
      "   macro avg       0.99      0.91      0.95      1252\n",
      "weighted avg       0.98      0.98      0.98      1252\n",
      "\n"
     ]
    }
   ],
   "source": [
    "#Classification report for simple intuition \n",
    "print(classification_report(y_val1,final_model_pred))"
   ]
  },
  {
   "cell_type": "markdown",
   "metadata": {},
   "source": [
    "ROC Curve and AUC and Thresholds"
   ]
  },
  {
   "cell_type": "code",
   "execution_count": 179,
   "metadata": {},
   "outputs": [],
   "source": [
    "from sklearn.metrics import roc_curve\n",
    "from sklearn.metrics import roc_auc_score"
   ]
  },
  {
   "cell_type": "code",
   "execution_count": 186,
   "metadata": {},
   "outputs": [
    {
     "data": {
      "text/plain": [
       "array([[0.97999364, 0.02000635],\n",
       "       [0.98864335, 0.01135666],\n",
       "       [0.99387586, 0.00612413],\n",
       "       ...,\n",
       "       [0.98244077, 0.01755921],\n",
       "       [0.99569345, 0.00430658],\n",
       "       [0.98802567, 0.01197433]], dtype=float32)"
      ]
     },
     "execution_count": 186,
     "metadata": {},
     "output_type": "execute_result"
    }
   ],
   "source": [
    "#Getting probability function\n",
    "final_model_XGB.predict_proba(X_val1)"
   ]
  },
  {
   "cell_type": "code",
   "execution_count": 243,
   "metadata": {},
   "outputs": [
    {
     "data": {
      "text/plain": [
       "array([0.02000635, 0.01135666, 0.00612413, ..., 0.01755921, 0.00430658,\n",
       "       0.01197433], dtype=float32)"
      ]
     },
     "execution_count": 243,
     "metadata": {},
     "output_type": "execute_result"
    }
   ],
   "source": [
    "final_model_XGB.predict_proba(X_val1)[:,1]"
   ]
  },
  {
   "cell_type": "code",
   "execution_count": 192,
   "metadata": {},
   "outputs": [],
   "source": [
    "#choosing different threshold values to preview the respective confussion matrix\n",
    "#creating a function for predicting threshold\n",
    "def pred_threshold(model,X_test,thresholds):\n",
    "    import numpy as np\n",
    "    return np.where(final_model_XGB.predict_proba(X_val1)[:,1]>thresholds,1,0)"
   ]
  },
  {
   "cell_type": "code",
   "execution_count": 245,
   "metadata": {},
   "outputs": [
    {
     "name": "stdout",
     "output_type": "stream",
     "text": [
      "Threshold : 0.0\n",
      "[[   0 1137]\n",
      " [   0  115]]\n",
      "Threshold : 0.1\n",
      "[[1113   24]\n",
      " [   9  106]]\n",
      "Threshold : 0.2\n",
      "[[1126   11]\n",
      " [  14  101]]\n",
      "Threshold : 0.30000000000000004\n",
      "[[1132    5]\n",
      " [  14  101]]\n",
      "Threshold : 0.4\n",
      "[[1133    4]\n",
      " [  17   98]]\n",
      "Threshold : 0.5\n",
      "[[1136    1]\n",
      " [  20   95]]\n",
      "Threshold : 0.6000000000000001\n",
      "[[1136    1]\n",
      " [  23   92]]\n",
      "Threshold : 0.7000000000000001\n",
      "[[1136    1]\n",
      " [  26   89]]\n",
      "Threshold : 0.8\n",
      "[[1136    1]\n",
      " [  32   83]]\n",
      "Threshold : 0.9\n",
      "[[1137    0]\n",
      " [  39   76]]\n",
      "Threshold : 1.0\n",
      "[[1137    0]\n",
      " [ 115    0]]\n"
     ]
    }
   ],
   "source": [
    "#testing different thresholds and evaluating w/ confusion matrix\n",
    "import numpy as np\n",
    "from sklearn.metrics import confusion_matrix\n",
    "for thr in np.arange(0,1.1,0.1):#from 0(1_attr) to 1(2_attr) with an interval(3_attr) of 0.1\n",
    "    y_pred=pred_threshold(final_model_XGB,X_val1,thr)\n",
    "    print('Threshold :' ,thr)\n",
    "    print(confusion_matrix(y_val1,y_pred))"
   ]
  },
  {
   "cell_type": "code",
   "execution_count": 266,
   "metadata": {},
   "outputs": [
    {
     "data": {
      "text/plain": [
       "array([0, 0, 0, ..., 0, 0, 0])"
      ]
     },
     "execution_count": 266,
     "metadata": {},
     "output_type": "execute_result"
    }
   ],
   "source": [
    "#further exploration by considering 0.3 threshold value as the desired value\n",
    "y_predict_thr3 = np.where(final_model_XGB.predict_proba(X_val1)[:,1]>0.3,1,0)\n",
    "y_predict_thr3"
   ]
  },
  {
   "cell_type": "code",
   "execution_count": 274,
   "metadata": {},
   "outputs": [],
   "source": [
    "#plotting AUC-ROC d\n",
    "tpr,fpr,thresholds= roc_curve(y_val1,final_model_XGB.predict_proba(X_val1)[:,1])\n"
   ]
  },
  {
   "cell_type": "code",
   "execution_count": 275,
   "metadata": {},
   "outputs": [
    {
     "data": {
      "image/png": "[encoded data removed]",
      "text/plain": [
       "<Figure size 432x288 with 1 Axes>"
      ]
     },
     "metadata": {
      "needs_background": "light"
     },
     "output_type": "display_data"
    }
   ],
   "source": [
    "#ROC_AUC curve for default threshold\n",
    "import matplotlib.pyplot as plt\n",
    "from sklearn.metrics import roc_curve,roc_auc_score\n",
    "%matplotlib inline\n",
    "fpr, tpr, thresholds = roc_curve(y_val1,final_model_XGB.predict_proba(X_val1)[:,1],drop_intermediate=False)\n",
    "plt.xlim([0.0, 1.0])\n",
    "plt.ylim([0.0, 1.0])\n",
    "plt.title('ROC curve for breast cancer classifier')\n",
    "plt.xlabel('False Positive Rate (1 - Specificity)')\n",
    "plt.ylabel('True Positive Rate (Sensitivity)')\n",
    "plt.plot(fpr,tpr,color='red',lw=5)\n",
    "plt.show()"
   ]
  },
  {
   "cell_type": "code",
   "execution_count": 276,
   "metadata": {},
   "outputs": [
    {
     "data": {
      "text/plain": [
       "0.9815762303544797"
      ]
     },
     "execution_count": 276,
     "metadata": {},
     "output_type": "execute_result"
    }
   ],
   "source": [
    "roc_auc_score(y_val1,final_model_XGB.predict_proba(X_val1)[:,1])"
   ]
  },
  {
   "cell_type": "code",
   "execution_count": null,
   "metadata": {},
   "outputs": [],
   "source": []
  }
 ],
 "metadata": {
  "kernelspec": {
   "display_name": "Python 3",
   "language": "python",
   "name": "python3"
  },
  "language_info": {
   "codemirror_mode": {
    "name": "ipython",
    "version": 3
   },
   "file_extension": ".py",
   "mimetype": "text/x-python",
   "name": "python",
   "nbconvert_exporter": "python",
   "pygments_lexer": "ipython3",
   "version": "3.8.3"
  }
 },
 "nbformat": 4,
 "nbformat_minor": 4
}
