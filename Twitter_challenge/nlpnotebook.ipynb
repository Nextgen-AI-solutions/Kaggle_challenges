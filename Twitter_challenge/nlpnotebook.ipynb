{
 "cells": [
  {
   "cell_type": "code",
   "execution_count": 1,
   "metadata": {
    "execution": {
     "iopub.execute_input": "2020-10-24T09:44:00.804697Z",
     "iopub.status.busy": "2020-10-24T09:44:00.803949Z",
     "iopub.status.idle": "2020-10-24T09:44:01.858715Z",
     "shell.execute_reply": "2020-10-24T09:44:01.857851Z"
    },
    "papermill": {
     "duration": 1.178959,
     "end_time": "2020-10-24T09:44:01.858850",
     "exception": false,
     "start_time": "2020-10-24T09:44:00.679891",
     "status": "completed"
    },
    "tags": []
   },
   "outputs": [],
   "source": [
    "import pandas as pd\n",
    "import numpy as np\n",
    "import re\n",
    "import matplotlib.pyplot as plt\n",
    "import seaborn as sns\n",
    "import warnings\n",
    "from sklearn.pipeline import Pipeline\n",
    "warnings.filterwarnings(\"ignore\")\n"
   ]
  },
  {
   "cell_type": "code",
   "execution_count": 2,
   "metadata": {
    "execution": {
     "iopub.execute_input": "2020-10-24T09:44:02.100514Z",
     "iopub.status.busy": "2020-10-24T09:44:02.099768Z",
     "iopub.status.idle": "2020-10-24T09:44:02.163757Z",
     "shell.execute_reply": "2020-10-24T09:44:02.163084Z"
    },
    "papermill": {
     "duration": 0.186161,
     "end_time": "2020-10-24T09:44:02.163924",
     "exception": false,
     "start_time": "2020-10-24T09:44:01.977763",
     "status": "completed"
    },
    "tags": []
   },
   "outputs": [],
   "source": [
    "df_train = pd.read_csv(\"../input/nlp-getting-started/train.csv\")\n",
    "df_test = pd.read_csv(\"../input/nlp-getting-started/test.csv\")"
   ]
  },
  {
   "cell_type": "code",
   "execution_count": 3,
   "metadata": {
    "execution": {
     "iopub.execute_input": "2020-10-24T09:44:02.416971Z",
     "iopub.status.busy": "2020-10-24T09:44:02.416190Z",
     "iopub.status.idle": "2020-10-24T09:44:02.426313Z",
     "shell.execute_reply": "2020-10-24T09:44:02.426852Z"
    },
    "papermill": {
     "duration": 0.146696,
     "end_time": "2020-10-24T09:44:02.427005",
     "exception": false,
     "start_time": "2020-10-24T09:44:02.280309",
     "status": "completed"
    },
    "tags": []
   },
   "outputs": [
    {
     "data": {
      "text/html": [
       "<div>\n",
       "<style scoped>\n",
       "    .dataframe tbody tr th:only-of-type {\n",
       "        vertical-align: middle;\n",
       "    }\n",
       "\n",
       "    .dataframe tbody tr th {\n",
       "        vertical-align: top;\n",
       "    }\n",
       "\n",
       "    .dataframe thead th {\n",
       "        text-align: right;\n",
       "    }\n",
       "</style>\n",
       "<table border=\"1\" class=\"dataframe\">\n",
       "  <thead>\n",
       "    <tr style=\"text-align: right;\">\n",
       "      <th></th>\n",
       "      <th>id</th>\n",
       "      <th>keyword</th>\n",
       "      <th>location</th>\n",
       "      <th>text</th>\n",
       "      <th>target</th>\n",
       "    </tr>\n",
       "  </thead>\n",
       "  <tbody>\n",
       "    <tr>\n",
       "      <th>0</th>\n",
       "      <td>1</td>\n",
       "      <td>NaN</td>\n",
       "      <td>NaN</td>\n",
       "      <td>Our Deeds are the Reason of this #earthquake M...</td>\n",
       "      <td>1</td>\n",
       "    </tr>\n",
       "    <tr>\n",
       "      <th>1</th>\n",
       "      <td>4</td>\n",
       "      <td>NaN</td>\n",
       "      <td>NaN</td>\n",
       "      <td>Forest fire near La Ronge Sask. Canada</td>\n",
       "      <td>1</td>\n",
       "    </tr>\n",
       "    <tr>\n",
       "      <th>2</th>\n",
       "      <td>5</td>\n",
       "      <td>NaN</td>\n",
       "      <td>NaN</td>\n",
       "      <td>All residents asked to 'shelter in place' are ...</td>\n",
       "      <td>1</td>\n",
       "    </tr>\n",
       "    <tr>\n",
       "      <th>3</th>\n",
       "      <td>6</td>\n",
       "      <td>NaN</td>\n",
       "      <td>NaN</td>\n",
       "      <td>13,000 people receive #wildfires evacuation or...</td>\n",
       "      <td>1</td>\n",
       "    </tr>\n",
       "    <tr>\n",
       "      <th>4</th>\n",
       "      <td>7</td>\n",
       "      <td>NaN</td>\n",
       "      <td>NaN</td>\n",
       "      <td>Just got sent this photo from Ruby #Alaska as ...</td>\n",
       "      <td>1</td>\n",
       "    </tr>\n",
       "    <tr>\n",
       "      <th>...</th>\n",
       "      <td>...</td>\n",
       "      <td>...</td>\n",
       "      <td>...</td>\n",
       "      <td>...</td>\n",
       "      <td>...</td>\n",
       "    </tr>\n",
       "    <tr>\n",
       "      <th>7608</th>\n",
       "      <td>10869</td>\n",
       "      <td>NaN</td>\n",
       "      <td>NaN</td>\n",
       "      <td>Two giant cranes holding a bridge collapse int...</td>\n",
       "      <td>1</td>\n",
       "    </tr>\n",
       "    <tr>\n",
       "      <th>7609</th>\n",
       "      <td>10870</td>\n",
       "      <td>NaN</td>\n",
       "      <td>NaN</td>\n",
       "      <td>@aria_ahrary @TheTawniest The out of control w...</td>\n",
       "      <td>1</td>\n",
       "    </tr>\n",
       "    <tr>\n",
       "      <th>7610</th>\n",
       "      <td>10871</td>\n",
       "      <td>NaN</td>\n",
       "      <td>NaN</td>\n",
       "      <td>M1.94 [01:04 UTC]?5km S of Volcano Hawaii. htt...</td>\n",
       "      <td>1</td>\n",
       "    </tr>\n",
       "    <tr>\n",
       "      <th>7611</th>\n",
       "      <td>10872</td>\n",
       "      <td>NaN</td>\n",
       "      <td>NaN</td>\n",
       "      <td>Police investigating after an e-bike collided ...</td>\n",
       "      <td>1</td>\n",
       "    </tr>\n",
       "    <tr>\n",
       "      <th>7612</th>\n",
       "      <td>10873</td>\n",
       "      <td>NaN</td>\n",
       "      <td>NaN</td>\n",
       "      <td>The Latest: More Homes Razed by Northern Calif...</td>\n",
       "      <td>1</td>\n",
       "    </tr>\n",
       "  </tbody>\n",
       "</table>\n",
       "<p>7613 rows × 5 columns</p>\n",
       "</div>"
      ],
      "text/plain": [
       "         id keyword location  \\\n",
       "0         1     NaN      NaN   \n",
       "1         4     NaN      NaN   \n",
       "2         5     NaN      NaN   \n",
       "3         6     NaN      NaN   \n",
       "4         7     NaN      NaN   \n",
       "...     ...     ...      ...   \n",
       "7608  10869     NaN      NaN   \n",
       "7609  10870     NaN      NaN   \n",
       "7610  10871     NaN      NaN   \n",
       "7611  10872     NaN      NaN   \n",
       "7612  10873     NaN      NaN   \n",
       "\n",
       "                                                   text  target  \n",
       "0     Our Deeds are the Reason of this #earthquake M...       1  \n",
       "1                Forest fire near La Ronge Sask. Canada       1  \n",
       "2     All residents asked to 'shelter in place' are ...       1  \n",
       "3     13,000 people receive #wildfires evacuation or...       1  \n",
       "4     Just got sent this photo from Ruby #Alaska as ...       1  \n",
       "...                                                 ...     ...  \n",
       "7608  Two giant cranes holding a bridge collapse int...       1  \n",
       "7609  @aria_ahrary @TheTawniest The out of control w...       1  \n",
       "7610  M1.94 [01:04 UTC]?5km S of Volcano Hawaii. htt...       1  \n",
       "7611  Police investigating after an e-bike collided ...       1  \n",
       "7612  The Latest: More Homes Razed by Northern Calif...       1  \n",
       "\n",
       "[7613 rows x 5 columns]"
      ]
     },
     "execution_count": 3,
     "metadata": {},
     "output_type": "execute_result"
    }
   ],
   "source": [
    "df_train"
   ]
  },
  {
   "cell_type": "code",
   "execution_count": 4,
   "metadata": {
    "execution": {
     "iopub.execute_input": "2020-10-24T09:44:02.687839Z",
     "iopub.status.busy": "2020-10-24T09:44:02.686989Z",
     "iopub.status.idle": "2020-10-24T09:44:02.692180Z",
     "shell.execute_reply": "2020-10-24T09:44:02.691610Z"
    },
    "papermill": {
     "duration": 0.140517,
     "end_time": "2020-10-24T09:44:02.692422",
     "exception": false,
     "start_time": "2020-10-24T09:44:02.551905",
     "status": "completed"
    },
    "tags": []
   },
   "outputs": [
    {
     "data": {
      "text/html": [
       "<div>\n",
       "<style scoped>\n",
       "    .dataframe tbody tr th:only-of-type {\n",
       "        vertical-align: middle;\n",
       "    }\n",
       "\n",
       "    .dataframe tbody tr th {\n",
       "        vertical-align: top;\n",
       "    }\n",
       "\n",
       "    .dataframe thead th {\n",
       "        text-align: right;\n",
       "    }\n",
       "</style>\n",
       "<table border=\"1\" class=\"dataframe\">\n",
       "  <thead>\n",
       "    <tr style=\"text-align: right;\">\n",
       "      <th></th>\n",
       "      <th>id</th>\n",
       "      <th>keyword</th>\n",
       "      <th>location</th>\n",
       "      <th>text</th>\n",
       "    </tr>\n",
       "  </thead>\n",
       "  <tbody>\n",
       "    <tr>\n",
       "      <th>0</th>\n",
       "      <td>0</td>\n",
       "      <td>NaN</td>\n",
       "      <td>NaN</td>\n",
       "      <td>Just happened a terrible car crash</td>\n",
       "    </tr>\n",
       "    <tr>\n",
       "      <th>1</th>\n",
       "      <td>2</td>\n",
       "      <td>NaN</td>\n",
       "      <td>NaN</td>\n",
       "      <td>Heard about #earthquake is different cities, s...</td>\n",
       "    </tr>\n",
       "    <tr>\n",
       "      <th>2</th>\n",
       "      <td>3</td>\n",
       "      <td>NaN</td>\n",
       "      <td>NaN</td>\n",
       "      <td>there is a forest fire at spot pond, geese are...</td>\n",
       "    </tr>\n",
       "    <tr>\n",
       "      <th>3</th>\n",
       "      <td>9</td>\n",
       "      <td>NaN</td>\n",
       "      <td>NaN</td>\n",
       "      <td>Apocalypse lighting. #Spokane #wildfires</td>\n",
       "    </tr>\n",
       "    <tr>\n",
       "      <th>4</th>\n",
       "      <td>11</td>\n",
       "      <td>NaN</td>\n",
       "      <td>NaN</td>\n",
       "      <td>Typhoon Soudelor kills 28 in China and Taiwan</td>\n",
       "    </tr>\n",
       "    <tr>\n",
       "      <th>...</th>\n",
       "      <td>...</td>\n",
       "      <td>...</td>\n",
       "      <td>...</td>\n",
       "      <td>...</td>\n",
       "    </tr>\n",
       "    <tr>\n",
       "      <th>3258</th>\n",
       "      <td>10861</td>\n",
       "      <td>NaN</td>\n",
       "      <td>NaN</td>\n",
       "      <td>EARTHQUAKE SAFETY LOS ANGELES ÛÒ SAFETY FASTE...</td>\n",
       "    </tr>\n",
       "    <tr>\n",
       "      <th>3259</th>\n",
       "      <td>10865</td>\n",
       "      <td>NaN</td>\n",
       "      <td>NaN</td>\n",
       "      <td>Storm in RI worse than last hurricane. My city...</td>\n",
       "    </tr>\n",
       "    <tr>\n",
       "      <th>3260</th>\n",
       "      <td>10868</td>\n",
       "      <td>NaN</td>\n",
       "      <td>NaN</td>\n",
       "      <td>Green Line derailment in Chicago http://t.co/U...</td>\n",
       "    </tr>\n",
       "    <tr>\n",
       "      <th>3261</th>\n",
       "      <td>10874</td>\n",
       "      <td>NaN</td>\n",
       "      <td>NaN</td>\n",
       "      <td>MEG issues Hazardous Weather Outlook (HWO) htt...</td>\n",
       "    </tr>\n",
       "    <tr>\n",
       "      <th>3262</th>\n",
       "      <td>10875</td>\n",
       "      <td>NaN</td>\n",
       "      <td>NaN</td>\n",
       "      <td>#CityofCalgary has activated its Municipal Eme...</td>\n",
       "    </tr>\n",
       "  </tbody>\n",
       "</table>\n",
       "<p>3263 rows × 4 columns</p>\n",
       "</div>"
      ],
      "text/plain": [
       "         id keyword location  \\\n",
       "0         0     NaN      NaN   \n",
       "1         2     NaN      NaN   \n",
       "2         3     NaN      NaN   \n",
       "3         9     NaN      NaN   \n",
       "4        11     NaN      NaN   \n",
       "...     ...     ...      ...   \n",
       "3258  10861     NaN      NaN   \n",
       "3259  10865     NaN      NaN   \n",
       "3260  10868     NaN      NaN   \n",
       "3261  10874     NaN      NaN   \n",
       "3262  10875     NaN      NaN   \n",
       "\n",
       "                                                   text  \n",
       "0                    Just happened a terrible car crash  \n",
       "1     Heard about #earthquake is different cities, s...  \n",
       "2     there is a forest fire at spot pond, geese are...  \n",
       "3              Apocalypse lighting. #Spokane #wildfires  \n",
       "4         Typhoon Soudelor kills 28 in China and Taiwan  \n",
       "...                                                 ...  \n",
       "3258  EARTHQUAKE SAFETY LOS ANGELES ÛÒ SAFETY FASTE...  \n",
       "3259  Storm in RI worse than last hurricane. My city...  \n",
       "3260  Green Line derailment in Chicago http://t.co/U...  \n",
       "3261  MEG issues Hazardous Weather Outlook (HWO) htt...  \n",
       "3262  #CityofCalgary has activated its Municipal Eme...  \n",
       "\n",
       "[3263 rows x 4 columns]"
      ]
     },
     "execution_count": 4,
     "metadata": {},
     "output_type": "execute_result"
    }
   ],
   "source": [
    "df_test"
   ]
  },
  {
   "cell_type": "code",
   "execution_count": 5,
   "metadata": {
    "execution": {
     "iopub.execute_input": "2020-10-24T09:44:02.942789Z",
     "iopub.status.busy": "2020-10-24T09:44:02.936548Z",
     "iopub.status.idle": "2020-10-24T09:44:02.949916Z",
     "shell.execute_reply": "2020-10-24T09:44:02.949090Z"
    },
    "papermill": {
     "duration": 0.139819,
     "end_time": "2020-10-24T09:44:02.950070",
     "exception": false,
     "start_time": "2020-10-24T09:44:02.810251",
     "status": "completed"
    },
    "tags": []
   },
   "outputs": [
    {
     "name": "stdout",
     "output_type": "stream",
     "text": [
      "<class 'pandas.core.frame.DataFrame'>\n",
      "RangeIndex: 7613 entries, 0 to 7612\n",
      "Data columns (total 5 columns):\n",
      " #   Column    Non-Null Count  Dtype \n",
      "---  ------    --------------  ----- \n",
      " 0   id        7613 non-null   int64 \n",
      " 1   keyword   7552 non-null   object\n",
      " 2   location  5080 non-null   object\n",
      " 3   text      7613 non-null   object\n",
      " 4   target    7613 non-null   int64 \n",
      "dtypes: int64(2), object(3)\n",
      "memory usage: 297.5+ KB\n"
     ]
    }
   ],
   "source": [
    "df_train.info()"
   ]
  },
  {
   "cell_type": "code",
   "execution_count": 6,
   "metadata": {
    "execution": {
     "iopub.execute_input": "2020-10-24T09:44:03.199048Z",
     "iopub.status.busy": "2020-10-24T09:44:03.196458Z",
     "iopub.status.idle": "2020-10-24T09:44:03.202818Z",
     "shell.execute_reply": "2020-10-24T09:44:03.203398Z"
    },
    "papermill": {
     "duration": 0.135553,
     "end_time": "2020-10-24T09:44:03.203565",
     "exception": false,
     "start_time": "2020-10-24T09:44:03.068012",
     "status": "completed"
    },
    "tags": []
   },
   "outputs": [
    {
     "data": {
      "text/plain": [
       "(id             0\n",
       " keyword       61\n",
       " location    2533\n",
       " text           0\n",
       " target         0\n",
       " dtype: int64,\n",
       " id             0\n",
       " keyword       26\n",
       " location    1105\n",
       " text           0\n",
       " dtype: int64)"
      ]
     },
     "execution_count": 6,
     "metadata": {},
     "output_type": "execute_result"
    }
   ],
   "source": [
    "df_train.isnull().sum(), df_test.isnull().sum() "
   ]
  },
  {
   "cell_type": "code",
   "execution_count": 7,
   "metadata": {
    "execution": {
     "iopub.execute_input": "2020-10-24T09:44:03.453509Z",
     "iopub.status.busy": "2020-10-24T09:44:03.452523Z",
     "iopub.status.idle": "2020-10-24T09:44:03.455657Z",
     "shell.execute_reply": "2020-10-24T09:44:03.455044Z"
    },
    "papermill": {
     "duration": 0.132971,
     "end_time": "2020-10-24T09:44:03.455784",
     "exception": false,
     "start_time": "2020-10-24T09:44:03.322813",
     "status": "completed"
    },
    "tags": []
   },
   "outputs": [],
   "source": [
    "df_train.drop(['location','keyword','id'],axis=1,inplace=True)\n",
    "df_test.drop(['location','keyword','id'],axis=1,inplace=True)"
   ]
  },
  {
   "cell_type": "code",
   "execution_count": 8,
   "metadata": {
    "execution": {
     "iopub.execute_input": "2020-10-24T09:44:03.736165Z",
     "iopub.status.busy": "2020-10-24T09:44:03.735075Z",
     "iopub.status.idle": "2020-10-24T09:44:03.743009Z",
     "shell.execute_reply": "2020-10-24T09:44:03.742433Z"
    },
    "papermill": {
     "duration": 0.167692,
     "end_time": "2020-10-24T09:44:03.743140",
     "exception": false,
     "start_time": "2020-10-24T09:44:03.575448",
     "status": "completed"
    },
    "tags": []
   },
   "outputs": [
    {
     "data": {
      "text/html": [
       "<div>\n",
       "<style scoped>\n",
       "    .dataframe tbody tr th:only-of-type {\n",
       "        vertical-align: middle;\n",
       "    }\n",
       "\n",
       "    .dataframe tbody tr th {\n",
       "        vertical-align: top;\n",
       "    }\n",
       "\n",
       "    .dataframe thead th {\n",
       "        text-align: right;\n",
       "    }\n",
       "</style>\n",
       "<table border=\"1\" class=\"dataframe\">\n",
       "  <thead>\n",
       "    <tr style=\"text-align: right;\">\n",
       "      <th></th>\n",
       "      <th>text</th>\n",
       "      <th>target</th>\n",
       "    </tr>\n",
       "  </thead>\n",
       "  <tbody>\n",
       "    <tr>\n",
       "      <th>0</th>\n",
       "      <td>Our Deeds are the Reason of this #earthquake M...</td>\n",
       "      <td>1</td>\n",
       "    </tr>\n",
       "    <tr>\n",
       "      <th>1</th>\n",
       "      <td>Forest fire near La Ronge Sask. Canada</td>\n",
       "      <td>1</td>\n",
       "    </tr>\n",
       "    <tr>\n",
       "      <th>2</th>\n",
       "      <td>All residents asked to 'shelter in place' are ...</td>\n",
       "      <td>1</td>\n",
       "    </tr>\n",
       "    <tr>\n",
       "      <th>3</th>\n",
       "      <td>13,000 people receive #wildfires evacuation or...</td>\n",
       "      <td>1</td>\n",
       "    </tr>\n",
       "    <tr>\n",
       "      <th>4</th>\n",
       "      <td>Just got sent this photo from Ruby #Alaska as ...</td>\n",
       "      <td>1</td>\n",
       "    </tr>\n",
       "    <tr>\n",
       "      <th>...</th>\n",
       "      <td>...</td>\n",
       "      <td>...</td>\n",
       "    </tr>\n",
       "    <tr>\n",
       "      <th>7608</th>\n",
       "      <td>Two giant cranes holding a bridge collapse int...</td>\n",
       "      <td>1</td>\n",
       "    </tr>\n",
       "    <tr>\n",
       "      <th>7609</th>\n",
       "      <td>@aria_ahrary @TheTawniest The out of control w...</td>\n",
       "      <td>1</td>\n",
       "    </tr>\n",
       "    <tr>\n",
       "      <th>7610</th>\n",
       "      <td>M1.94 [01:04 UTC]?5km S of Volcano Hawaii. htt...</td>\n",
       "      <td>1</td>\n",
       "    </tr>\n",
       "    <tr>\n",
       "      <th>7611</th>\n",
       "      <td>Police investigating after an e-bike collided ...</td>\n",
       "      <td>1</td>\n",
       "    </tr>\n",
       "    <tr>\n",
       "      <th>7612</th>\n",
       "      <td>The Latest: More Homes Razed by Northern Calif...</td>\n",
       "      <td>1</td>\n",
       "    </tr>\n",
       "  </tbody>\n",
       "</table>\n",
       "<p>7613 rows × 2 columns</p>\n",
       "</div>"
      ],
      "text/plain": [
       "                                                   text  target\n",
       "0     Our Deeds are the Reason of this #earthquake M...       1\n",
       "1                Forest fire near La Ronge Sask. Canada       1\n",
       "2     All residents asked to 'shelter in place' are ...       1\n",
       "3     13,000 people receive #wildfires evacuation or...       1\n",
       "4     Just got sent this photo from Ruby #Alaska as ...       1\n",
       "...                                                 ...     ...\n",
       "7608  Two giant cranes holding a bridge collapse int...       1\n",
       "7609  @aria_ahrary @TheTawniest The out of control w...       1\n",
       "7610  M1.94 [01:04 UTC]?5km S of Volcano Hawaii. htt...       1\n",
       "7611  Police investigating after an e-bike collided ...       1\n",
       "7612  The Latest: More Homes Razed by Northern Calif...       1\n",
       "\n",
       "[7613 rows x 2 columns]"
      ]
     },
     "execution_count": 8,
     "metadata": {},
     "output_type": "execute_result"
    }
   ],
   "source": [
    "df_train"
   ]
  },
  {
   "cell_type": "code",
   "execution_count": 9,
   "metadata": {
    "execution": {
     "iopub.execute_input": "2020-10-24T09:44:04.003792Z",
     "iopub.status.busy": "2020-10-24T09:44:04.002706Z",
     "iopub.status.idle": "2020-10-24T09:44:04.007212Z",
     "shell.execute_reply": "2020-10-24T09:44:04.006621Z"
    },
    "papermill": {
     "duration": 0.138605,
     "end_time": "2020-10-24T09:44:04.007356",
     "exception": false,
     "start_time": "2020-10-24T09:44:03.868751",
     "status": "completed"
    },
    "tags": []
   },
   "outputs": [
    {
     "data": {
      "text/html": [
       "<div>\n",
       "<style scoped>\n",
       "    .dataframe tbody tr th:only-of-type {\n",
       "        vertical-align: middle;\n",
       "    }\n",
       "\n",
       "    .dataframe tbody tr th {\n",
       "        vertical-align: top;\n",
       "    }\n",
       "\n",
       "    .dataframe thead th {\n",
       "        text-align: right;\n",
       "    }\n",
       "</style>\n",
       "<table border=\"1\" class=\"dataframe\">\n",
       "  <thead>\n",
       "    <tr style=\"text-align: right;\">\n",
       "      <th></th>\n",
       "      <th>text</th>\n",
       "    </tr>\n",
       "  </thead>\n",
       "  <tbody>\n",
       "    <tr>\n",
       "      <th>0</th>\n",
       "      <td>Just happened a terrible car crash</td>\n",
       "    </tr>\n",
       "    <tr>\n",
       "      <th>1</th>\n",
       "      <td>Heard about #earthquake is different cities, s...</td>\n",
       "    </tr>\n",
       "    <tr>\n",
       "      <th>2</th>\n",
       "      <td>there is a forest fire at spot pond, geese are...</td>\n",
       "    </tr>\n",
       "    <tr>\n",
       "      <th>3</th>\n",
       "      <td>Apocalypse lighting. #Spokane #wildfires</td>\n",
       "    </tr>\n",
       "    <tr>\n",
       "      <th>4</th>\n",
       "      <td>Typhoon Soudelor kills 28 in China and Taiwan</td>\n",
       "    </tr>\n",
       "    <tr>\n",
       "      <th>...</th>\n",
       "      <td>...</td>\n",
       "    </tr>\n",
       "    <tr>\n",
       "      <th>3258</th>\n",
       "      <td>EARTHQUAKE SAFETY LOS ANGELES ÛÒ SAFETY FASTE...</td>\n",
       "    </tr>\n",
       "    <tr>\n",
       "      <th>3259</th>\n",
       "      <td>Storm in RI worse than last hurricane. My city...</td>\n",
       "    </tr>\n",
       "    <tr>\n",
       "      <th>3260</th>\n",
       "      <td>Green Line derailment in Chicago http://t.co/U...</td>\n",
       "    </tr>\n",
       "    <tr>\n",
       "      <th>3261</th>\n",
       "      <td>MEG issues Hazardous Weather Outlook (HWO) htt...</td>\n",
       "    </tr>\n",
       "    <tr>\n",
       "      <th>3262</th>\n",
       "      <td>#CityofCalgary has activated its Municipal Eme...</td>\n",
       "    </tr>\n",
       "  </tbody>\n",
       "</table>\n",
       "<p>3263 rows × 1 columns</p>\n",
       "</div>"
      ],
      "text/plain": [
       "                                                   text\n",
       "0                    Just happened a terrible car crash\n",
       "1     Heard about #earthquake is different cities, s...\n",
       "2     there is a forest fire at spot pond, geese are...\n",
       "3              Apocalypse lighting. #Spokane #wildfires\n",
       "4         Typhoon Soudelor kills 28 in China and Taiwan\n",
       "...                                                 ...\n",
       "3258  EARTHQUAKE SAFETY LOS ANGELES ÛÒ SAFETY FASTE...\n",
       "3259  Storm in RI worse than last hurricane. My city...\n",
       "3260  Green Line derailment in Chicago http://t.co/U...\n",
       "3261  MEG issues Hazardous Weather Outlook (HWO) htt...\n",
       "3262  #CityofCalgary has activated its Municipal Eme...\n",
       "\n",
       "[3263 rows x 1 columns]"
      ]
     },
     "execution_count": 9,
     "metadata": {},
     "output_type": "execute_result"
    }
   ],
   "source": [
    "df_test"
   ]
  },
  {
   "cell_type": "markdown",
   "metadata": {
    "papermill": {
     "duration": 0.121856,
     "end_time": "2020-10-24T09:44:04.253051",
     "exception": false,
     "start_time": "2020-10-24T09:44:04.131195",
     "status": "completed"
    },
    "tags": []
   },
   "source": [
    "#### First level of text cleanup removing special characters and unwanted symbols and lowering every word using Regex."
   ]
  },
  {
   "cell_type": "code",
   "execution_count": 10,
   "metadata": {
    "execution": {
     "iopub.execute_input": "2020-10-24T09:44:04.502529Z",
     "iopub.status.busy": "2020-10-24T09:44:04.501793Z",
     "iopub.status.idle": "2020-10-24T09:44:04.504294Z",
     "shell.execute_reply": "2020-10-24T09:44:04.504876Z"
    },
    "papermill": {
     "duration": 0.12992,
     "end_time": "2020-10-24T09:44:04.505023",
     "exception": false,
     "start_time": "2020-10-24T09:44:04.375103",
     "status": "completed"
    },
    "tags": []
   },
   "outputs": [],
   "source": [
    "def remove_symbols_low(dfcolumns):\n",
    "    dfcolumns = dfcolumns.str.replace(r'\\W',' ')\n",
    "    dfcolumns = dfcolumns.str.lower()\n",
    "    return dfcolumns"
   ]
  },
  {
   "cell_type": "code",
   "execution_count": 11,
   "metadata": {
    "execution": {
     "iopub.execute_input": "2020-10-24T09:44:04.800992Z",
     "iopub.status.busy": "2020-10-24T09:44:04.795925Z",
     "iopub.status.idle": "2020-10-24T09:44:04.824595Z",
     "shell.execute_reply": "2020-10-24T09:44:04.825371Z"
    },
    "papermill": {
     "duration": 0.19465,
     "end_time": "2020-10-24T09:44:04.825578",
     "exception": false,
     "start_time": "2020-10-24T09:44:04.630928",
     "status": "completed"
    },
    "tags": []
   },
   "outputs": [
    {
     "data": {
      "text/html": [
       "<div>\n",
       "<style scoped>\n",
       "    .dataframe tbody tr th:only-of-type {\n",
       "        vertical-align: middle;\n",
       "    }\n",
       "\n",
       "    .dataframe tbody tr th {\n",
       "        vertical-align: top;\n",
       "    }\n",
       "\n",
       "    .dataframe thead th {\n",
       "        text-align: right;\n",
       "    }\n",
       "</style>\n",
       "<table border=\"1\" class=\"dataframe\">\n",
       "  <thead>\n",
       "    <tr style=\"text-align: right;\">\n",
       "      <th></th>\n",
       "      <th>text</th>\n",
       "    </tr>\n",
       "  </thead>\n",
       "  <tbody>\n",
       "    <tr>\n",
       "      <th>0</th>\n",
       "      <td>just happened a terrible car crash</td>\n",
       "    </tr>\n",
       "    <tr>\n",
       "      <th>1</th>\n",
       "      <td>heard about  earthquake is different cities  s...</td>\n",
       "    </tr>\n",
       "    <tr>\n",
       "      <th>2</th>\n",
       "      <td>there is a forest fire at spot pond  geese are...</td>\n",
       "    </tr>\n",
       "    <tr>\n",
       "      <th>3</th>\n",
       "      <td>apocalypse lighting   spokane  wildfires</td>\n",
       "    </tr>\n",
       "    <tr>\n",
       "      <th>4</th>\n",
       "      <td>typhoon soudelor kills 28 in china and taiwan</td>\n",
       "    </tr>\n",
       "    <tr>\n",
       "      <th>...</th>\n",
       "      <td>...</td>\n",
       "    </tr>\n",
       "    <tr>\n",
       "      <th>3258</th>\n",
       "      <td>earthquake safety los angeles  ûò safety faste...</td>\n",
       "    </tr>\n",
       "    <tr>\n",
       "      <th>3259</th>\n",
       "      <td>storm in ri worse than last hurricane  my city...</td>\n",
       "    </tr>\n",
       "    <tr>\n",
       "      <th>3260</th>\n",
       "      <td>green line derailment in chicago http   t co u...</td>\n",
       "    </tr>\n",
       "    <tr>\n",
       "      <th>3261</th>\n",
       "      <td>meg issues hazardous weather outlook  hwo  htt...</td>\n",
       "    </tr>\n",
       "    <tr>\n",
       "      <th>3262</th>\n",
       "      <td>cityofcalgary has activated its municipal eme...</td>\n",
       "    </tr>\n",
       "  </tbody>\n",
       "</table>\n",
       "<p>3263 rows × 1 columns</p>\n",
       "</div>"
      ],
      "text/plain": [
       "                                                   text\n",
       "0                    just happened a terrible car crash\n",
       "1     heard about  earthquake is different cities  s...\n",
       "2     there is a forest fire at spot pond  geese are...\n",
       "3              apocalypse lighting   spokane  wildfires\n",
       "4         typhoon soudelor kills 28 in china and taiwan\n",
       "...                                                 ...\n",
       "3258  earthquake safety los angeles  ûò safety faste...\n",
       "3259  storm in ri worse than last hurricane  my city...\n",
       "3260  green line derailment in chicago http   t co u...\n",
       "3261  meg issues hazardous weather outlook  hwo  htt...\n",
       "3262   cityofcalgary has activated its municipal eme...\n",
       "\n",
       "[3263 rows x 1 columns]"
      ]
     },
     "execution_count": 11,
     "metadata": {},
     "output_type": "execute_result"
    }
   ],
   "source": [
    "df_test.text = remove_symbols_low(df_test.text)\n",
    "df_test"
   ]
  },
  {
   "cell_type": "code",
   "execution_count": 12,
   "metadata": {
    "execution": {
     "iopub.execute_input": "2020-10-24T09:44:05.128079Z",
     "iopub.status.busy": "2020-10-24T09:44:05.117855Z",
     "iopub.status.idle": "2020-10-24T09:44:05.201305Z",
     "shell.execute_reply": "2020-10-24T09:44:05.200335Z"
    },
    "papermill": {
     "duration": 0.233392,
     "end_time": "2020-10-24T09:44:05.201461",
     "exception": false,
     "start_time": "2020-10-24T09:44:04.968069",
     "status": "completed"
    },
    "tags": []
   },
   "outputs": [
    {
     "data": {
      "text/html": [
       "<div>\n",
       "<style scoped>\n",
       "    .dataframe tbody tr th:only-of-type {\n",
       "        vertical-align: middle;\n",
       "    }\n",
       "\n",
       "    .dataframe tbody tr th {\n",
       "        vertical-align: top;\n",
       "    }\n",
       "\n",
       "    .dataframe thead th {\n",
       "        text-align: right;\n",
       "    }\n",
       "</style>\n",
       "<table border=\"1\" class=\"dataframe\">\n",
       "  <thead>\n",
       "    <tr style=\"text-align: right;\">\n",
       "      <th></th>\n",
       "      <th>text</th>\n",
       "      <th>target</th>\n",
       "    </tr>\n",
       "  </thead>\n",
       "  <tbody>\n",
       "    <tr>\n",
       "      <th>0</th>\n",
       "      <td>our deeds are the reason of this  earthquake m...</td>\n",
       "      <td>1</td>\n",
       "    </tr>\n",
       "    <tr>\n",
       "      <th>1</th>\n",
       "      <td>forest fire near la ronge sask  canada</td>\n",
       "      <td>1</td>\n",
       "    </tr>\n",
       "    <tr>\n",
       "      <th>2</th>\n",
       "      <td>all residents asked to  shelter in place  are ...</td>\n",
       "      <td>1</td>\n",
       "    </tr>\n",
       "    <tr>\n",
       "      <th>3</th>\n",
       "      <td>13 000 people receive  wildfires evacuation or...</td>\n",
       "      <td>1</td>\n",
       "    </tr>\n",
       "    <tr>\n",
       "      <th>4</th>\n",
       "      <td>just got sent this photo from ruby  alaska as ...</td>\n",
       "      <td>1</td>\n",
       "    </tr>\n",
       "    <tr>\n",
       "      <th>...</th>\n",
       "      <td>...</td>\n",
       "      <td>...</td>\n",
       "    </tr>\n",
       "    <tr>\n",
       "      <th>7608</th>\n",
       "      <td>two giant cranes holding a bridge collapse int...</td>\n",
       "      <td>1</td>\n",
       "    </tr>\n",
       "    <tr>\n",
       "      <th>7609</th>\n",
       "      <td>aria_ahrary  thetawniest the out of control w...</td>\n",
       "      <td>1</td>\n",
       "    </tr>\n",
       "    <tr>\n",
       "      <th>7610</th>\n",
       "      <td>m1 94  01 04 utc  5km s of volcano hawaii  htt...</td>\n",
       "      <td>1</td>\n",
       "    </tr>\n",
       "    <tr>\n",
       "      <th>7611</th>\n",
       "      <td>police investigating after an e bike collided ...</td>\n",
       "      <td>1</td>\n",
       "    </tr>\n",
       "    <tr>\n",
       "      <th>7612</th>\n",
       "      <td>the latest  more homes razed by northern calif...</td>\n",
       "      <td>1</td>\n",
       "    </tr>\n",
       "  </tbody>\n",
       "</table>\n",
       "<p>7613 rows × 2 columns</p>\n",
       "</div>"
      ],
      "text/plain": [
       "                                                   text  target\n",
       "0     our deeds are the reason of this  earthquake m...       1\n",
       "1                forest fire near la ronge sask  canada       1\n",
       "2     all residents asked to  shelter in place  are ...       1\n",
       "3     13 000 people receive  wildfires evacuation or...       1\n",
       "4     just got sent this photo from ruby  alaska as ...       1\n",
       "...                                                 ...     ...\n",
       "7608  two giant cranes holding a bridge collapse int...       1\n",
       "7609   aria_ahrary  thetawniest the out of control w...       1\n",
       "7610  m1 94  01 04 utc  5km s of volcano hawaii  htt...       1\n",
       "7611  police investigating after an e bike collided ...       1\n",
       "7612  the latest  more homes razed by northern calif...       1\n",
       "\n",
       "[7613 rows x 2 columns]"
      ]
     },
     "execution_count": 12,
     "metadata": {},
     "output_type": "execute_result"
    }
   ],
   "source": [
    "df_train.text = remove_symbols_low(df_train.text)\n",
    "df_train"
   ]
  },
  {
   "cell_type": "code",
   "execution_count": 13,
   "metadata": {
    "execution": {
     "iopub.execute_input": "2020-10-24T09:44:05.460494Z",
     "iopub.status.busy": "2020-10-24T09:44:05.459577Z",
     "iopub.status.idle": "2020-10-24T09:44:05.464558Z",
     "shell.execute_reply": "2020-10-24T09:44:05.463827Z"
    },
    "papermill": {
     "duration": 0.131544,
     "end_time": "2020-10-24T09:44:05.464684",
     "exception": false,
     "start_time": "2020-10-24T09:44:05.333140",
     "status": "completed"
    },
    "tags": []
   },
   "outputs": [
    {
     "data": {
      "text/plain": [
       "' rockyfire update    california hwy  20 closed in both directions due to lake county fire    cafire  wildfires'"
      ]
     },
     "execution_count": 13,
     "metadata": {},
     "output_type": "execute_result"
    }
   ],
   "source": [
    "df_train.loc[5 ,\"text\"]"
   ]
  },
  {
   "cell_type": "code",
   "execution_count": 14,
   "metadata": {
    "execution": {
     "iopub.execute_input": "2020-10-24T09:44:05.719207Z",
     "iopub.status.busy": "2020-10-24T09:44:05.718132Z",
     "iopub.status.idle": "2020-10-24T09:44:05.721830Z",
     "shell.execute_reply": "2020-10-24T09:44:05.721197Z"
    },
    "papermill": {
     "duration": 0.134241,
     "end_time": "2020-10-24T09:44:05.721977",
     "exception": false,
     "start_time": "2020-10-24T09:44:05.587736",
     "status": "completed"
    },
    "tags": []
   },
   "outputs": [],
   "source": [
    "def rem_non(data):\n",
    "    data = re.sub('\\n',' ',data)\n",
    "    data = re.sub('\\t',' ',data)\n",
    "    data = re.sub('https?://\\S+|www\\.\\S+',' ',data)\n",
    "    return data\n",
    "remnon = lambda x: rem_non(x)"
   ]
  },
  {
   "cell_type": "code",
   "execution_count": 15,
   "metadata": {
    "execution": {
     "iopub.execute_input": "2020-10-24T09:44:06.012919Z",
     "iopub.status.busy": "2020-10-24T09:44:05.993893Z",
     "iopub.status.idle": "2020-10-24T09:44:06.071006Z",
     "shell.execute_reply": "2020-10-24T09:44:06.070322Z"
    },
    "papermill": {
     "duration": 0.225757,
     "end_time": "2020-10-24T09:44:06.071135",
     "exception": false,
     "start_time": "2020-10-24T09:44:05.845378",
     "status": "completed"
    },
    "tags": []
   },
   "outputs": [],
   "source": [
    "df_test.text = df_test.text.apply(remnon)\n",
    "df_train.text =df_train.text.apply(remnon)"
   ]
  },
  {
   "cell_type": "code",
   "execution_count": 16,
   "metadata": {
    "execution": {
     "iopub.execute_input": "2020-10-24T09:44:06.370033Z",
     "iopub.status.busy": "2020-10-24T09:44:06.368994Z",
     "iopub.status.idle": "2020-10-24T09:44:06.373608Z",
     "shell.execute_reply": "2020-10-24T09:44:06.372861Z"
    },
    "papermill": {
     "duration": 0.132483,
     "end_time": "2020-10-24T09:44:06.373732",
     "exception": false,
     "start_time": "2020-10-24T09:44:06.241249",
     "status": "completed"
    },
    "tags": []
   },
   "outputs": [
    {
     "data": {
      "text/plain": [
       "' rockyfire update    california hwy  20 closed in both directions due to lake county fire    cafire  wildfires'"
      ]
     },
     "execution_count": 16,
     "metadata": {},
     "output_type": "execute_result"
    }
   ],
   "source": [
    "df_train.loc[5 ,\"text\"]"
   ]
  },
  {
   "cell_type": "markdown",
   "metadata": {
    "papermill": {
     "duration": 0.123689,
     "end_time": "2020-10-24T09:44:06.621562",
     "exception": false,
     "start_time": "2020-10-24T09:44:06.497873",
     "status": "completed"
    },
    "tags": []
   },
   "source": [
    "#### Second level of cleaning"
   ]
  },
  {
   "cell_type": "markdown",
   "metadata": {
    "papermill": {
     "duration": 0.122765,
     "end_time": "2020-10-24T09:44:06.870298",
     "exception": false,
     "start_time": "2020-10-24T09:44:06.747533",
     "status": "completed"
    },
    "tags": []
   },
   "source": [
    "###### Cleaning digits "
   ]
  },
  {
   "cell_type": "code",
   "execution_count": 17,
   "metadata": {
    "execution": {
     "iopub.execute_input": "2020-10-24T09:44:07.136189Z",
     "iopub.status.busy": "2020-10-24T09:44:07.131082Z",
     "iopub.status.idle": "2020-10-24T09:44:07.196793Z",
     "shell.execute_reply": "2020-10-24T09:44:07.196199Z"
    },
    "papermill": {
     "duration": 0.201885,
     "end_time": "2020-10-24T09:44:07.196926",
     "exception": false,
     "start_time": "2020-10-24T09:44:06.995041",
     "status": "completed"
    },
    "tags": []
   },
   "outputs": [
    {
     "data": {
      "text/html": [
       "<div>\n",
       "<style scoped>\n",
       "    .dataframe tbody tr th:only-of-type {\n",
       "        vertical-align: middle;\n",
       "    }\n",
       "\n",
       "    .dataframe tbody tr th {\n",
       "        vertical-align: top;\n",
       "    }\n",
       "\n",
       "    .dataframe thead th {\n",
       "        text-align: right;\n",
       "    }\n",
       "</style>\n",
       "<table border=\"1\" class=\"dataframe\">\n",
       "  <thead>\n",
       "    <tr style=\"text-align: right;\">\n",
       "      <th></th>\n",
       "      <th>text</th>\n",
       "    </tr>\n",
       "  </thead>\n",
       "  <tbody>\n",
       "    <tr>\n",
       "      <th>0</th>\n",
       "      <td>[just, happened, a, terrible, car, crash]</td>\n",
       "    </tr>\n",
       "    <tr>\n",
       "      <th>1</th>\n",
       "      <td>[heard, about, earthquake, is, different, citi...</td>\n",
       "    </tr>\n",
       "    <tr>\n",
       "      <th>2</th>\n",
       "      <td>[there, is, a, forest, fire, at, spot, pond, g...</td>\n",
       "    </tr>\n",
       "    <tr>\n",
       "      <th>3</th>\n",
       "      <td>[apocalypse, lighting, spokane, wildfires]</td>\n",
       "    </tr>\n",
       "    <tr>\n",
       "      <th>4</th>\n",
       "      <td>[typhoon, soudelor, kills, in, china, and, tai...</td>\n",
       "    </tr>\n",
       "    <tr>\n",
       "      <th>...</th>\n",
       "      <td>...</td>\n",
       "    </tr>\n",
       "    <tr>\n",
       "      <th>3258</th>\n",
       "      <td>[earthquake, safety, los, angeles, safety, fas...</td>\n",
       "    </tr>\n",
       "    <tr>\n",
       "      <th>3259</th>\n",
       "      <td>[storm, in, ri, worse, than, last, hurricane, ...</td>\n",
       "    </tr>\n",
       "    <tr>\n",
       "      <th>3260</th>\n",
       "      <td>[green, line, derailment, in, chicago, http, t...</td>\n",
       "    </tr>\n",
       "    <tr>\n",
       "      <th>3261</th>\n",
       "      <td>[meg, issues, hazardous, weather, outlook, hwo...</td>\n",
       "    </tr>\n",
       "    <tr>\n",
       "      <th>3262</th>\n",
       "      <td>[cityofcalgary, has, activated, its, municipal...</td>\n",
       "    </tr>\n",
       "  </tbody>\n",
       "</table>\n",
       "<p>3263 rows × 1 columns</p>\n",
       "</div>"
      ],
      "text/plain": [
       "                                                   text\n",
       "0             [just, happened, a, terrible, car, crash]\n",
       "1     [heard, about, earthquake, is, different, citi...\n",
       "2     [there, is, a, forest, fire, at, spot, pond, g...\n",
       "3            [apocalypse, lighting, spokane, wildfires]\n",
       "4     [typhoon, soudelor, kills, in, china, and, tai...\n",
       "...                                                 ...\n",
       "3258  [earthquake, safety, los, angeles, safety, fas...\n",
       "3259  [storm, in, ri, worse, than, last, hurricane, ...\n",
       "3260  [green, line, derailment, in, chicago, http, t...\n",
       "3261  [meg, issues, hazardous, weather, outlook, hwo...\n",
       "3262  [cityofcalgary, has, activated, its, municipal...\n",
       "\n",
       "[3263 rows x 1 columns]"
      ]
     },
     "execution_count": 17,
     "metadata": {},
     "output_type": "execute_result"
    }
   ],
   "source": [
    "def num_remove(data):\n",
    "    data = re.sub('[^a-zA-Z]',' ',data)\n",
    "    data = data.split()\n",
    "    return data\n",
    "df_test.text = df_test.text.apply(num_remove)\n",
    "df_test"
   ]
  },
  {
   "cell_type": "code",
   "execution_count": 18,
   "metadata": {
    "execution": {
     "iopub.execute_input": "2020-10-24T09:44:07.482351Z",
     "iopub.status.busy": "2020-10-24T09:44:07.466642Z",
     "iopub.status.idle": "2020-10-24T09:44:07.602546Z",
     "shell.execute_reply": "2020-10-24T09:44:07.601942Z"
    },
    "papermill": {
     "duration": 0.276345,
     "end_time": "2020-10-24T09:44:07.602675",
     "exception": false,
     "start_time": "2020-10-24T09:44:07.326330",
     "status": "completed"
    },
    "tags": []
   },
   "outputs": [
    {
     "data": {
      "text/html": [
       "<div>\n",
       "<style scoped>\n",
       "    .dataframe tbody tr th:only-of-type {\n",
       "        vertical-align: middle;\n",
       "    }\n",
       "\n",
       "    .dataframe tbody tr th {\n",
       "        vertical-align: top;\n",
       "    }\n",
       "\n",
       "    .dataframe thead th {\n",
       "        text-align: right;\n",
       "    }\n",
       "</style>\n",
       "<table border=\"1\" class=\"dataframe\">\n",
       "  <thead>\n",
       "    <tr style=\"text-align: right;\">\n",
       "      <th></th>\n",
       "      <th>text</th>\n",
       "      <th>target</th>\n",
       "    </tr>\n",
       "  </thead>\n",
       "  <tbody>\n",
       "    <tr>\n",
       "      <th>0</th>\n",
       "      <td>[our, deeds, are, the, reason, of, this, earth...</td>\n",
       "      <td>1</td>\n",
       "    </tr>\n",
       "    <tr>\n",
       "      <th>1</th>\n",
       "      <td>[forest, fire, near, la, ronge, sask, canada]</td>\n",
       "      <td>1</td>\n",
       "    </tr>\n",
       "    <tr>\n",
       "      <th>2</th>\n",
       "      <td>[all, residents, asked, to, shelter, in, place...</td>\n",
       "      <td>1</td>\n",
       "    </tr>\n",
       "    <tr>\n",
       "      <th>3</th>\n",
       "      <td>[people, receive, wildfires, evacuation, order...</td>\n",
       "      <td>1</td>\n",
       "    </tr>\n",
       "    <tr>\n",
       "      <th>4</th>\n",
       "      <td>[just, got, sent, this, photo, from, ruby, ala...</td>\n",
       "      <td>1</td>\n",
       "    </tr>\n",
       "    <tr>\n",
       "      <th>...</th>\n",
       "      <td>...</td>\n",
       "      <td>...</td>\n",
       "    </tr>\n",
       "    <tr>\n",
       "      <th>7608</th>\n",
       "      <td>[two, giant, cranes, holding, a, bridge, colla...</td>\n",
       "      <td>1</td>\n",
       "    </tr>\n",
       "    <tr>\n",
       "      <th>7609</th>\n",
       "      <td>[aria, ahrary, thetawniest, the, out, of, cont...</td>\n",
       "      <td>1</td>\n",
       "    </tr>\n",
       "    <tr>\n",
       "      <th>7610</th>\n",
       "      <td>[m, utc, km, s, of, volcano, hawaii, http, t, ...</td>\n",
       "      <td>1</td>\n",
       "    </tr>\n",
       "    <tr>\n",
       "      <th>7611</th>\n",
       "      <td>[police, investigating, after, an, e, bike, co...</td>\n",
       "      <td>1</td>\n",
       "    </tr>\n",
       "    <tr>\n",
       "      <th>7612</th>\n",
       "      <td>[the, latest, more, homes, razed, by, northern...</td>\n",
       "      <td>1</td>\n",
       "    </tr>\n",
       "  </tbody>\n",
       "</table>\n",
       "<p>7613 rows × 2 columns</p>\n",
       "</div>"
      ],
      "text/plain": [
       "                                                   text  target\n",
       "0     [our, deeds, are, the, reason, of, this, earth...       1\n",
       "1         [forest, fire, near, la, ronge, sask, canada]       1\n",
       "2     [all, residents, asked, to, shelter, in, place...       1\n",
       "3     [people, receive, wildfires, evacuation, order...       1\n",
       "4     [just, got, sent, this, photo, from, ruby, ala...       1\n",
       "...                                                 ...     ...\n",
       "7608  [two, giant, cranes, holding, a, bridge, colla...       1\n",
       "7609  [aria, ahrary, thetawniest, the, out, of, cont...       1\n",
       "7610  [m, utc, km, s, of, volcano, hawaii, http, t, ...       1\n",
       "7611  [police, investigating, after, an, e, bike, co...       1\n",
       "7612  [the, latest, more, homes, razed, by, northern...       1\n",
       "\n",
       "[7613 rows x 2 columns]"
      ]
     },
     "execution_count": 18,
     "metadata": {},
     "output_type": "execute_result"
    }
   ],
   "source": [
    "#apply it on train test aswell\n",
    "df_train['text'] = df_train['text'].apply(num_remove)\n",
    "df_train"
   ]
  },
  {
   "cell_type": "code",
   "execution_count": 19,
   "metadata": {
    "execution": {
     "iopub.execute_input": "2020-10-24T09:44:07.860096Z",
     "iopub.status.busy": "2020-10-24T09:44:07.859032Z",
     "iopub.status.idle": "2020-10-24T09:44:07.863391Z",
     "shell.execute_reply": "2020-10-24T09:44:07.862713Z"
    },
    "papermill": {
     "duration": 0.135144,
     "end_time": "2020-10-24T09:44:07.863517",
     "exception": false,
     "start_time": "2020-10-24T09:44:07.728373",
     "status": "completed"
    },
    "tags": []
   },
   "outputs": [
    {
     "data": {
      "text/plain": [
       "['rockyfire',\n",
       " 'update',\n",
       " 'california',\n",
       " 'hwy',\n",
       " 'closed',\n",
       " 'in',\n",
       " 'both',\n",
       " 'directions',\n",
       " 'due',\n",
       " 'to',\n",
       " 'lake',\n",
       " 'county',\n",
       " 'fire',\n",
       " 'cafire',\n",
       " 'wildfires']"
      ]
     },
     "execution_count": 19,
     "metadata": {},
     "output_type": "execute_result"
    }
   ],
   "source": [
    "df_train.loc[5 ,\"text\"]"
   ]
  },
  {
   "cell_type": "markdown",
   "metadata": {
    "papermill": {
     "duration": 0.12482,
     "end_time": "2020-10-24T09:44:08.114720",
     "exception": false,
     "start_time": "2020-10-24T09:44:07.989900",
     "status": "completed"
    },
    "tags": []
   },
   "source": [
    "###### through the above method we have tokenize the sentences too."
   ]
  },
  {
   "cell_type": "markdown",
   "metadata": {
    "papermill": {
     "duration": 0.12507,
     "end_time": "2020-10-24T09:44:08.365816",
     "exception": false,
     "start_time": "2020-10-24T09:44:08.240746",
     "status": "completed"
    },
    "tags": []
   },
   "source": [
    "### importing important specific natural language libraries"
   ]
  },
  {
   "cell_type": "code",
   "execution_count": 20,
   "metadata": {
    "execution": {
     "iopub.execute_input": "2020-10-24T09:44:08.624655Z",
     "iopub.status.busy": "2020-10-24T09:44:08.623909Z",
     "iopub.status.idle": "2020-10-24T09:44:09.659557Z",
     "shell.execute_reply": "2020-10-24T09:44:09.658747Z"
    },
    "papermill": {
     "duration": 1.167777,
     "end_time": "2020-10-24T09:44:09.659689",
     "exception": false,
     "start_time": "2020-10-24T09:44:08.491912",
     "status": "completed"
    },
    "tags": []
   },
   "outputs": [],
   "source": [
    "import nltk\n",
    "import gensim\n",
    "# import normalise\n",
    "from nltk.tokenize import word_tokenize\n",
    "from nltk.corpus import stopwords\n",
    "from nltk.stem.porter import PorterStemmer\n",
    "from nltk.stem.wordnet import WordNetLemmatizer\n",
    "from gensim.models import Word2Vec\n",
    "from sklearn.feature_extraction.text import TfidfVectorizer ,CountVectorizer"
   ]
  },
  {
   "cell_type": "code",
   "execution_count": 21,
   "metadata": {
    "execution": {
     "iopub.execute_input": "2020-10-24T09:44:09.926492Z",
     "iopub.status.busy": "2020-10-24T09:44:09.925444Z",
     "iopub.status.idle": "2020-10-24T09:44:09.928760Z",
     "shell.execute_reply": "2020-10-24T09:44:09.928009Z"
    },
    "papermill": {
     "duration": 0.141952,
     "end_time": "2020-10-24T09:44:09.928884",
     "exception": false,
     "start_time": "2020-10-24T09:44:09.786932",
     "status": "completed"
    },
    "tags": []
   },
   "outputs": [],
   "source": [
    "#Calling instances of each APIs.\n",
    "stem = PorterStemmer()\n",
    "Wordnetlem = WordNetLemmatizer()\n",
    "countVect = CountVectorizer()\n",
    "tfidfVect = TfidfVectorizer(min_df=2, max_df=0.5, ngram_range=(1, 2))"
   ]
  },
  {
   "cell_type": "code",
   "execution_count": 22,
   "metadata": {
    "execution": {
     "iopub.execute_input": "2020-10-24T09:44:10.193606Z",
     "iopub.status.busy": "2020-10-24T09:44:10.192745Z",
     "iopub.status.idle": "2020-10-24T09:44:10.201433Z",
     "shell.execute_reply": "2020-10-24T09:44:10.200791Z"
    },
    "papermill": {
     "duration": 0.1456,
     "end_time": "2020-10-24T09:44:10.201558",
     "exception": false,
     "start_time": "2020-10-24T09:44:10.055958",
     "status": "completed"
    },
    "tags": []
   },
   "outputs": [],
   "source": [
    "# Removing stop words\n",
    "sw = stopwords.words('english')\n",
    "wordsetexc = ['asap','gonna','wanna','bro','lit','more','most','far','cheeky',\n",
    "              'affair','uff','ceeya','on','in','and','wow','whoah',\n",
    "              'wooww','astounding','no','yes','km','mile','god','allah','jesus','jesuschrist',\n",
    "             'oh','oh god','etc','damn','needless','fine','http','www','http','website','dollar','co',\n",
    "             'ltd','unit','union','got','heard','nope','little','us','we','our','almighty',\n",
    "             'might','ought','buy','sell','sent','invite']\n",
    "for i in wordsetexc:\n",
    "    sw.append(i)\n",
    "def remove_sw(data):\n",
    "    data = [word for word in data if word not in sw]\n",
    "    return data"
   ]
  },
  {
   "cell_type": "code",
   "execution_count": 23,
   "metadata": {
    "execution": {
     "iopub.execute_input": "2020-10-24T09:44:10.506952Z",
     "iopub.status.busy": "2020-10-24T09:44:10.491625Z",
     "iopub.status.idle": "2020-10-24T09:44:11.084589Z",
     "shell.execute_reply": "2020-10-24T09:44:11.083790Z"
    },
    "papermill": {
     "duration": 0.756416,
     "end_time": "2020-10-24T09:44:11.084717",
     "exception": false,
     "start_time": "2020-10-24T09:44:10.328301",
     "status": "completed"
    },
    "tags": []
   },
   "outputs": [],
   "source": [
    "df_test.text = df_test.text.apply(lambda x: remove_sw(x))\n",
    "df_train.text = df_train.text.apply(lambda x: remove_sw(x))"
   ]
  },
  {
   "cell_type": "code",
   "execution_count": 24,
   "metadata": {
    "execution": {
     "iopub.execute_input": "2020-10-24T09:44:11.353043Z",
     "iopub.status.busy": "2020-10-24T09:44:11.351977Z",
     "iopub.status.idle": "2020-10-24T09:44:11.355473Z",
     "shell.execute_reply": "2020-10-24T09:44:11.356039Z"
    },
    "papermill": {
     "duration": 0.145405,
     "end_time": "2020-10-24T09:44:11.356190",
     "exception": false,
     "start_time": "2020-10-24T09:44:11.210785",
     "status": "completed"
    },
    "tags": []
   },
   "outputs": [
    {
     "data": {
      "text/html": [
       "<div>\n",
       "<style scoped>\n",
       "    .dataframe tbody tr th:only-of-type {\n",
       "        vertical-align: middle;\n",
       "    }\n",
       "\n",
       "    .dataframe tbody tr th {\n",
       "        vertical-align: top;\n",
       "    }\n",
       "\n",
       "    .dataframe thead th {\n",
       "        text-align: right;\n",
       "    }\n",
       "</style>\n",
       "<table border=\"1\" class=\"dataframe\">\n",
       "  <thead>\n",
       "    <tr style=\"text-align: right;\">\n",
       "      <th></th>\n",
       "      <th>text</th>\n",
       "    </tr>\n",
       "  </thead>\n",
       "  <tbody>\n",
       "    <tr>\n",
       "      <th>0</th>\n",
       "      <td>[happened, terrible, car, crash]</td>\n",
       "    </tr>\n",
       "    <tr>\n",
       "      <th>1</th>\n",
       "      <td>[earthquake, different, cities, stay, safe, ev...</td>\n",
       "    </tr>\n",
       "    <tr>\n",
       "      <th>2</th>\n",
       "      <td>[forest, fire, spot, pond, geese, fleeing, acr...</td>\n",
       "    </tr>\n",
       "    <tr>\n",
       "      <th>3</th>\n",
       "      <td>[apocalypse, lighting, spokane, wildfires]</td>\n",
       "    </tr>\n",
       "    <tr>\n",
       "      <th>4</th>\n",
       "      <td>[typhoon, soudelor, kills, china, taiwan]</td>\n",
       "    </tr>\n",
       "    <tr>\n",
       "      <th>...</th>\n",
       "      <td>...</td>\n",
       "    </tr>\n",
       "    <tr>\n",
       "      <th>3258</th>\n",
       "      <td>[earthquake, safety, los, angeles, safety, fas...</td>\n",
       "    </tr>\n",
       "    <tr>\n",
       "      <th>3259</th>\n",
       "      <td>[storm, ri, worse, last, hurricane, city, amp,...</td>\n",
       "    </tr>\n",
       "    <tr>\n",
       "      <th>3260</th>\n",
       "      <td>[green, line, derailment, chicago, utbxlcbiuy]</td>\n",
       "    </tr>\n",
       "    <tr>\n",
       "      <th>3261</th>\n",
       "      <td>[meg, issues, hazardous, weather, outlook, hwo...</td>\n",
       "    </tr>\n",
       "    <tr>\n",
       "      <th>3262</th>\n",
       "      <td>[cityofcalgary, activated, municipal, emergenc...</td>\n",
       "    </tr>\n",
       "  </tbody>\n",
       "</table>\n",
       "<p>3263 rows × 1 columns</p>\n",
       "</div>"
      ],
      "text/plain": [
       "                                                   text\n",
       "0                      [happened, terrible, car, crash]\n",
       "1     [earthquake, different, cities, stay, safe, ev...\n",
       "2     [forest, fire, spot, pond, geese, fleeing, acr...\n",
       "3            [apocalypse, lighting, spokane, wildfires]\n",
       "4             [typhoon, soudelor, kills, china, taiwan]\n",
       "...                                                 ...\n",
       "3258  [earthquake, safety, los, angeles, safety, fas...\n",
       "3259  [storm, ri, worse, last, hurricane, city, amp,...\n",
       "3260     [green, line, derailment, chicago, utbxlcbiuy]\n",
       "3261  [meg, issues, hazardous, weather, outlook, hwo...\n",
       "3262  [cityofcalgary, activated, municipal, emergenc...\n",
       "\n",
       "[3263 rows x 1 columns]"
      ]
     },
     "execution_count": 24,
     "metadata": {},
     "output_type": "execute_result"
    }
   ],
   "source": [
    "df_test"
   ]
  },
  {
   "cell_type": "code",
   "execution_count": 25,
   "metadata": {
    "execution": {
     "iopub.execute_input": "2020-10-24T09:44:11.635270Z",
     "iopub.status.busy": "2020-10-24T09:44:11.634145Z",
     "iopub.status.idle": "2020-10-24T09:44:11.637841Z",
     "shell.execute_reply": "2020-10-24T09:44:11.638447Z"
    },
    "papermill": {
     "duration": 0.153901,
     "end_time": "2020-10-24T09:44:11.638601",
     "exception": false,
     "start_time": "2020-10-24T09:44:11.484700",
     "status": "completed"
    },
    "tags": []
   },
   "outputs": [
    {
     "data": {
      "text/html": [
       "<div>\n",
       "<style scoped>\n",
       "    .dataframe tbody tr th:only-of-type {\n",
       "        vertical-align: middle;\n",
       "    }\n",
       "\n",
       "    .dataframe tbody tr th {\n",
       "        vertical-align: top;\n",
       "    }\n",
       "\n",
       "    .dataframe thead th {\n",
       "        text-align: right;\n",
       "    }\n",
       "</style>\n",
       "<table border=\"1\" class=\"dataframe\">\n",
       "  <thead>\n",
       "    <tr style=\"text-align: right;\">\n",
       "      <th></th>\n",
       "      <th>text</th>\n",
       "      <th>target</th>\n",
       "    </tr>\n",
       "  </thead>\n",
       "  <tbody>\n",
       "    <tr>\n",
       "      <th>0</th>\n",
       "      <td>[deeds, reason, earthquake, may, forgive]</td>\n",
       "      <td>1</td>\n",
       "    </tr>\n",
       "    <tr>\n",
       "      <th>1</th>\n",
       "      <td>[forest, fire, near, la, ronge, sask, canada]</td>\n",
       "      <td>1</td>\n",
       "    </tr>\n",
       "    <tr>\n",
       "      <th>2</th>\n",
       "      <td>[residents, asked, shelter, place, notified, o...</td>\n",
       "      <td>1</td>\n",
       "    </tr>\n",
       "    <tr>\n",
       "      <th>3</th>\n",
       "      <td>[people, receive, wildfires, evacuation, order...</td>\n",
       "      <td>1</td>\n",
       "    </tr>\n",
       "    <tr>\n",
       "      <th>4</th>\n",
       "      <td>[photo, ruby, alaska, smoke, wildfires, pours,...</td>\n",
       "      <td>1</td>\n",
       "    </tr>\n",
       "    <tr>\n",
       "      <th>...</th>\n",
       "      <td>...</td>\n",
       "      <td>...</td>\n",
       "    </tr>\n",
       "    <tr>\n",
       "      <th>7608</th>\n",
       "      <td>[two, giant, cranes, holding, bridge, collapse...</td>\n",
       "      <td>1</td>\n",
       "    </tr>\n",
       "    <tr>\n",
       "      <th>7609</th>\n",
       "      <td>[aria, ahrary, thetawniest, control, wild, fir...</td>\n",
       "      <td>1</td>\n",
       "    </tr>\n",
       "    <tr>\n",
       "      <th>7610</th>\n",
       "      <td>[utc, volcano, hawaii, zdtoyd, ebj]</td>\n",
       "      <td>1</td>\n",
       "    </tr>\n",
       "    <tr>\n",
       "      <th>7611</th>\n",
       "      <td>[police, investigating, e, bike, collided, car...</td>\n",
       "      <td>1</td>\n",
       "    </tr>\n",
       "    <tr>\n",
       "      <th>7612</th>\n",
       "      <td>[latest, homes, razed, northern, california, w...</td>\n",
       "      <td>1</td>\n",
       "    </tr>\n",
       "  </tbody>\n",
       "</table>\n",
       "<p>7613 rows × 2 columns</p>\n",
       "</div>"
      ],
      "text/plain": [
       "                                                   text  target\n",
       "0             [deeds, reason, earthquake, may, forgive]       1\n",
       "1         [forest, fire, near, la, ronge, sask, canada]       1\n",
       "2     [residents, asked, shelter, place, notified, o...       1\n",
       "3     [people, receive, wildfires, evacuation, order...       1\n",
       "4     [photo, ruby, alaska, smoke, wildfires, pours,...       1\n",
       "...                                                 ...     ...\n",
       "7608  [two, giant, cranes, holding, bridge, collapse...       1\n",
       "7609  [aria, ahrary, thetawniest, control, wild, fir...       1\n",
       "7610                [utc, volcano, hawaii, zdtoyd, ebj]       1\n",
       "7611  [police, investigating, e, bike, collided, car...       1\n",
       "7612  [latest, homes, razed, northern, california, w...       1\n",
       "\n",
       "[7613 rows x 2 columns]"
      ]
     },
     "execution_count": 25,
     "metadata": {},
     "output_type": "execute_result"
    }
   ],
   "source": [
    "df_train"
   ]
  },
  {
   "cell_type": "markdown",
   "metadata": {
    "papermill": {
     "duration": 0.127982,
     "end_time": "2020-10-24T09:44:11.895350",
     "exception": false,
     "start_time": "2020-10-24T09:44:11.767368",
     "status": "completed"
    },
    "tags": []
   },
   "source": [
    "#### Now moving into some intermediate level of feature engineering part in NLP."
   ]
  },
  {
   "cell_type": "markdown",
   "metadata": {
    "papermill": {
     "duration": 0.128131,
     "end_time": "2020-10-24T09:44:12.151899",
     "exception": false,
     "start_time": "2020-10-24T09:44:12.023768",
     "status": "completed"
    },
    "tags": []
   },
   "source": [
    "#### Lemmatization of words to convert it into its root words."
   ]
  },
  {
   "cell_type": "code",
   "execution_count": 26,
   "metadata": {
    "execution": {
     "iopub.execute_input": "2020-10-24T09:44:12.413892Z",
     "iopub.status.busy": "2020-10-24T09:44:12.412768Z",
     "iopub.status.idle": "2020-10-24T09:44:12.416359Z",
     "shell.execute_reply": "2020-10-24T09:44:12.415594Z"
    },
    "papermill": {
     "duration": 0.136693,
     "end_time": "2020-10-24T09:44:12.416491",
     "exception": false,
     "start_time": "2020-10-24T09:44:12.279798",
     "status": "completed"
    },
    "tags": []
   },
   "outputs": [],
   "source": [
    "def lemmatize(data):\n",
    "#     data = [stem.stem(word) for word in data]\n",
    "    data = [Wordnetlem.lemmatize(word) for word in data]\n",
    "    return data"
   ]
  },
  {
   "cell_type": "code",
   "execution_count": 27,
   "metadata": {
    "execution": {
     "iopub.execute_input": "2020-10-24T09:44:12.681718Z",
     "iopub.status.busy": "2020-10-24T09:44:12.680939Z",
     "iopub.status.idle": "2020-10-24T09:44:15.731664Z",
     "shell.execute_reply": "2020-10-24T09:44:15.731053Z"
    },
    "papermill": {
     "duration": 3.185535,
     "end_time": "2020-10-24T09:44:15.731802",
     "exception": false,
     "start_time": "2020-10-24T09:44:12.546267",
     "status": "completed"
    },
    "tags": []
   },
   "outputs": [],
   "source": [
    "df_train[\"text\"] = df_train[\"text\"].apply(lambda x: lemmatize(x))"
   ]
  },
  {
   "cell_type": "code",
   "execution_count": 28,
   "metadata": {
    "execution": {
     "iopub.execute_input": "2020-10-24T09:44:16.006166Z",
     "iopub.status.busy": "2020-10-24T09:44:16.005067Z",
     "iopub.status.idle": "2020-10-24T09:44:16.009284Z",
     "shell.execute_reply": "2020-10-24T09:44:16.008673Z"
    },
    "papermill": {
     "duration": 0.148947,
     "end_time": "2020-10-24T09:44:16.009413",
     "exception": false,
     "start_time": "2020-10-24T09:44:15.860466",
     "status": "completed"
    },
    "tags": []
   },
   "outputs": [
    {
     "data": {
      "text/html": [
       "<div>\n",
       "<style scoped>\n",
       "    .dataframe tbody tr th:only-of-type {\n",
       "        vertical-align: middle;\n",
       "    }\n",
       "\n",
       "    .dataframe tbody tr th {\n",
       "        vertical-align: top;\n",
       "    }\n",
       "\n",
       "    .dataframe thead th {\n",
       "        text-align: right;\n",
       "    }\n",
       "</style>\n",
       "<table border=\"1\" class=\"dataframe\">\n",
       "  <thead>\n",
       "    <tr style=\"text-align: right;\">\n",
       "      <th></th>\n",
       "      <th>text</th>\n",
       "      <th>target</th>\n",
       "    </tr>\n",
       "  </thead>\n",
       "  <tbody>\n",
       "    <tr>\n",
       "      <th>0</th>\n",
       "      <td>[deed, reason, earthquake, may, forgive]</td>\n",
       "      <td>1</td>\n",
       "    </tr>\n",
       "    <tr>\n",
       "      <th>1</th>\n",
       "      <td>[forest, fire, near, la, ronge, sask, canada]</td>\n",
       "      <td>1</td>\n",
       "    </tr>\n",
       "    <tr>\n",
       "      <th>2</th>\n",
       "      <td>[resident, asked, shelter, place, notified, of...</td>\n",
       "      <td>1</td>\n",
       "    </tr>\n",
       "    <tr>\n",
       "      <th>3</th>\n",
       "      <td>[people, receive, wildfire, evacuation, order,...</td>\n",
       "      <td>1</td>\n",
       "    </tr>\n",
       "    <tr>\n",
       "      <th>4</th>\n",
       "      <td>[photo, ruby, alaska, smoke, wildfire, pours, ...</td>\n",
       "      <td>1</td>\n",
       "    </tr>\n",
       "    <tr>\n",
       "      <th>...</th>\n",
       "      <td>...</td>\n",
       "      <td>...</td>\n",
       "    </tr>\n",
       "    <tr>\n",
       "      <th>7608</th>\n",
       "      <td>[two, giant, crane, holding, bridge, collapse,...</td>\n",
       "      <td>1</td>\n",
       "    </tr>\n",
       "    <tr>\n",
       "      <th>7609</th>\n",
       "      <td>[aria, ahrary, thetawniest, control, wild, fir...</td>\n",
       "      <td>1</td>\n",
       "    </tr>\n",
       "    <tr>\n",
       "      <th>7610</th>\n",
       "      <td>[utc, volcano, hawaii, zdtoyd, ebj]</td>\n",
       "      <td>1</td>\n",
       "    </tr>\n",
       "    <tr>\n",
       "      <th>7611</th>\n",
       "      <td>[police, investigating, e, bike, collided, car...</td>\n",
       "      <td>1</td>\n",
       "    </tr>\n",
       "    <tr>\n",
       "      <th>7612</th>\n",
       "      <td>[latest, home, razed, northern, california, wi...</td>\n",
       "      <td>1</td>\n",
       "    </tr>\n",
       "  </tbody>\n",
       "</table>\n",
       "<p>7613 rows × 2 columns</p>\n",
       "</div>"
      ],
      "text/plain": [
       "                                                   text  target\n",
       "0              [deed, reason, earthquake, may, forgive]       1\n",
       "1         [forest, fire, near, la, ronge, sask, canada]       1\n",
       "2     [resident, asked, shelter, place, notified, of...       1\n",
       "3     [people, receive, wildfire, evacuation, order,...       1\n",
       "4     [photo, ruby, alaska, smoke, wildfire, pours, ...       1\n",
       "...                                                 ...     ...\n",
       "7608  [two, giant, crane, holding, bridge, collapse,...       1\n",
       "7609  [aria, ahrary, thetawniest, control, wild, fir...       1\n",
       "7610                [utc, volcano, hawaii, zdtoyd, ebj]       1\n",
       "7611  [police, investigating, e, bike, collided, car...       1\n",
       "7612  [latest, home, razed, northern, california, wi...       1\n",
       "\n",
       "[7613 rows x 2 columns]"
      ]
     },
     "execution_count": 28,
     "metadata": {},
     "output_type": "execute_result"
    }
   ],
   "source": [
    "df_train"
   ]
  },
  {
   "cell_type": "code",
   "execution_count": 29,
   "metadata": {
    "execution": {
     "iopub.execute_input": "2020-10-24T09:44:16.293542Z",
     "iopub.status.busy": "2020-10-24T09:44:16.288480Z",
     "iopub.status.idle": "2020-10-24T09:44:16.537013Z",
     "shell.execute_reply": "2020-10-24T09:44:16.536420Z"
    },
    "papermill": {
     "duration": 0.398444,
     "end_time": "2020-10-24T09:44:16.537138",
     "exception": false,
     "start_time": "2020-10-24T09:44:16.138694",
     "status": "completed"
    },
    "tags": []
   },
   "outputs": [
    {
     "data": {
      "text/html": [
       "<div>\n",
       "<style scoped>\n",
       "    .dataframe tbody tr th:only-of-type {\n",
       "        vertical-align: middle;\n",
       "    }\n",
       "\n",
       "    .dataframe tbody tr th {\n",
       "        vertical-align: top;\n",
       "    }\n",
       "\n",
       "    .dataframe thead th {\n",
       "        text-align: right;\n",
       "    }\n",
       "</style>\n",
       "<table border=\"1\" class=\"dataframe\">\n",
       "  <thead>\n",
       "    <tr style=\"text-align: right;\">\n",
       "      <th></th>\n",
       "      <th>text</th>\n",
       "    </tr>\n",
       "  </thead>\n",
       "  <tbody>\n",
       "    <tr>\n",
       "      <th>0</th>\n",
       "      <td>[happened, terrible, car, crash]</td>\n",
       "    </tr>\n",
       "    <tr>\n",
       "      <th>1</th>\n",
       "      <td>[earthquake, different, city, stay, safe, ever...</td>\n",
       "    </tr>\n",
       "    <tr>\n",
       "      <th>2</th>\n",
       "      <td>[forest, fire, spot, pond, goose, fleeing, acr...</td>\n",
       "    </tr>\n",
       "    <tr>\n",
       "      <th>3</th>\n",
       "      <td>[apocalypse, lighting, spokane, wildfire]</td>\n",
       "    </tr>\n",
       "    <tr>\n",
       "      <th>4</th>\n",
       "      <td>[typhoon, soudelor, kill, china, taiwan]</td>\n",
       "    </tr>\n",
       "    <tr>\n",
       "      <th>...</th>\n",
       "      <td>...</td>\n",
       "    </tr>\n",
       "    <tr>\n",
       "      <th>3258</th>\n",
       "      <td>[earthquake, safety, los, angeles, safety, fas...</td>\n",
       "    </tr>\n",
       "    <tr>\n",
       "      <th>3259</th>\n",
       "      <td>[storm, ri, worse, last, hurricane, city, amp,...</td>\n",
       "    </tr>\n",
       "    <tr>\n",
       "      <th>3260</th>\n",
       "      <td>[green, line, derailment, chicago, utbxlcbiuy]</td>\n",
       "    </tr>\n",
       "    <tr>\n",
       "      <th>3261</th>\n",
       "      <td>[meg, issue, hazardous, weather, outlook, hwo,...</td>\n",
       "    </tr>\n",
       "    <tr>\n",
       "      <th>3262</th>\n",
       "      <td>[cityofcalgary, activated, municipal, emergenc...</td>\n",
       "    </tr>\n",
       "  </tbody>\n",
       "</table>\n",
       "<p>3263 rows × 1 columns</p>\n",
       "</div>"
      ],
      "text/plain": [
       "                                                   text\n",
       "0                      [happened, terrible, car, crash]\n",
       "1     [earthquake, different, city, stay, safe, ever...\n",
       "2     [forest, fire, spot, pond, goose, fleeing, acr...\n",
       "3             [apocalypse, lighting, spokane, wildfire]\n",
       "4              [typhoon, soudelor, kill, china, taiwan]\n",
       "...                                                 ...\n",
       "3258  [earthquake, safety, los, angeles, safety, fas...\n",
       "3259  [storm, ri, worse, last, hurricane, city, amp,...\n",
       "3260     [green, line, derailment, chicago, utbxlcbiuy]\n",
       "3261  [meg, issue, hazardous, weather, outlook, hwo,...\n",
       "3262  [cityofcalgary, activated, municipal, emergenc...\n",
       "\n",
       "[3263 rows x 1 columns]"
      ]
     },
     "execution_count": 29,
     "metadata": {},
     "output_type": "execute_result"
    }
   ],
   "source": [
    "df_test[\"text\"] = df_test[\"text\"].apply(lambda x: lemmatize(x))\n",
    "df_test"
   ]
  },
  {
   "cell_type": "markdown",
   "metadata": {
    "papermill": {
     "duration": 0.129503,
     "end_time": "2020-10-24T09:44:16.796476",
     "exception": false,
     "start_time": "2020-10-24T09:44:16.666973",
     "status": "completed"
    },
    "tags": []
   },
   "source": [
    "#### Tokenizing words in the data set"
   ]
  },
  {
   "cell_type": "markdown",
   "metadata": {
    "papermill": {
     "duration": 0.129384,
     "end_time": "2020-10-24T09:44:17.055286",
     "exception": false,
     "start_time": "2020-10-24T09:44:16.925902",
     "status": "completed"
    },
    "tags": []
   },
   "source": [
    "### Creating a data processing check point"
   ]
  },
  {
   "cell_type": "code",
   "execution_count": 30,
   "metadata": {
    "execution": {
     "iopub.execute_input": "2020-10-24T09:44:17.328588Z",
     "iopub.status.busy": "2020-10-24T09:44:17.327646Z",
     "iopub.status.idle": "2020-10-24T09:44:17.331969Z",
     "shell.execute_reply": "2020-10-24T09:44:17.331281Z"
    },
    "papermill": {
     "duration": 0.147153,
     "end_time": "2020-10-24T09:44:17.332096",
     "exception": false,
     "start_time": "2020-10-24T09:44:17.184943",
     "status": "completed"
    },
    "tags": []
   },
   "outputs": [
    {
     "name": "stdout",
     "output_type": "stream",
     "text": [
      "                                                text  target\n",
      "0           [deed, reason, earthquake, may, forgive]       1\n",
      "1      [forest, fire, near, la, ronge, sask, canada]       1\n",
      "2  [resident, asked, shelter, place, notified, of...       1\n",
      "3  [people, receive, wildfire, evacuation, order,...       1\n",
      "4  [photo, ruby, alaska, smoke, wildfire, pours, ...       1\n",
      "5  [rockyfire, update, california, hwy, closed, d...       1\n",
      "6  [flood, disaster, heavy, rain, cause, flash, f...       1\n",
      "                                                text\n",
      "0                   [happened, terrible, car, crash]\n",
      "1  [earthquake, different, city, stay, safe, ever...\n",
      "2  [forest, fire, spot, pond, goose, fleeing, acr...\n",
      "3          [apocalypse, lighting, spokane, wildfire]\n",
      "4           [typhoon, soudelor, kill, china, taiwan]\n"
     ]
    }
   ],
   "source": [
    "traindata = df_train.copy()\n",
    "print(traindata.head(7))\n",
    "testdata = df_test.copy()\n",
    "print(testdata.head(5))"
   ]
  },
  {
   "cell_type": "code",
   "execution_count": 31,
   "metadata": {
    "execution": {
     "iopub.execute_input": "2020-10-24T09:44:17.603991Z",
     "iopub.status.busy": "2020-10-24T09:44:17.602915Z",
     "iopub.status.idle": "2020-10-24T09:44:17.605606Z",
     "shell.execute_reply": "2020-10-24T09:44:17.606180Z"
    },
    "papermill": {
     "duration": 0.141458,
     "end_time": "2020-10-24T09:44:17.606352",
     "exception": false,
     "start_time": "2020-10-24T09:44:17.464894",
     "status": "completed"
    },
    "tags": []
   },
   "outputs": [],
   "source": [
    "def joinwords(data):\n",
    "    combined_text = ' '.join(data)\n",
    "    return combined_text\n",
    "combined = lambda x: joinwords(x)"
   ]
  },
  {
   "cell_type": "code",
   "execution_count": 32,
   "metadata": {
    "execution": {
     "iopub.execute_input": "2020-10-24T09:44:17.883400Z",
     "iopub.status.busy": "2020-10-24T09:44:17.882351Z",
     "iopub.status.idle": "2020-10-24T09:44:17.885745Z",
     "shell.execute_reply": "2020-10-24T09:44:17.885115Z"
    },
    "papermill": {
     "duration": 0.147843,
     "end_time": "2020-10-24T09:44:17.885868",
     "exception": false,
     "start_time": "2020-10-24T09:44:17.738025",
     "status": "completed"
    },
    "tags": []
   },
   "outputs": [],
   "source": [
    "traindata[\"text\"] = traindata[\"text\"].apply(combined)"
   ]
  },
  {
   "cell_type": "code",
   "execution_count": 33,
   "metadata": {
    "execution": {
     "iopub.execute_input": "2020-10-24T09:44:18.158242Z",
     "iopub.status.busy": "2020-10-24T09:44:18.157189Z",
     "iopub.status.idle": "2020-10-24T09:44:18.160805Z",
     "shell.execute_reply": "2020-10-24T09:44:18.160099Z"
    },
    "papermill": {
     "duration": 0.143667,
     "end_time": "2020-10-24T09:44:18.160937",
     "exception": false,
     "start_time": "2020-10-24T09:44:18.017270",
     "status": "completed"
    },
    "tags": []
   },
   "outputs": [],
   "source": [
    "testdata[\"text\"] = testdata[\"text\"].apply(combined)"
   ]
  },
  {
   "cell_type": "code",
   "execution_count": 34,
   "metadata": {
    "execution": {
     "iopub.execute_input": "2020-10-24T09:44:18.436118Z",
     "iopub.status.busy": "2020-10-24T09:44:18.435242Z",
     "iopub.status.idle": "2020-10-24T09:44:18.439708Z",
     "shell.execute_reply": "2020-10-24T09:44:18.439058Z"
    },
    "papermill": {
     "duration": 0.148433,
     "end_time": "2020-10-24T09:44:18.439831",
     "exception": false,
     "start_time": "2020-10-24T09:44:18.291398",
     "status": "completed"
    },
    "tags": []
   },
   "outputs": [
    {
     "data": {
      "text/html": [
       "<div>\n",
       "<style scoped>\n",
       "    .dataframe tbody tr th:only-of-type {\n",
       "        vertical-align: middle;\n",
       "    }\n",
       "\n",
       "    .dataframe tbody tr th {\n",
       "        vertical-align: top;\n",
       "    }\n",
       "\n",
       "    .dataframe thead th {\n",
       "        text-align: right;\n",
       "    }\n",
       "</style>\n",
       "<table border=\"1\" class=\"dataframe\">\n",
       "  <thead>\n",
       "    <tr style=\"text-align: right;\">\n",
       "      <th></th>\n",
       "      <th>text</th>\n",
       "      <th>target</th>\n",
       "    </tr>\n",
       "  </thead>\n",
       "  <tbody>\n",
       "    <tr>\n",
       "      <th>0</th>\n",
       "      <td>deed reason earthquake may forgive</td>\n",
       "      <td>1</td>\n",
       "    </tr>\n",
       "    <tr>\n",
       "      <th>1</th>\n",
       "      <td>forest fire near la ronge sask canada</td>\n",
       "      <td>1</td>\n",
       "    </tr>\n",
       "    <tr>\n",
       "      <th>2</th>\n",
       "      <td>resident asked shelter place notified officer ...</td>\n",
       "      <td>1</td>\n",
       "    </tr>\n",
       "    <tr>\n",
       "      <th>3</th>\n",
       "      <td>people receive wildfire evacuation order calif...</td>\n",
       "      <td>1</td>\n",
       "    </tr>\n",
       "    <tr>\n",
       "      <th>4</th>\n",
       "      <td>photo ruby alaska smoke wildfire pours school</td>\n",
       "      <td>1</td>\n",
       "    </tr>\n",
       "    <tr>\n",
       "      <th>...</th>\n",
       "      <td>...</td>\n",
       "      <td>...</td>\n",
       "    </tr>\n",
       "    <tr>\n",
       "      <th>7608</th>\n",
       "      <td>two giant crane holding bridge collapse nearby...</td>\n",
       "      <td>1</td>\n",
       "    </tr>\n",
       "    <tr>\n",
       "      <th>7609</th>\n",
       "      <td>aria ahrary thetawniest control wild fire cali...</td>\n",
       "      <td>1</td>\n",
       "    </tr>\n",
       "    <tr>\n",
       "      <th>7610</th>\n",
       "      <td>utc volcano hawaii zdtoyd ebj</td>\n",
       "      <td>1</td>\n",
       "    </tr>\n",
       "    <tr>\n",
       "      <th>7611</th>\n",
       "      <td>police investigating e bike collided car portu...</td>\n",
       "      <td>1</td>\n",
       "    </tr>\n",
       "    <tr>\n",
       "      <th>7612</th>\n",
       "      <td>latest home razed northern california wildfire...</td>\n",
       "      <td>1</td>\n",
       "    </tr>\n",
       "  </tbody>\n",
       "</table>\n",
       "<p>7613 rows × 2 columns</p>\n",
       "</div>"
      ],
      "text/plain": [
       "                                                   text  target\n",
       "0                    deed reason earthquake may forgive       1\n",
       "1                 forest fire near la ronge sask canada       1\n",
       "2     resident asked shelter place notified officer ...       1\n",
       "3     people receive wildfire evacuation order calif...       1\n",
       "4         photo ruby alaska smoke wildfire pours school       1\n",
       "...                                                 ...     ...\n",
       "7608  two giant crane holding bridge collapse nearby...       1\n",
       "7609  aria ahrary thetawniest control wild fire cali...       1\n",
       "7610                      utc volcano hawaii zdtoyd ebj       1\n",
       "7611  police investigating e bike collided car portu...       1\n",
       "7612  latest home razed northern california wildfire...       1\n",
       "\n",
       "[7613 rows x 2 columns]"
      ]
     },
     "execution_count": 34,
     "metadata": {},
     "output_type": "execute_result"
    }
   ],
   "source": [
    "traindata"
   ]
  },
  {
   "cell_type": "code",
   "execution_count": 35,
   "metadata": {
    "execution": {
     "iopub.execute_input": "2020-10-24T09:44:18.717141Z",
     "iopub.status.busy": "2020-10-24T09:44:18.716142Z",
     "iopub.status.idle": "2020-10-24T09:44:18.721111Z",
     "shell.execute_reply": "2020-10-24T09:44:18.720461Z"
    },
    "papermill": {
     "duration": 0.14895,
     "end_time": "2020-10-24T09:44:18.721249",
     "exception": false,
     "start_time": "2020-10-24T09:44:18.572299",
     "status": "completed"
    },
    "tags": []
   },
   "outputs": [
    {
     "data": {
      "text/html": [
       "<div>\n",
       "<style scoped>\n",
       "    .dataframe tbody tr th:only-of-type {\n",
       "        vertical-align: middle;\n",
       "    }\n",
       "\n",
       "    .dataframe tbody tr th {\n",
       "        vertical-align: top;\n",
       "    }\n",
       "\n",
       "    .dataframe thead th {\n",
       "        text-align: right;\n",
       "    }\n",
       "</style>\n",
       "<table border=\"1\" class=\"dataframe\">\n",
       "  <thead>\n",
       "    <tr style=\"text-align: right;\">\n",
       "      <th></th>\n",
       "      <th>text</th>\n",
       "    </tr>\n",
       "  </thead>\n",
       "  <tbody>\n",
       "    <tr>\n",
       "      <th>0</th>\n",
       "      <td>happened terrible car crash</td>\n",
       "    </tr>\n",
       "    <tr>\n",
       "      <th>1</th>\n",
       "      <td>earthquake different city stay safe everyone</td>\n",
       "    </tr>\n",
       "    <tr>\n",
       "      <th>2</th>\n",
       "      <td>forest fire spot pond goose fleeing across str...</td>\n",
       "    </tr>\n",
       "    <tr>\n",
       "      <th>3</th>\n",
       "      <td>apocalypse lighting spokane wildfire</td>\n",
       "    </tr>\n",
       "    <tr>\n",
       "      <th>4</th>\n",
       "      <td>typhoon soudelor kill china taiwan</td>\n",
       "    </tr>\n",
       "    <tr>\n",
       "      <th>...</th>\n",
       "      <td>...</td>\n",
       "    </tr>\n",
       "    <tr>\n",
       "      <th>3258</th>\n",
       "      <td>earthquake safety los angeles safety fastener ...</td>\n",
       "    </tr>\n",
       "    <tr>\n",
       "      <th>3259</th>\n",
       "      <td>storm ri worse last hurricane city amp others ...</td>\n",
       "    </tr>\n",
       "    <tr>\n",
       "      <th>3260</th>\n",
       "      <td>green line derailment chicago utbxlcbiuy</td>\n",
       "    </tr>\n",
       "    <tr>\n",
       "      <th>3261</th>\n",
       "      <td>meg issue hazardous weather outlook hwo x rbqjhn</td>\n",
       "    </tr>\n",
       "    <tr>\n",
       "      <th>3262</th>\n",
       "      <td>cityofcalgary activated municipal emergency pl...</td>\n",
       "    </tr>\n",
       "  </tbody>\n",
       "</table>\n",
       "<p>3263 rows × 1 columns</p>\n",
       "</div>"
      ],
      "text/plain": [
       "                                                   text\n",
       "0                           happened terrible car crash\n",
       "1          earthquake different city stay safe everyone\n",
       "2     forest fire spot pond goose fleeing across str...\n",
       "3                  apocalypse lighting spokane wildfire\n",
       "4                    typhoon soudelor kill china taiwan\n",
       "...                                                 ...\n",
       "3258  earthquake safety los angeles safety fastener ...\n",
       "3259  storm ri worse last hurricane city amp others ...\n",
       "3260           green line derailment chicago utbxlcbiuy\n",
       "3261   meg issue hazardous weather outlook hwo x rbqjhn\n",
       "3262  cityofcalgary activated municipal emergency pl...\n",
       "\n",
       "[3263 rows x 1 columns]"
      ]
     },
     "execution_count": 35,
     "metadata": {},
     "output_type": "execute_result"
    }
   ],
   "source": [
    "testdata"
   ]
  },
  {
   "cell_type": "markdown",
   "metadata": {
    "papermill": {
     "duration": 0.132102,
     "end_time": "2020-10-24T09:44:18.986404",
     "exception": false,
     "start_time": "2020-10-24T09:44:18.854302",
     "status": "completed"
    },
    "tags": []
   },
   "source": [
    "### Converting text to Vectors /// Embedding."
   ]
  },
  {
   "cell_type": "markdown",
   "metadata": {
    "papermill": {
     "duration": 0.132818,
     "end_time": "2020-10-24T09:44:19.252736",
     "exception": false,
     "start_time": "2020-10-24T09:44:19.119918",
     "status": "completed"
    },
    "tags": []
   },
   "source": [
    "##### seperating features and Target label."
   ]
  },
  {
   "cell_type": "code",
   "execution_count": 36,
   "metadata": {
    "execution": {
     "iopub.execute_input": "2020-10-24T09:44:19.528139Z",
     "iopub.status.busy": "2020-10-24T09:44:19.527207Z",
     "iopub.status.idle": "2020-10-24T09:44:19.531769Z",
     "shell.execute_reply": "2020-10-24T09:44:19.531187Z"
    },
    "papermill": {
     "duration": 0.145997,
     "end_time": "2020-10-24T09:44:19.531889",
     "exception": false,
     "start_time": "2020-10-24T09:44:19.385892",
     "status": "completed"
    },
    "tags": []
   },
   "outputs": [
    {
     "data": {
      "text/plain": [
       "0                      deed reason earthquake may forgive\n",
       "1                   forest fire near la ronge sask canada\n",
       "2       resident asked shelter place notified officer ...\n",
       "3       people receive wildfire evacuation order calif...\n",
       "4           photo ruby alaska smoke wildfire pours school\n",
       "                              ...                        \n",
       "7608    two giant crane holding bridge collapse nearby...\n",
       "7609    aria ahrary thetawniest control wild fire cali...\n",
       "7610                        utc volcano hawaii zdtoyd ebj\n",
       "7611    police investigating e bike collided car portu...\n",
       "7612    latest home razed northern california wildfire...\n",
       "Name: text, Length: 7613, dtype: object"
      ]
     },
     "execution_count": 36,
     "metadata": {},
     "output_type": "execute_result"
    }
   ],
   "source": [
    "X = traindata[\"text\"]\n",
    "X"
   ]
  },
  {
   "cell_type": "code",
   "execution_count": 37,
   "metadata": {
    "execution": {
     "iopub.execute_input": "2020-10-24T09:44:19.807313Z",
     "iopub.status.busy": "2020-10-24T09:44:19.806261Z",
     "iopub.status.idle": "2020-10-24T09:44:19.810485Z",
     "shell.execute_reply": "2020-10-24T09:44:19.809914Z"
    },
    "papermill": {
     "duration": 0.144835,
     "end_time": "2020-10-24T09:44:19.810608",
     "exception": false,
     "start_time": "2020-10-24T09:44:19.665773",
     "status": "completed"
    },
    "tags": []
   },
   "outputs": [
    {
     "data": {
      "text/plain": [
       "0       1\n",
       "1       1\n",
       "2       1\n",
       "3       1\n",
       "4       1\n",
       "       ..\n",
       "7608    1\n",
       "7609    1\n",
       "7610    1\n",
       "7611    1\n",
       "7612    1\n",
       "Name: target, Length: 7613, dtype: int64"
      ]
     },
     "execution_count": 37,
     "metadata": {},
     "output_type": "execute_result"
    }
   ],
   "source": [
    "y = df_train.target\n",
    "y"
   ]
  },
  {
   "cell_type": "markdown",
   "metadata": {
    "papermill": {
     "duration": 0.135213,
     "end_time": "2020-10-24T09:44:20.080421",
     "exception": false,
     "start_time": "2020-10-24T09:44:19.945208",
     "status": "completed"
    },
    "tags": []
   },
   "source": [
    "##### Introducing testing set as X-test."
   ]
  },
  {
   "cell_type": "code",
   "execution_count": 38,
   "metadata": {
    "execution": {
     "iopub.execute_input": "2020-10-24T09:44:20.356712Z",
     "iopub.status.busy": "2020-10-24T09:44:20.355912Z",
     "iopub.status.idle": "2020-10-24T09:44:20.360485Z",
     "shell.execute_reply": "2020-10-24T09:44:20.359703Z"
    },
    "papermill": {
     "duration": 0.145917,
     "end_time": "2020-10-24T09:44:20.360616",
     "exception": false,
     "start_time": "2020-10-24T09:44:20.214699",
     "status": "completed"
    },
    "tags": []
   },
   "outputs": [
    {
     "data": {
      "text/plain": [
       "0                             happened terrible car crash\n",
       "1            earthquake different city stay safe everyone\n",
       "2       forest fire spot pond goose fleeing across str...\n",
       "3                    apocalypse lighting spokane wildfire\n",
       "4                      typhoon soudelor kill china taiwan\n",
       "                              ...                        \n",
       "3258    earthquake safety los angeles safety fastener ...\n",
       "3259    storm ri worse last hurricane city amp others ...\n",
       "3260             green line derailment chicago utbxlcbiuy\n",
       "3261     meg issue hazardous weather outlook hwo x rbqjhn\n",
       "3262    cityofcalgary activated municipal emergency pl...\n",
       "Name: text, Length: 3263, dtype: object"
      ]
     },
     "execution_count": 38,
     "metadata": {},
     "output_type": "execute_result"
    }
   ],
   "source": [
    "X_test = testdata.text\n",
    "X_test"
   ]
  },
  {
   "cell_type": "markdown",
   "metadata": {
    "papermill": {
     "duration": 0.134977,
     "end_time": "2020-10-24T09:44:20.631708",
     "exception": false,
     "start_time": "2020-10-24T09:44:20.496731",
     "status": "completed"
    },
    "tags": []
   },
   "source": [
    "#### importing Sklearn Model_selection API"
   ]
  },
  {
   "cell_type": "code",
   "execution_count": 39,
   "metadata": {
    "execution": {
     "iopub.execute_input": "2020-10-24T09:44:20.908051Z",
     "iopub.status.busy": "2020-10-24T09:44:20.907198Z",
     "iopub.status.idle": "2020-10-24T09:44:20.910378Z",
     "shell.execute_reply": "2020-10-24T09:44:20.909793Z"
    },
    "papermill": {
     "duration": 0.143444,
     "end_time": "2020-10-24T09:44:20.910500",
     "exception": false,
     "start_time": "2020-10-24T09:44:20.767056",
     "status": "completed"
    },
    "tags": []
   },
   "outputs": [],
   "source": [
    "from sklearn.model_selection import train_test_split ,cross_val_score"
   ]
  },
  {
   "cell_type": "code",
   "execution_count": 40,
   "metadata": {
    "execution": {
     "iopub.execute_input": "2020-10-24T09:44:21.188876Z",
     "iopub.status.busy": "2020-10-24T09:44:21.188123Z",
     "iopub.status.idle": "2020-10-24T09:44:21.191846Z",
     "shell.execute_reply": "2020-10-24T09:44:21.191287Z"
    },
    "papermill": {
     "duration": 0.145512,
     "end_time": "2020-10-24T09:44:21.191972",
     "exception": false,
     "start_time": "2020-10-24T09:44:21.046460",
     "status": "completed"
    },
    "tags": []
   },
   "outputs": [],
   "source": [
    "# We can intially use train_test_split method.\n",
    "X_train, X_val, y_train, y_val = train_test_split(X,y ,test_size=0.3)"
   ]
  },
  {
   "cell_type": "markdown",
   "metadata": {
    "papermill": {
     "duration": 0.134232,
     "end_time": "2020-10-24T09:44:21.461180",
     "exception": false,
     "start_time": "2020-10-24T09:44:21.326948",
     "status": "completed"
    },
    "tags": []
   },
   "source": [
    "#### Model with Naive-Bayes MultiNomial NB its the most basic ML algo approach for this sort of task.\n"
   ]
  },
  {
   "cell_type": "code",
   "execution_count": 41,
   "metadata": {
    "execution": {
     "iopub.execute_input": "2020-10-24T09:44:21.739748Z",
     "iopub.status.busy": "2020-10-24T09:44:21.738963Z",
     "iopub.status.idle": "2020-10-24T09:44:21.992479Z",
     "shell.execute_reply": "2020-10-24T09:44:21.991790Z"
    },
    "papermill": {
     "duration": 0.39446,
     "end_time": "2020-10-24T09:44:21.992615",
     "exception": false,
     "start_time": "2020-10-24T09:44:21.598155",
     "status": "completed"
    },
    "tags": []
   },
   "outputs": [],
   "source": [
    "from sklearn.naive_bayes import MultinomialNB\n",
    "from sklearn.ensemble import RandomForestClassifier"
   ]
  },
  {
   "cell_type": "code",
   "execution_count": 42,
   "metadata": {
    "execution": {
     "iopub.execute_input": "2020-10-24T09:44:22.270299Z",
     "iopub.status.busy": "2020-10-24T09:44:22.269560Z",
     "iopub.status.idle": "2020-10-24T09:44:22.272264Z",
     "shell.execute_reply": "2020-10-24T09:44:22.272826Z"
    },
    "papermill": {
     "duration": 0.143582,
     "end_time": "2020-10-24T09:44:22.272974",
     "exception": false,
     "start_time": "2020-10-24T09:44:22.129392",
     "status": "completed"
    },
    "tags": []
   },
   "outputs": [],
   "source": [
    "multNB = MultinomialNB()"
   ]
  },
  {
   "cell_type": "markdown",
   "metadata": {
    "papermill": {
     "duration": 0.135097,
     "end_time": "2020-10-24T09:44:22.543820",
     "exception": false,
     "start_time": "2020-10-24T09:44:22.408723",
     "status": "completed"
    },
    "tags": []
   },
   "source": [
    "#### Initially we can deploy a Pipeline and if further model improvemnt is needed we can move onto some specific stepwise precision approach."
   ]
  },
  {
   "cell_type": "code",
   "execution_count": 43,
   "metadata": {
    "execution": {
     "iopub.execute_input": "2020-10-24T09:44:22.821339Z",
     "iopub.status.busy": "2020-10-24T09:44:22.820260Z",
     "iopub.status.idle": "2020-10-24T09:44:22.823709Z",
     "shell.execute_reply": "2020-10-24T09:44:22.822963Z"
    },
    "papermill": {
     "duration": 0.143946,
     "end_time": "2020-10-24T09:44:22.823832",
     "exception": false,
     "start_time": "2020-10-24T09:44:22.679886",
     "status": "completed"
    },
    "tags": []
   },
   "outputs": [],
   "source": [
    "model = Pipeline([\n",
    "     ('vectorizer',TfidfVectorizer(min_df=2, max_df=0.5, ngram_range=(1, 2))),\n",
    "     ('classifier',MultinomialNB())\n",
    "])"
   ]
  },
  {
   "cell_type": "code",
   "execution_count": 44,
   "metadata": {
    "execution": {
     "iopub.execute_input": "2020-10-24T09:44:23.135811Z",
     "iopub.status.busy": "2020-10-24T09:44:23.130825Z",
     "iopub.status.idle": "2020-10-24T09:44:23.468142Z",
     "shell.execute_reply": "2020-10-24T09:44:23.467365Z"
    },
    "papermill": {
     "duration": 0.507933,
     "end_time": "2020-10-24T09:44:23.468299",
     "exception": false,
     "start_time": "2020-10-24T09:44:22.960366",
     "status": "completed"
    },
    "tags": []
   },
   "outputs": [
    {
     "data": {
      "text/plain": [
       "0.7850262697022767"
      ]
     },
     "execution_count": 44,
     "metadata": {},
     "output_type": "execute_result"
    }
   ],
   "source": [
    "model.fit(X_train,y_train)\n",
    "score = model.score(X_val,y_val)\n",
    "score"
   ]
  },
  {
   "cell_type": "code",
   "execution_count": 45,
   "metadata": {
    "execution": {
     "iopub.execute_input": "2020-10-24T09:44:23.770619Z",
     "iopub.status.busy": "2020-10-24T09:44:23.755092Z",
     "iopub.status.idle": "2020-10-24T09:44:23.825943Z",
     "shell.execute_reply": "2020-10-24T09:44:23.825298Z"
    },
    "papermill": {
     "duration": 0.221232,
     "end_time": "2020-10-24T09:44:23.826070",
     "exception": false,
     "start_time": "2020-10-24T09:44:23.604838",
     "status": "completed"
    },
    "tags": []
   },
   "outputs": [],
   "source": [
    "pred = model.predict(X_val)"
   ]
  },
  {
   "cell_type": "code",
   "execution_count": 46,
   "metadata": {
    "execution": {
     "iopub.execute_input": "2020-10-24T09:44:24.104587Z",
     "iopub.status.busy": "2020-10-24T09:44:24.103699Z",
     "iopub.status.idle": "2020-10-24T09:44:24.108068Z",
     "shell.execute_reply": "2020-10-24T09:44:24.107450Z"
    },
    "papermill": {
     "duration": 0.145685,
     "end_time": "2020-10-24T09:44:24.108187",
     "exception": false,
     "start_time": "2020-10-24T09:44:23.962502",
     "status": "completed"
    },
    "tags": []
   },
   "outputs": [
    {
     "data": {
      "text/plain": [
       "array([0, 0, 0, ..., 0, 0, 0])"
      ]
     },
     "execution_count": 46,
     "metadata": {},
     "output_type": "execute_result"
    }
   ],
   "source": [
    "pred"
   ]
  },
  {
   "cell_type": "code",
   "execution_count": 47,
   "metadata": {
    "execution": {
     "iopub.execute_input": "2020-10-24T09:44:24.388381Z",
     "iopub.status.busy": "2020-10-24T09:44:24.387636Z",
     "iopub.status.idle": "2020-10-24T09:44:24.390380Z",
     "shell.execute_reply": "2020-10-24T09:44:24.389677Z"
    },
    "papermill": {
     "duration": 0.144689,
     "end_time": "2020-10-24T09:44:24.390493",
     "exception": false,
     "start_time": "2020-10-24T09:44:24.245804",
     "status": "completed"
    },
    "tags": []
   },
   "outputs": [],
   "source": [
    "from sklearn.metrics import confusion_matrix,accuracy_score,f1_score"
   ]
  },
  {
   "cell_type": "code",
   "execution_count": 48,
   "metadata": {
    "execution": {
     "iopub.execute_input": "2020-10-24T09:44:24.670286Z",
     "iopub.status.busy": "2020-10-24T09:44:24.669520Z",
     "iopub.status.idle": "2020-10-24T09:44:24.678626Z",
     "shell.execute_reply": "2020-10-24T09:44:24.679143Z"
    },
    "papermill": {
     "duration": 0.152224,
     "end_time": "2020-10-24T09:44:24.679322",
     "exception": false,
     "start_time": "2020-10-24T09:44:24.527098",
     "status": "completed"
    },
    "tags": []
   },
   "outputs": [
    {
     "data": {
      "text/plain": [
       "array([[1197,  389],\n",
       "       [ 102,  596]])"
      ]
     },
     "execution_count": 48,
     "metadata": {},
     "output_type": "execute_result"
    }
   ],
   "source": [
    "confusion_matrix(pred,y_val)"
   ]
  },
  {
   "cell_type": "code",
   "execution_count": 49,
   "metadata": {
    "execution": {
     "iopub.execute_input": "2020-10-24T09:44:24.960504Z",
     "iopub.status.busy": "2020-10-24T09:44:24.959428Z",
     "iopub.status.idle": "2020-10-24T09:44:24.967032Z",
     "shell.execute_reply": "2020-10-24T09:44:24.966344Z"
    },
    "papermill": {
     "duration": 0.150273,
     "end_time": "2020-10-24T09:44:24.967154",
     "exception": false,
     "start_time": "2020-10-24T09:44:24.816881",
     "status": "completed"
    },
    "tags": []
   },
   "outputs": [
    {
     "data": {
      "text/plain": [
       "0.7082590612002376"
      ]
     },
     "execution_count": 49,
     "metadata": {},
     "output_type": "execute_result"
    }
   ],
   "source": [
    "f1_score(pred,y_val)"
   ]
  },
  {
   "cell_type": "markdown",
   "metadata": {
    "papermill": {
     "duration": 0.137444,
     "end_time": "2020-10-24T09:44:25.243432",
     "exception": false,
     "start_time": "2020-10-24T09:44:25.105988",
     "status": "completed"
    },
    "tags": []
   },
   "source": [
    "### As the Accuracy is bit low we can move on to threshold adjustment or AUC_ROC correwction method"
   ]
  },
  {
   "cell_type": "code",
   "execution_count": 50,
   "metadata": {
    "execution": {
     "iopub.execute_input": "2020-10-24T09:44:25.559802Z",
     "iopub.status.busy": "2020-10-24T09:44:25.554828Z",
     "iopub.status.idle": "2020-10-24T09:44:25.610542Z",
     "shell.execute_reply": "2020-10-24T09:44:25.611139Z"
    },
    "papermill": {
     "duration": 0.229906,
     "end_time": "2020-10-24T09:44:25.611345",
     "exception": false,
     "start_time": "2020-10-24T09:44:25.381439",
     "status": "completed"
    },
    "tags": []
   },
   "outputs": [
    {
     "data": {
      "text/plain": [
       "array([[0.68375805, 0.31624195],\n",
       "       [0.83032429, 0.16967571],\n",
       "       [0.72153606, 0.27846394],\n",
       "       ...,\n",
       "       [0.68324399, 0.31675601],\n",
       "       [0.92938266, 0.07061734],\n",
       "       [0.79938182, 0.20061818]])"
      ]
     },
     "execution_count": 50,
     "metadata": {},
     "output_type": "execute_result"
    }
   ],
   "source": [
    "predproba = model.predict_proba(X_val)     #[:,1]\n",
    "predproba"
   ]
  },
  {
   "cell_type": "code",
   "execution_count": 51,
   "metadata": {
    "execution": {
     "iopub.execute_input": "2020-10-24T09:44:25.946293Z",
     "iopub.status.busy": "2020-10-24T09:44:25.941355Z",
     "iopub.status.idle": "2020-10-24T09:44:26.004526Z",
     "shell.execute_reply": "2020-10-24T09:44:26.003722Z"
    },
    "papermill": {
     "duration": 0.227663,
     "end_time": "2020-10-24T09:44:26.004676",
     "exception": false,
     "start_time": "2020-10-24T09:44:25.777013",
     "status": "completed"
    },
    "tags": []
   },
   "outputs": [
    {
     "data": {
      "text/plain": [
       "array([0.31624195, 0.16967571, 0.27846394, ..., 0.31675601, 0.07061734,\n",
       "       0.20061818])"
      ]
     },
     "execution_count": 51,
     "metadata": {},
     "output_type": "execute_result"
    }
   ],
   "source": [
    "threshold = model.predict_proba(X_val)[:,1]\n",
    "threshold"
   ]
  },
  {
   "cell_type": "markdown",
   "metadata": {
    "papermill": {
     "duration": 0.156401,
     "end_time": "2020-10-24T09:44:26.318498",
     "exception": false,
     "start_time": "2020-10-24T09:44:26.162097",
     "status": "completed"
    },
    "tags": []
   },
   "source": [
    "###### reviewing accuracy"
   ]
  },
  {
   "cell_type": "code",
   "execution_count": 52,
   "metadata": {
    "execution": {
     "iopub.execute_input": "2020-10-24T09:44:26.629196Z",
     "iopub.status.busy": "2020-10-24T09:44:26.628471Z",
     "iopub.status.idle": "2020-10-24T09:44:27.594939Z",
     "shell.execute_reply": "2020-10-24T09:44:27.594328Z"
    },
    "papermill": {
     "duration": 1.119904,
     "end_time": "2020-10-24T09:44:27.595069",
     "exception": false,
     "start_time": "2020-10-24T09:44:26.475165",
     "status": "completed"
    },
    "tags": []
   },
   "outputs": [],
   "source": [
    "accuracy_ls = []\n",
    "for thres in threshold:\n",
    "    y_pred_review = np.where(threshold > thres ,1,0)\n",
    "    score = accuracy_score(y_pred_review,y_val ,normalize=True)\n",
    "    accuracy_ls.append(score)\n",
    "thres_series = pd.Series(threshold)\n",
    "accuracy_series = pd.Series(accuracy_ls)\n",
    "fin_accuracy = pd.concat((thres_series,accuracy_series) ,axis=1)\n",
    "fin_accuracy.columns = ['threshold','accuracy']\n",
    "fin_accuracy.sort_values(by='accuracy',ascending=False,inplace=True)"
   ]
  },
  {
   "cell_type": "code",
   "execution_count": 53,
   "metadata": {
    "execution": {
     "iopub.execute_input": "2020-10-24T09:44:27.891467Z",
     "iopub.status.busy": "2020-10-24T09:44:27.890275Z",
     "iopub.status.idle": "2020-10-24T09:44:27.894373Z",
     "shell.execute_reply": "2020-10-24T09:44:27.894961Z"
    },
    "papermill": {
     "duration": 0.157734,
     "end_time": "2020-10-24T09:44:27.895115",
     "exception": false,
     "start_time": "2020-10-24T09:44:27.737381",
     "status": "completed"
    },
    "tags": []
   },
   "outputs": [
    {
     "data": {
      "text/html": [
       "<div>\n",
       "<style scoped>\n",
       "    .dataframe tbody tr th:only-of-type {\n",
       "        vertical-align: middle;\n",
       "    }\n",
       "\n",
       "    .dataframe tbody tr th {\n",
       "        vertical-align: top;\n",
       "    }\n",
       "\n",
       "    .dataframe thead th {\n",
       "        text-align: right;\n",
       "    }\n",
       "</style>\n",
       "<table border=\"1\" class=\"dataframe\">\n",
       "  <thead>\n",
       "    <tr style=\"text-align: right;\">\n",
       "      <th></th>\n",
       "      <th>threshold</th>\n",
       "      <th>accuracy</th>\n",
       "    </tr>\n",
       "  </thead>\n",
       "  <tbody>\n",
       "    <tr>\n",
       "      <th>507</th>\n",
       "      <td>0.451268</td>\n",
       "      <td>0.794221</td>\n",
       "    </tr>\n",
       "    <tr>\n",
       "      <th>421</th>\n",
       "      <td>0.454141</td>\n",
       "      <td>0.793783</td>\n",
       "    </tr>\n",
       "    <tr>\n",
       "      <th>1798</th>\n",
       "      <td>0.455756</td>\n",
       "      <td>0.793783</td>\n",
       "    </tr>\n",
       "    <tr>\n",
       "      <th>138</th>\n",
       "      <td>0.448980</td>\n",
       "      <td>0.793783</td>\n",
       "    </tr>\n",
       "    <tr>\n",
       "      <th>1736</th>\n",
       "      <td>0.450838</td>\n",
       "      <td>0.793783</td>\n",
       "    </tr>\n",
       "    <tr>\n",
       "      <th>...</th>\n",
       "      <td>...</td>\n",
       "      <td>...</td>\n",
       "    </tr>\n",
       "    <tr>\n",
       "      <th>2030</th>\n",
       "      <td>0.009020</td>\n",
       "      <td>0.431699</td>\n",
       "    </tr>\n",
       "    <tr>\n",
       "      <th>258</th>\n",
       "      <td>0.008440</td>\n",
       "      <td>0.431261</td>\n",
       "    </tr>\n",
       "    <tr>\n",
       "      <th>545</th>\n",
       "      <td>0.008440</td>\n",
       "      <td>0.431261</td>\n",
       "    </tr>\n",
       "    <tr>\n",
       "      <th>1941</th>\n",
       "      <td>0.008376</td>\n",
       "      <td>0.431261</td>\n",
       "    </tr>\n",
       "    <tr>\n",
       "      <th>887</th>\n",
       "      <td>0.007835</td>\n",
       "      <td>0.430823</td>\n",
       "    </tr>\n",
       "  </tbody>\n",
       "</table>\n",
       "<p>2284 rows × 2 columns</p>\n",
       "</div>"
      ],
      "text/plain": [
       "      threshold  accuracy\n",
       "507    0.451268  0.794221\n",
       "421    0.454141  0.793783\n",
       "1798   0.455756  0.793783\n",
       "138    0.448980  0.793783\n",
       "1736   0.450838  0.793783\n",
       "...         ...       ...\n",
       "2030   0.009020  0.431699\n",
       "258    0.008440  0.431261\n",
       "545    0.008440  0.431261\n",
       "1941   0.008376  0.431261\n",
       "887    0.007835  0.430823\n",
       "\n",
       "[2284 rows x 2 columns]"
      ]
     },
     "execution_count": 53,
     "metadata": {},
     "output_type": "execute_result"
    }
   ],
   "source": [
    "fin_accuracy"
   ]
  },
  {
   "cell_type": "markdown",
   "metadata": {
    "papermill": {
     "duration": 0.139988,
     "end_time": "2020-10-24T09:44:28.175803",
     "exception": false,
     "start_time": "2020-10-24T09:44:28.035815",
     "status": "completed"
    },
    "tags": []
   },
   "source": [
    "#### Final Adjusted prediction"
   ]
  },
  {
   "cell_type": "code",
   "execution_count": 54,
   "metadata": {
    "execution": {
     "iopub.execute_input": "2020-10-24T09:44:28.461530Z",
     "iopub.status.busy": "2020-10-24T09:44:28.460531Z",
     "iopub.status.idle": "2020-10-24T09:44:28.465450Z",
     "shell.execute_reply": "2020-10-24T09:44:28.465958Z"
    },
    "papermill": {
     "duration": 0.150469,
     "end_time": "2020-10-24T09:44:28.466113",
     "exception": false,
     "start_time": "2020-10-24T09:44:28.315644",
     "status": "completed"
    },
    "tags": []
   },
   "outputs": [
    {
     "data": {
      "text/plain": [
       "array([0, 0, 0, ..., 0, 0, 0])"
      ]
     },
     "execution_count": 54,
     "metadata": {},
     "output_type": "execute_result"
    }
   ],
   "source": [
    "final_adj_pred = np.where(threshold > 0.492724 ,1,0)\n",
    "final_adj_pred"
   ]
  },
  {
   "cell_type": "code",
   "execution_count": 55,
   "metadata": {
    "execution": {
     "iopub.execute_input": "2020-10-24T09:44:28.755828Z",
     "iopub.status.busy": "2020-10-24T09:44:28.754827Z",
     "iopub.status.idle": "2020-10-24T09:44:28.764952Z",
     "shell.execute_reply": "2020-10-24T09:44:28.764242Z"
    },
    "papermill": {
     "duration": 0.15803,
     "end_time": "2020-10-24T09:44:28.765072",
     "exception": false,
     "start_time": "2020-10-24T09:44:28.607042",
     "status": "completed"
    },
    "tags": []
   },
   "outputs": [
    {
     "data": {
      "text/plain": [
       "array([[1191,  385],\n",
       "       [ 108,  600]])"
      ]
     },
     "execution_count": 55,
     "metadata": {},
     "output_type": "execute_result"
    }
   ],
   "source": [
    "confusion_matrix(final_adj_pred,y_val)"
   ]
  },
  {
   "cell_type": "code",
   "execution_count": 56,
   "metadata": {
    "execution": {
     "iopub.execute_input": "2020-10-24T09:44:29.052976Z",
     "iopub.status.busy": "2020-10-24T09:44:29.052211Z",
     "iopub.status.idle": "2020-10-24T09:44:29.060032Z",
     "shell.execute_reply": "2020-10-24T09:44:29.059338Z"
    },
    "papermill": {
     "duration": 0.153347,
     "end_time": "2020-10-24T09:44:29.060150",
     "exception": false,
     "start_time": "2020-10-24T09:44:28.906803",
     "status": "completed"
    },
    "tags": []
   },
   "outputs": [
    {
     "data": {
      "text/plain": [
       "0.7088009450679268"
      ]
     },
     "execution_count": 56,
     "metadata": {},
     "output_type": "execute_result"
    }
   ],
   "source": [
    "f1_score(final_adj_pred,y_val)"
   ]
  },
  {
   "cell_type": "code",
   "execution_count": 57,
   "metadata": {
    "execution": {
     "iopub.execute_input": "2020-10-24T09:44:29.351572Z",
     "iopub.status.busy": "2020-10-24T09:44:29.350534Z",
     "iopub.status.idle": "2020-10-24T09:44:29.356758Z",
     "shell.execute_reply": "2020-10-24T09:44:29.356045Z"
    },
    "papermill": {
     "duration": 0.153173,
     "end_time": "2020-10-24T09:44:29.356882",
     "exception": false,
     "start_time": "2020-10-24T09:44:29.203709",
     "status": "completed"
    },
    "tags": []
   },
   "outputs": [
    {
     "data": {
      "text/plain": [
       "0.7841506129597198"
      ]
     },
     "execution_count": 57,
     "metadata": {},
     "output_type": "execute_result"
    }
   ],
   "source": [
    "scoreadj = accuracy_score(final_adj_pred,y_val)\n",
    "scoreadj"
   ]
  },
  {
   "cell_type": "markdown",
   "metadata": {
    "papermill": {
     "duration": 0.143408,
     "end_time": "2020-10-24T09:44:29.643386",
     "exception": false,
     "start_time": "2020-10-24T09:44:29.499978",
     "status": "completed"
    },
    "tags": []
   },
   "source": [
    "##### Eventhough its only a slight improvement in the score its satisfialbe for prediction."
   ]
  },
  {
   "cell_type": "code",
   "execution_count": 58,
   "metadata": {
    "execution": {
     "iopub.execute_input": "2020-10-24T09:44:29.958630Z",
     "iopub.status.busy": "2020-10-24T09:44:29.953718Z",
     "iopub.status.idle": "2020-10-24T09:44:30.046637Z",
     "shell.execute_reply": "2020-10-24T09:44:30.047178Z"
    },
    "papermill": {
     "duration": 0.260165,
     "end_time": "2020-10-24T09:44:30.047359",
     "exception": false,
     "start_time": "2020-10-24T09:44:29.787194",
     "status": "completed"
    },
    "tags": []
   },
   "outputs": [
    {
     "data": {
      "text/plain": [
       "array([1, 0, 1, ..., 1, 1, 1])"
      ]
     },
     "execution_count": 58,
     "metadata": {},
     "output_type": "execute_result"
    }
   ],
   "source": [
    "final_test_data_pred = model.predict_proba(X_test)[:,1]\n",
    "fin_adj_pred = (final_test_data_pred > 0.4927274 ).astype(int)\n",
    "fin_adj_pred"
   ]
  },
  {
   "cell_type": "markdown",
   "metadata": {
    "papermill": {
     "duration": 0.142355,
     "end_time": "2020-10-24T09:44:30.333416",
     "exception": false,
     "start_time": "2020-10-24T09:44:30.191061",
     "status": "completed"
    },
    "tags": []
   },
   "source": [
    "### Creating a submission CSV file"
   ]
  },
  {
   "cell_type": "code",
   "execution_count": 59,
   "metadata": {
    "execution": {
     "iopub.execute_input": "2020-10-24T09:44:30.628085Z",
     "iopub.status.busy": "2020-10-24T09:44:30.627360Z",
     "iopub.status.idle": "2020-10-24T09:44:30.643026Z",
     "shell.execute_reply": "2020-10-24T09:44:30.642286Z"
    },
    "papermill": {
     "duration": 0.166537,
     "end_time": "2020-10-24T09:44:30.643147",
     "exception": false,
     "start_time": "2020-10-24T09:44:30.476610",
     "status": "completed"
    },
    "tags": []
   },
   "outputs": [],
   "source": [
    "dfsubmtest = pd.read_csv(\"../input/nlp-getting-started/test.csv\")"
   ]
  },
  {
   "cell_type": "code",
   "execution_count": 60,
   "metadata": {
    "execution": {
     "iopub.execute_input": "2020-10-24T09:44:30.938653Z",
     "iopub.status.busy": "2020-10-24T09:44:30.937567Z",
     "iopub.status.idle": "2020-10-24T09:44:30.940355Z",
     "shell.execute_reply": "2020-10-24T09:44:30.940872Z"
    },
    "papermill": {
     "duration": 0.15348,
     "end_time": "2020-10-24T09:44:30.941032",
     "exception": false,
     "start_time": "2020-10-24T09:44:30.787552",
     "status": "completed"
    },
    "tags": []
   },
   "outputs": [],
   "source": [
    "submission =pd.DataFrame({'id':dfsubmtest.id,\n",
    "                         'target':fin_adj_pred})\n",
    "submission.set_index('id',inplace=True)"
   ]
  },
  {
   "cell_type": "code",
   "execution_count": 61,
   "metadata": {
    "execution": {
     "iopub.execute_input": "2020-10-24T09:44:31.242426Z",
     "iopub.status.busy": "2020-10-24T09:44:31.241564Z",
     "iopub.status.idle": "2020-10-24T09:44:31.246355Z",
     "shell.execute_reply": "2020-10-24T09:44:31.245721Z"
    },
    "papermill": {
     "duration": 0.161766,
     "end_time": "2020-10-24T09:44:31.246478",
     "exception": false,
     "start_time": "2020-10-24T09:44:31.084712",
     "status": "completed"
    },
    "tags": []
   },
   "outputs": [
    {
     "data": {
      "text/html": [
       "<div>\n",
       "<style scoped>\n",
       "    .dataframe tbody tr th:only-of-type {\n",
       "        vertical-align: middle;\n",
       "    }\n",
       "\n",
       "    .dataframe tbody tr th {\n",
       "        vertical-align: top;\n",
       "    }\n",
       "\n",
       "    .dataframe thead th {\n",
       "        text-align: right;\n",
       "    }\n",
       "</style>\n",
       "<table border=\"1\" class=\"dataframe\">\n",
       "  <thead>\n",
       "    <tr style=\"text-align: right;\">\n",
       "      <th></th>\n",
       "      <th>target</th>\n",
       "    </tr>\n",
       "    <tr>\n",
       "      <th>id</th>\n",
       "      <th></th>\n",
       "    </tr>\n",
       "  </thead>\n",
       "  <tbody>\n",
       "    <tr>\n",
       "      <th>0</th>\n",
       "      <td>1</td>\n",
       "    </tr>\n",
       "    <tr>\n",
       "      <th>2</th>\n",
       "      <td>0</td>\n",
       "    </tr>\n",
       "    <tr>\n",
       "      <th>3</th>\n",
       "      <td>1</td>\n",
       "    </tr>\n",
       "    <tr>\n",
       "      <th>9</th>\n",
       "      <td>1</td>\n",
       "    </tr>\n",
       "    <tr>\n",
       "      <th>11</th>\n",
       "      <td>1</td>\n",
       "    </tr>\n",
       "    <tr>\n",
       "      <th>...</th>\n",
       "      <td>...</td>\n",
       "    </tr>\n",
       "    <tr>\n",
       "      <th>10861</th>\n",
       "      <td>1</td>\n",
       "    </tr>\n",
       "    <tr>\n",
       "      <th>10865</th>\n",
       "      <td>0</td>\n",
       "    </tr>\n",
       "    <tr>\n",
       "      <th>10868</th>\n",
       "      <td>1</td>\n",
       "    </tr>\n",
       "    <tr>\n",
       "      <th>10874</th>\n",
       "      <td>1</td>\n",
       "    </tr>\n",
       "    <tr>\n",
       "      <th>10875</th>\n",
       "      <td>1</td>\n",
       "    </tr>\n",
       "  </tbody>\n",
       "</table>\n",
       "<p>3263 rows × 1 columns</p>\n",
       "</div>"
      ],
      "text/plain": [
       "       target\n",
       "id           \n",
       "0           1\n",
       "2           0\n",
       "3           1\n",
       "9           1\n",
       "11          1\n",
       "...       ...\n",
       "10861       1\n",
       "10865       0\n",
       "10868       1\n",
       "10874       1\n",
       "10875       1\n",
       "\n",
       "[3263 rows x 1 columns]"
      ]
     },
     "execution_count": 61,
     "metadata": {},
     "output_type": "execute_result"
    }
   ],
   "source": [
    "submission"
   ]
  },
  {
   "cell_type": "code",
   "execution_count": 62,
   "metadata": {
    "execution": {
     "iopub.execute_input": "2020-10-24T09:44:31.540826Z",
     "iopub.status.busy": "2020-10-24T09:44:31.540060Z",
     "iopub.status.idle": "2020-10-24T09:44:31.542927Z",
     "shell.execute_reply": "2020-10-24T09:44:31.542212Z"
    },
    "papermill": {
     "duration": 0.151909,
     "end_time": "2020-10-24T09:44:31.543049",
     "exception": false,
     "start_time": "2020-10-24T09:44:31.391140",
     "status": "completed"
    },
    "tags": []
   },
   "outputs": [],
   "source": [
    "# submission.to_csv(\"submission.csv\")"
   ]
  },
  {
   "cell_type": "markdown",
   "metadata": {
    "papermill": {
     "duration": 0.143601,
     "end_time": "2020-10-24T09:44:31.837012",
     "exception": false,
     "start_time": "2020-10-24T09:44:31.693411",
     "status": "completed"
    },
    "tags": []
   },
   "source": [
    "### word2vec model and Neural network model for prediction.\n",
    "\n"
   ]
  },
  {
   "cell_type": "code",
   "execution_count": 63,
   "metadata": {
    "execution": {
     "iopub.execute_input": "2020-10-24T09:44:32.217873Z",
     "iopub.status.busy": "2020-10-24T09:44:32.207324Z",
     "iopub.status.idle": "2020-10-24T09:44:32.223318Z",
     "shell.execute_reply": "2020-10-24T09:44:32.222622Z"
    },
    "papermill": {
     "duration": 0.194053,
     "end_time": "2020-10-24T09:44:32.223457",
     "exception": false,
     "start_time": "2020-10-24T09:44:32.029404",
     "status": "completed"
    },
    "tags": []
   },
   "outputs": [
    {
     "data": {
      "text/plain": [
       "0                [deed, reason, earthquake, may, forgive]\n",
       "1           [forest, fire, near, la, ronge, sask, canada]\n",
       "2       [resident, asked, shelter, place, notified, of...\n",
       "3       [people, receive, wildfire, evacuation, order,...\n",
       "4       [photo, ruby, alaska, smoke, wildfire, pours, ...\n",
       "                              ...                        \n",
       "7608    [two, giant, crane, holding, bridge, collapse,...\n",
       "7609    [aria, ahrary, thetawniest, control, wild, fir...\n",
       "7610                  [utc, volcano, hawaii, zdtoyd, ebj]\n",
       "7611    [police, investigating, e, bike, collided, car...\n",
       "7612    [latest, home, razed, northern, california, wi...\n",
       "Name: text, Length: 7613, dtype: object"
      ]
     },
     "execution_count": 63,
     "metadata": {},
     "output_type": "execute_result"
    }
   ],
   "source": [
    "token_train = traindata[\"text\"].apply(lambda x: x.split())\n",
    "token_train\n"
   ]
  },
  {
   "cell_type": "code",
   "execution_count": 64,
   "metadata": {
    "execution": {
     "iopub.execute_input": "2020-10-24T09:44:32.561709Z",
     "iopub.status.busy": "2020-10-24T09:44:32.560612Z",
     "iopub.status.idle": "2020-10-24T09:44:32.564924Z",
     "shell.execute_reply": "2020-10-24T09:44:32.564193Z"
    },
    "papermill": {
     "duration": 0.183024,
     "end_time": "2020-10-24T09:44:32.565046",
     "exception": false,
     "start_time": "2020-10-24T09:44:32.382022",
     "status": "completed"
    },
    "tags": []
   },
   "outputs": [
    {
     "data": {
      "text/plain": [
       "0                     [happened, terrible, car, crash]\n",
       "1    [earthquake, different, city, stay, safe, ever...\n",
       "2    [forest, fire, spot, pond, goose, fleeing, acr...\n",
       "3            [apocalypse, lighting, spokane, wildfire]\n",
       "4             [typhoon, soudelor, kill, china, taiwan]\n",
       "Name: text, dtype: object"
      ]
     },
     "execution_count": 64,
     "metadata": {},
     "output_type": "execute_result"
    }
   ],
   "source": [
    "token_test = testdata['text'].apply(lambda x: x.split())\n",
    "token_test.head(5)"
   ]
  },
  {
   "cell_type": "code",
   "execution_count": 65,
   "metadata": {
    "execution": {
     "iopub.execute_input": "2020-10-24T09:44:32.876633Z",
     "iopub.status.busy": "2020-10-24T09:44:32.875723Z",
     "iopub.status.idle": "2020-10-24T09:44:32.880768Z",
     "shell.execute_reply": "2020-10-24T09:44:32.880029Z"
    },
    "papermill": {
     "duration": 0.167965,
     "end_time": "2020-10-24T09:44:32.880889",
     "exception": false,
     "start_time": "2020-10-24T09:44:32.712924",
     "status": "completed"
    },
    "tags": []
   },
   "outputs": [
    {
     "data": {
      "text/html": [
       "<div>\n",
       "<style scoped>\n",
       "    .dataframe tbody tr th:only-of-type {\n",
       "        vertical-align: middle;\n",
       "    }\n",
       "\n",
       "    .dataframe tbody tr th {\n",
       "        vertical-align: top;\n",
       "    }\n",
       "\n",
       "    .dataframe thead th {\n",
       "        text-align: right;\n",
       "    }\n",
       "</style>\n",
       "<table border=\"1\" class=\"dataframe\">\n",
       "  <thead>\n",
       "    <tr style=\"text-align: right;\">\n",
       "      <th></th>\n",
       "      <th>text</th>\n",
       "    </tr>\n",
       "  </thead>\n",
       "  <tbody>\n",
       "    <tr>\n",
       "      <th>0</th>\n",
       "      <td>[deed, reason, earthquake, may, forgive]</td>\n",
       "    </tr>\n",
       "    <tr>\n",
       "      <th>1</th>\n",
       "      <td>[forest, fire, near, la, ronge, sask, canada]</td>\n",
       "    </tr>\n",
       "    <tr>\n",
       "      <th>2</th>\n",
       "      <td>[resident, asked, shelter, place, notified, of...</td>\n",
       "    </tr>\n",
       "    <tr>\n",
       "      <th>3</th>\n",
       "      <td>[people, receive, wildfire, evacuation, order,...</td>\n",
       "    </tr>\n",
       "    <tr>\n",
       "      <th>4</th>\n",
       "      <td>[photo, ruby, alaska, smoke, wildfire, pours, ...</td>\n",
       "    </tr>\n",
       "    <tr>\n",
       "      <th>...</th>\n",
       "      <td>...</td>\n",
       "    </tr>\n",
       "    <tr>\n",
       "      <th>7608</th>\n",
       "      <td>[two, giant, crane, holding, bridge, collapse,...</td>\n",
       "    </tr>\n",
       "    <tr>\n",
       "      <th>7609</th>\n",
       "      <td>[aria, ahrary, thetawniest, control, wild, fir...</td>\n",
       "    </tr>\n",
       "    <tr>\n",
       "      <th>7610</th>\n",
       "      <td>[utc, volcano, hawaii, zdtoyd, ebj]</td>\n",
       "    </tr>\n",
       "    <tr>\n",
       "      <th>7611</th>\n",
       "      <td>[police, investigating, e, bike, collided, car...</td>\n",
       "    </tr>\n",
       "    <tr>\n",
       "      <th>7612</th>\n",
       "      <td>[latest, home, razed, northern, california, wi...</td>\n",
       "    </tr>\n",
       "  </tbody>\n",
       "</table>\n",
       "<p>7613 rows × 1 columns</p>\n",
       "</div>"
      ],
      "text/plain": [
       "                                                   text\n",
       "0              [deed, reason, earthquake, may, forgive]\n",
       "1         [forest, fire, near, la, ronge, sask, canada]\n",
       "2     [resident, asked, shelter, place, notified, of...\n",
       "3     [people, receive, wildfire, evacuation, order,...\n",
       "4     [photo, ruby, alaska, smoke, wildfire, pours, ...\n",
       "...                                                 ...\n",
       "7608  [two, giant, crane, holding, bridge, collapse,...\n",
       "7609  [aria, ahrary, thetawniest, control, wild, fir...\n",
       "7610                [utc, volcano, hawaii, zdtoyd, ebj]\n",
       "7611  [police, investigating, e, bike, collided, car...\n",
       "7612  [latest, home, razed, northern, california, wi...\n",
       "\n",
       "[7613 rows x 1 columns]"
      ]
     },
     "execution_count": 65,
     "metadata": {},
     "output_type": "execute_result"
    }
   ],
   "source": [
    "token_tr = pd.DataFrame(token_train)\n",
    "token_tr"
   ]
  },
  {
   "cell_type": "code",
   "execution_count": 66,
   "metadata": {
    "execution": {
     "iopub.execute_input": "2020-10-24T09:44:33.212062Z",
     "iopub.status.busy": "2020-10-24T09:44:33.211033Z",
     "iopub.status.idle": "2020-10-24T09:44:33.215839Z",
     "shell.execute_reply": "2020-10-24T09:44:33.215107Z"
    },
    "papermill": {
     "duration": 0.169756,
     "end_time": "2020-10-24T09:44:33.215960",
     "exception": false,
     "start_time": "2020-10-24T09:44:33.046204",
     "status": "completed"
    },
    "tags": []
   },
   "outputs": [
    {
     "data": {
      "text/html": [
       "<div>\n",
       "<style scoped>\n",
       "    .dataframe tbody tr th:only-of-type {\n",
       "        vertical-align: middle;\n",
       "    }\n",
       "\n",
       "    .dataframe tbody tr th {\n",
       "        vertical-align: top;\n",
       "    }\n",
       "\n",
       "    .dataframe thead th {\n",
       "        text-align: right;\n",
       "    }\n",
       "</style>\n",
       "<table border=\"1\" class=\"dataframe\">\n",
       "  <thead>\n",
       "    <tr style=\"text-align: right;\">\n",
       "      <th></th>\n",
       "      <th>text</th>\n",
       "    </tr>\n",
       "  </thead>\n",
       "  <tbody>\n",
       "    <tr>\n",
       "      <th>0</th>\n",
       "      <td>[happened, terrible, car, crash]</td>\n",
       "    </tr>\n",
       "    <tr>\n",
       "      <th>1</th>\n",
       "      <td>[earthquake, different, city, stay, safe, ever...</td>\n",
       "    </tr>\n",
       "    <tr>\n",
       "      <th>2</th>\n",
       "      <td>[forest, fire, spot, pond, goose, fleeing, acr...</td>\n",
       "    </tr>\n",
       "    <tr>\n",
       "      <th>3</th>\n",
       "      <td>[apocalypse, lighting, spokane, wildfire]</td>\n",
       "    </tr>\n",
       "    <tr>\n",
       "      <th>4</th>\n",
       "      <td>[typhoon, soudelor, kill, china, taiwan]</td>\n",
       "    </tr>\n",
       "    <tr>\n",
       "      <th>...</th>\n",
       "      <td>...</td>\n",
       "    </tr>\n",
       "    <tr>\n",
       "      <th>3258</th>\n",
       "      <td>[earthquake, safety, los, angeles, safety, fas...</td>\n",
       "    </tr>\n",
       "    <tr>\n",
       "      <th>3259</th>\n",
       "      <td>[storm, ri, worse, last, hurricane, city, amp,...</td>\n",
       "    </tr>\n",
       "    <tr>\n",
       "      <th>3260</th>\n",
       "      <td>[green, line, derailment, chicago, utbxlcbiuy]</td>\n",
       "    </tr>\n",
       "    <tr>\n",
       "      <th>3261</th>\n",
       "      <td>[meg, issue, hazardous, weather, outlook, hwo,...</td>\n",
       "    </tr>\n",
       "    <tr>\n",
       "      <th>3262</th>\n",
       "      <td>[cityofcalgary, activated, municipal, emergenc...</td>\n",
       "    </tr>\n",
       "  </tbody>\n",
       "</table>\n",
       "<p>3263 rows × 1 columns</p>\n",
       "</div>"
      ],
      "text/plain": [
       "                                                   text\n",
       "0                      [happened, terrible, car, crash]\n",
       "1     [earthquake, different, city, stay, safe, ever...\n",
       "2     [forest, fire, spot, pond, goose, fleeing, acr...\n",
       "3             [apocalypse, lighting, spokane, wildfire]\n",
       "4              [typhoon, soudelor, kill, china, taiwan]\n",
       "...                                                 ...\n",
       "3258  [earthquake, safety, los, angeles, safety, fas...\n",
       "3259  [storm, ri, worse, last, hurricane, city, amp,...\n",
       "3260     [green, line, derailment, chicago, utbxlcbiuy]\n",
       "3261  [meg, issue, hazardous, weather, outlook, hwo,...\n",
       "3262  [cityofcalgary, activated, municipal, emergenc...\n",
       "\n",
       "[3263 rows x 1 columns]"
      ]
     },
     "execution_count": 66,
     "metadata": {},
     "output_type": "execute_result"
    }
   ],
   "source": [
    "token_ts = pd.DataFrame(token_test)\n",
    "token_ts"
   ]
  },
  {
   "cell_type": "code",
   "execution_count": 67,
   "metadata": {
    "execution": {
     "iopub.execute_input": "2020-10-24T09:44:33.517439Z",
     "iopub.status.busy": "2020-10-24T09:44:33.516510Z",
     "iopub.status.idle": "2020-10-24T09:44:33.520159Z",
     "shell.execute_reply": "2020-10-24T09:44:33.519458Z"
    },
    "papermill": {
     "duration": 0.157632,
     "end_time": "2020-10-24T09:44:33.520294",
     "exception": false,
     "start_time": "2020-10-24T09:44:33.362662",
     "status": "completed"
    },
    "tags": []
   },
   "outputs": [],
   "source": [
    "combined_set = pd.concat((token_tr,token_ts) ,axis = 0,ignore_index=True)"
   ]
  },
  {
   "cell_type": "code",
   "execution_count": 68,
   "metadata": {
    "execution": {
     "iopub.execute_input": "2020-10-24T09:44:33.823308Z",
     "iopub.status.busy": "2020-10-24T09:44:33.822539Z",
     "iopub.status.idle": "2020-10-24T09:44:33.827103Z",
     "shell.execute_reply": "2020-10-24T09:44:33.826534Z"
    },
    "papermill": {
     "duration": 0.157933,
     "end_time": "2020-10-24T09:44:33.827243",
     "exception": false,
     "start_time": "2020-10-24T09:44:33.669310",
     "status": "completed"
    },
    "tags": []
   },
   "outputs": [
    {
     "data": {
      "text/plain": [
       "True"
      ]
     },
     "execution_count": 68,
     "metadata": {},
     "output_type": "execute_result"
    }
   ],
   "source": [
    "len(token_ts) + len(token_tr) == len(combined_set)"
   ]
  },
  {
   "cell_type": "code",
   "execution_count": 69,
   "metadata": {
    "execution": {
     "iopub.execute_input": "2020-10-24T09:44:34.133443Z",
     "iopub.status.busy": "2020-10-24T09:44:34.132521Z",
     "iopub.status.idle": "2020-10-24T09:44:34.137477Z",
     "shell.execute_reply": "2020-10-24T09:44:34.136763Z"
    },
    "papermill": {
     "duration": 0.160977,
     "end_time": "2020-10-24T09:44:34.137596",
     "exception": false,
     "start_time": "2020-10-24T09:44:33.976619",
     "status": "completed"
    },
    "tags": []
   },
   "outputs": [
    {
     "data": {
      "text/plain": [
       "10876"
      ]
     },
     "execution_count": 69,
     "metadata": {},
     "output_type": "execute_result"
    }
   ],
   "source": [
    "len(combined_set)\n"
   ]
  },
  {
   "cell_type": "code",
   "execution_count": 70,
   "metadata": {
    "execution": {
     "iopub.execute_input": "2020-10-24T09:44:34.452631Z",
     "iopub.status.busy": "2020-10-24T09:44:34.451640Z",
     "iopub.status.idle": "2020-10-24T09:44:34.456488Z",
     "shell.execute_reply": "2020-10-24T09:44:34.455841Z"
    },
    "papermill": {
     "duration": 0.169165,
     "end_time": "2020-10-24T09:44:34.456619",
     "exception": false,
     "start_time": "2020-10-24T09:44:34.287454",
     "status": "completed"
    },
    "tags": []
   },
   "outputs": [
    {
     "data": {
      "text/html": [
       "<div>\n",
       "<style scoped>\n",
       "    .dataframe tbody tr th:only-of-type {\n",
       "        vertical-align: middle;\n",
       "    }\n",
       "\n",
       "    .dataframe tbody tr th {\n",
       "        vertical-align: top;\n",
       "    }\n",
       "\n",
       "    .dataframe thead th {\n",
       "        text-align: right;\n",
       "    }\n",
       "</style>\n",
       "<table border=\"1\" class=\"dataframe\">\n",
       "  <thead>\n",
       "    <tr style=\"text-align: right;\">\n",
       "      <th></th>\n",
       "      <th>text</th>\n",
       "    </tr>\n",
       "  </thead>\n",
       "  <tbody>\n",
       "    <tr>\n",
       "      <th>0</th>\n",
       "      <td>[deed, reason, earthquake, may, forgive]</td>\n",
       "    </tr>\n",
       "    <tr>\n",
       "      <th>1</th>\n",
       "      <td>[forest, fire, near, la, ronge, sask, canada]</td>\n",
       "    </tr>\n",
       "    <tr>\n",
       "      <th>2</th>\n",
       "      <td>[resident, asked, shelter, place, notified, of...</td>\n",
       "    </tr>\n",
       "    <tr>\n",
       "      <th>3</th>\n",
       "      <td>[people, receive, wildfire, evacuation, order,...</td>\n",
       "    </tr>\n",
       "    <tr>\n",
       "      <th>4</th>\n",
       "      <td>[photo, ruby, alaska, smoke, wildfire, pours, ...</td>\n",
       "    </tr>\n",
       "    <tr>\n",
       "      <th>...</th>\n",
       "      <td>...</td>\n",
       "    </tr>\n",
       "    <tr>\n",
       "      <th>7614</th>\n",
       "      <td>[earthquake, different, city, stay, safe, ever...</td>\n",
       "    </tr>\n",
       "    <tr>\n",
       "      <th>7615</th>\n",
       "      <td>[forest, fire, spot, pond, goose, fleeing, acr...</td>\n",
       "    </tr>\n",
       "    <tr>\n",
       "      <th>7616</th>\n",
       "      <td>[apocalypse, lighting, spokane, wildfire]</td>\n",
       "    </tr>\n",
       "    <tr>\n",
       "      <th>7617</th>\n",
       "      <td>[typhoon, soudelor, kill, china, taiwan]</td>\n",
       "    </tr>\n",
       "    <tr>\n",
       "      <th>7618</th>\n",
       "      <td>[shaking, earthquake]</td>\n",
       "    </tr>\n",
       "  </tbody>\n",
       "</table>\n",
       "<p>7619 rows × 1 columns</p>\n",
       "</div>"
      ],
      "text/plain": [
       "                                                   text\n",
       "0              [deed, reason, earthquake, may, forgive]\n",
       "1         [forest, fire, near, la, ronge, sask, canada]\n",
       "2     [resident, asked, shelter, place, notified, of...\n",
       "3     [people, receive, wildfire, evacuation, order,...\n",
       "4     [photo, ruby, alaska, smoke, wildfire, pours, ...\n",
       "...                                                 ...\n",
       "7614  [earthquake, different, city, stay, safe, ever...\n",
       "7615  [forest, fire, spot, pond, goose, fleeing, acr...\n",
       "7616          [apocalypse, lighting, spokane, wildfire]\n",
       "7617           [typhoon, soudelor, kill, china, taiwan]\n",
       "7618                              [shaking, earthquake]\n",
       "\n",
       "[7619 rows x 1 columns]"
      ]
     },
     "execution_count": 70,
     "metadata": {},
     "output_type": "execute_result"
    }
   ],
   "source": [
    "combined_set.iloc[:7619 ,:]\n"
   ]
  },
  {
   "cell_type": "markdown",
   "metadata": {
    "papermill": {
     "duration": 0.153352,
     "end_time": "2020-10-24T09:44:34.760146",
     "exception": false,
     "start_time": "2020-10-24T09:44:34.606794",
     "status": "completed"
    },
    "tags": []
   },
   "source": [
    "##### Next applying word2vec model"
   ]
  },
  {
   "cell_type": "code",
   "execution_count": 71,
   "metadata": {
    "execution": {
     "iopub.execute_input": "2020-10-24T09:44:35.076286Z",
     "iopub.status.busy": "2020-10-24T09:44:35.075376Z",
     "iopub.status.idle": "2020-10-24T09:44:35.078634Z",
     "shell.execute_reply": "2020-10-24T09:44:35.077915Z"
    },
    "papermill": {
     "duration": 0.168418,
     "end_time": "2020-10-24T09:44:35.078761",
     "exception": false,
     "start_time": "2020-10-24T09:44:34.910343",
     "status": "completed"
    },
    "tags": []
   },
   "outputs": [],
   "source": [
    "combined = combined_set.text"
   ]
  },
  {
   "cell_type": "code",
   "execution_count": 72,
   "metadata": {
    "execution": {
     "iopub.execute_input": "2020-10-24T09:44:35.395707Z",
     "iopub.status.busy": "2020-10-24T09:44:35.394808Z",
     "iopub.status.idle": "2020-10-24T09:44:35.399571Z",
     "shell.execute_reply": "2020-10-24T09:44:35.398830Z"
    },
    "papermill": {
     "duration": 0.167576,
     "end_time": "2020-10-24T09:44:35.399694",
     "exception": false,
     "start_time": "2020-10-24T09:44:35.232118",
     "status": "completed"
    },
    "tags": []
   },
   "outputs": [
    {
     "data": {
      "text/plain": [
       "0                 [deed, reason, earthquake, may, forgive]\n",
       "1            [forest, fire, near, la, ronge, sask, canada]\n",
       "2        [resident, asked, shelter, place, notified, of...\n",
       "3        [people, receive, wildfire, evacuation, order,...\n",
       "4        [photo, ruby, alaska, smoke, wildfire, pours, ...\n",
       "                               ...                        \n",
       "10871    [earthquake, safety, los, angeles, safety, fas...\n",
       "10872    [storm, ri, worse, last, hurricane, city, amp,...\n",
       "10873       [green, line, derailment, chicago, utbxlcbiuy]\n",
       "10874    [meg, issue, hazardous, weather, outlook, hwo,...\n",
       "10875    [cityofcalgary, activated, municipal, emergenc...\n",
       "Name: text, Length: 10876, dtype: object"
      ]
     },
     "execution_count": 72,
     "metadata": {},
     "output_type": "execute_result"
    }
   ],
   "source": [
    "combined"
   ]
  },
  {
   "cell_type": "code",
   "execution_count": 73,
   "metadata": {
    "execution": {
     "iopub.execute_input": "2020-10-24T09:44:35.723112Z",
     "iopub.status.busy": "2020-10-24T09:44:35.712706Z",
     "iopub.status.idle": "2020-10-24T09:44:38.291033Z",
     "shell.execute_reply": "2020-10-24T09:44:38.291588Z"
    },
    "papermill": {
     "duration": 2.741609,
     "end_time": "2020-10-24T09:44:38.291751",
     "exception": false,
     "start_time": "2020-10-24T09:44:35.550142",
     "status": "completed"
    },
    "tags": []
   },
   "outputs": [
    {
     "data": {
      "text/plain": [
       "<gensim.models.word2vec.Word2Vec at 0x7f83dfd5d910>"
      ]
     },
     "execution_count": 73,
     "metadata": {},
     "output_type": "execute_result"
    }
   ],
   "source": [
    "model_tr = Word2Vec(combined ,size = 200 ,window =20)\n",
    "model_tr"
   ]
  },
  {
   "cell_type": "code",
   "execution_count": 74,
   "metadata": {
    "execution": {
     "iopub.execute_input": "2020-10-24T09:44:38.602126Z",
     "iopub.status.busy": "2020-10-24T09:44:38.601133Z",
     "iopub.status.idle": "2020-10-24T09:44:46.172619Z",
     "shell.execute_reply": "2020-10-24T09:44:46.171979Z"
    },
    "papermill": {
     "duration": 7.72935,
     "end_time": "2020-10-24T09:44:46.172784",
     "exception": false,
     "start_time": "2020-10-24T09:44:38.443434",
     "status": "completed"
    },
    "tags": []
   },
   "outputs": [
    {
     "data": {
      "text/plain": [
       "(4024528, 5608850)"
      ]
     },
     "execution_count": 74,
     "metadata": {},
     "output_type": "execute_result"
    }
   ],
   "source": [
    "model_tr.train(combined,total_examples=len(combined_set),epochs=50)"
   ]
  },
  {
   "cell_type": "code",
   "execution_count": 75,
   "metadata": {
    "execution": {
     "iopub.execute_input": "2020-10-24T09:44:46.523100Z",
     "iopub.status.busy": "2020-10-24T09:44:46.521795Z",
     "iopub.status.idle": "2020-10-24T09:44:46.557729Z",
     "shell.execute_reply": "2020-10-24T09:44:46.558346Z"
    },
    "papermill": {
     "duration": 0.23321,
     "end_time": "2020-10-24T09:44:46.558521",
     "exception": false,
     "start_time": "2020-10-24T09:44:46.325311",
     "status": "completed"
    },
    "tags": []
   },
   "outputs": [
    {
     "data": {
      "text/plain": [
       "[('apartment', 0.4911807179450989),\n",
       " ('acre', 0.48330608010292053),\n",
       " ('grove', 0.4707435369491577),\n",
       " ('rockyfire', 0.46481937170028687),\n",
       " ('truck', 0.4634692966938019),\n",
       " ('nh', 0.4622674584388733),\n",
       " ('contained', 0.4506085216999054),\n",
       " ('firefighter', 0.4473021328449249),\n",
       " ('y', 0.42899906635284424),\n",
       " ('reno', 0.42178019881248474)]"
      ]
     },
     "execution_count": 75,
     "metadata": {},
     "output_type": "execute_result"
    }
   ],
   "source": [
    "model_tr.wv.most_similar(positive='fire')"
   ]
  },
  {
   "cell_type": "code",
   "execution_count": 76,
   "metadata": {
    "execution": {
     "iopub.execute_input": "2020-10-24T09:44:46.884814Z",
     "iopub.status.busy": "2020-10-24T09:44:46.884017Z",
     "iopub.status.idle": "2020-10-24T09:44:46.887341Z",
     "shell.execute_reply": "2020-10-24T09:44:46.886708Z"
    },
    "papermill": {
     "duration": 0.164017,
     "end_time": "2020-10-24T09:44:46.887470",
     "exception": false,
     "start_time": "2020-10-24T09:44:46.723453",
     "status": "completed"
    },
    "tags": []
   },
   "outputs": [],
   "source": [
    "def word_vec(modelvec,token, size):\n",
    "    vec = np.zeros(size).reshape((1,size))\n",
    "    count = 0\n",
    "    for word in token:\n",
    "        try:\n",
    "            vec += modelvec[word].reshape((1,size))\n",
    "            count += 1\n",
    "        except KeyError:#handling the cases where word is not in vocabulary\n",
    "            \n",
    "            continue\n",
    "            \n",
    "    if count != 0:\n",
    "        vec /= count\n",
    "    return vec"
   ]
  },
  {
   "cell_type": "code",
   "execution_count": 77,
   "metadata": {
    "execution": {
     "iopub.execute_input": "2020-10-24T09:44:47.199896Z",
     "iopub.status.busy": "2020-10-24T09:44:47.198917Z",
     "iopub.status.idle": "2020-10-24T09:44:48.940554Z",
     "shell.execute_reply": "2020-10-24T09:44:48.939906Z"
    },
    "papermill": {
     "duration": 1.900465,
     "end_time": "2020-10-24T09:44:48.940684",
     "exception": false,
     "start_time": "2020-10-24T09:44:47.040219",
     "status": "completed"
    },
    "tags": []
   },
   "outputs": [
    {
     "data": {
      "text/html": [
       "<div>\n",
       "<style scoped>\n",
       "    .dataframe tbody tr th:only-of-type {\n",
       "        vertical-align: middle;\n",
       "    }\n",
       "\n",
       "    .dataframe tbody tr th {\n",
       "        vertical-align: top;\n",
       "    }\n",
       "\n",
       "    .dataframe thead th {\n",
       "        text-align: right;\n",
       "    }\n",
       "</style>\n",
       "<table border=\"1\" class=\"dataframe\">\n",
       "  <thead>\n",
       "    <tr style=\"text-align: right;\">\n",
       "      <th></th>\n",
       "      <th>0</th>\n",
       "      <th>1</th>\n",
       "      <th>2</th>\n",
       "      <th>3</th>\n",
       "      <th>4</th>\n",
       "      <th>5</th>\n",
       "      <th>6</th>\n",
       "      <th>7</th>\n",
       "      <th>8</th>\n",
       "      <th>9</th>\n",
       "      <th>...</th>\n",
       "      <th>190</th>\n",
       "      <th>191</th>\n",
       "      <th>192</th>\n",
       "      <th>193</th>\n",
       "      <th>194</th>\n",
       "      <th>195</th>\n",
       "      <th>196</th>\n",
       "      <th>197</th>\n",
       "      <th>198</th>\n",
       "      <th>199</th>\n",
       "    </tr>\n",
       "  </thead>\n",
       "  <tbody>\n",
       "    <tr>\n",
       "      <th>0</th>\n",
       "      <td>-0.551448</td>\n",
       "      <td>-0.003809</td>\n",
       "      <td>-0.532317</td>\n",
       "      <td>1.049268</td>\n",
       "      <td>-0.209272</td>\n",
       "      <td>-0.046728</td>\n",
       "      <td>0.003296</td>\n",
       "      <td>-0.681873</td>\n",
       "      <td>0.402447</td>\n",
       "      <td>-0.248552</td>\n",
       "      <td>...</td>\n",
       "      <td>-0.077578</td>\n",
       "      <td>-0.660300</td>\n",
       "      <td>-0.697649</td>\n",
       "      <td>-0.414005</td>\n",
       "      <td>-0.011635</td>\n",
       "      <td>-0.133113</td>\n",
       "      <td>0.528074</td>\n",
       "      <td>0.203763</td>\n",
       "      <td>0.058233</td>\n",
       "      <td>0.152511</td>\n",
       "    </tr>\n",
       "    <tr>\n",
       "      <th>1</th>\n",
       "      <td>0.380703</td>\n",
       "      <td>0.146932</td>\n",
       "      <td>-0.676990</td>\n",
       "      <td>0.697180</td>\n",
       "      <td>-0.191326</td>\n",
       "      <td>-0.795291</td>\n",
       "      <td>-0.073828</td>\n",
       "      <td>-0.022798</td>\n",
       "      <td>0.146404</td>\n",
       "      <td>-0.351722</td>\n",
       "      <td>...</td>\n",
       "      <td>-0.248730</td>\n",
       "      <td>0.936092</td>\n",
       "      <td>-0.049848</td>\n",
       "      <td>0.223630</td>\n",
       "      <td>0.486739</td>\n",
       "      <td>-0.323947</td>\n",
       "      <td>0.403675</td>\n",
       "      <td>0.370061</td>\n",
       "      <td>0.001408</td>\n",
       "      <td>0.433913</td>\n",
       "    </tr>\n",
       "    <tr>\n",
       "      <th>2</th>\n",
       "      <td>0.056824</td>\n",
       "      <td>-0.039017</td>\n",
       "      <td>-0.009687</td>\n",
       "      <td>0.513748</td>\n",
       "      <td>0.085952</td>\n",
       "      <td>-0.055658</td>\n",
       "      <td>-0.575753</td>\n",
       "      <td>-0.191573</td>\n",
       "      <td>0.074893</td>\n",
       "      <td>-0.363949</td>\n",
       "      <td>...</td>\n",
       "      <td>0.061505</td>\n",
       "      <td>-0.082326</td>\n",
       "      <td>-0.020939</td>\n",
       "      <td>-0.121216</td>\n",
       "      <td>0.395027</td>\n",
       "      <td>0.183337</td>\n",
       "      <td>-0.066610</td>\n",
       "      <td>-0.073608</td>\n",
       "      <td>0.199782</td>\n",
       "      <td>0.070070</td>\n",
       "    </tr>\n",
       "    <tr>\n",
       "      <th>3</th>\n",
       "      <td>0.018016</td>\n",
       "      <td>-0.691554</td>\n",
       "      <td>-0.266602</td>\n",
       "      <td>0.242875</td>\n",
       "      <td>0.437788</td>\n",
       "      <td>-0.002795</td>\n",
       "      <td>-0.888622</td>\n",
       "      <td>-0.040678</td>\n",
       "      <td>-0.397648</td>\n",
       "      <td>-0.377628</td>\n",
       "      <td>...</td>\n",
       "      <td>0.246460</td>\n",
       "      <td>0.733048</td>\n",
       "      <td>0.069134</td>\n",
       "      <td>0.179803</td>\n",
       "      <td>0.584988</td>\n",
       "      <td>-0.214652</td>\n",
       "      <td>0.151292</td>\n",
       "      <td>-0.265060</td>\n",
       "      <td>-0.621677</td>\n",
       "      <td>0.544981</td>\n",
       "    </tr>\n",
       "    <tr>\n",
       "      <th>4</th>\n",
       "      <td>0.226495</td>\n",
       "      <td>0.072964</td>\n",
       "      <td>-0.369295</td>\n",
       "      <td>0.077580</td>\n",
       "      <td>-0.301654</td>\n",
       "      <td>-0.357406</td>\n",
       "      <td>-0.219053</td>\n",
       "      <td>-0.949747</td>\n",
       "      <td>0.114092</td>\n",
       "      <td>-0.135188</td>\n",
       "      <td>...</td>\n",
       "      <td>0.518394</td>\n",
       "      <td>0.620391</td>\n",
       "      <td>0.052041</td>\n",
       "      <td>-0.260785</td>\n",
       "      <td>0.412637</td>\n",
       "      <td>-0.066304</td>\n",
       "      <td>0.150814</td>\n",
       "      <td>0.908549</td>\n",
       "      <td>0.085849</td>\n",
       "      <td>0.848930</td>\n",
       "    </tr>\n",
       "    <tr>\n",
       "      <th>5</th>\n",
       "      <td>0.186471</td>\n",
       "      <td>-0.102612</td>\n",
       "      <td>-0.624240</td>\n",
       "      <td>0.277194</td>\n",
       "      <td>-0.080588</td>\n",
       "      <td>-0.505310</td>\n",
       "      <td>-0.565652</td>\n",
       "      <td>-0.314290</td>\n",
       "      <td>0.112812</td>\n",
       "      <td>-0.223657</td>\n",
       "      <td>...</td>\n",
       "      <td>0.089910</td>\n",
       "      <td>0.853435</td>\n",
       "      <td>-0.043592</td>\n",
       "      <td>-0.196540</td>\n",
       "      <td>0.388729</td>\n",
       "      <td>-0.175960</td>\n",
       "      <td>0.385507</td>\n",
       "      <td>0.259448</td>\n",
       "      <td>-0.125765</td>\n",
       "      <td>0.534994</td>\n",
       "    </tr>\n",
       "  </tbody>\n",
       "</table>\n",
       "<p>6 rows × 200 columns</p>\n",
       "</div>"
      ],
      "text/plain": [
       "        0         1         2         3         4         5         6    \\\n",
       "0 -0.551448 -0.003809 -0.532317  1.049268 -0.209272 -0.046728  0.003296   \n",
       "1  0.380703  0.146932 -0.676990  0.697180 -0.191326 -0.795291 -0.073828   \n",
       "2  0.056824 -0.039017 -0.009687  0.513748  0.085952 -0.055658 -0.575753   \n",
       "3  0.018016 -0.691554 -0.266602  0.242875  0.437788 -0.002795 -0.888622   \n",
       "4  0.226495  0.072964 -0.369295  0.077580 -0.301654 -0.357406 -0.219053   \n",
       "5  0.186471 -0.102612 -0.624240  0.277194 -0.080588 -0.505310 -0.565652   \n",
       "\n",
       "        7         8         9    ...       190       191       192       193  \\\n",
       "0 -0.681873  0.402447 -0.248552  ... -0.077578 -0.660300 -0.697649 -0.414005   \n",
       "1 -0.022798  0.146404 -0.351722  ... -0.248730  0.936092 -0.049848  0.223630   \n",
       "2 -0.191573  0.074893 -0.363949  ...  0.061505 -0.082326 -0.020939 -0.121216   \n",
       "3 -0.040678 -0.397648 -0.377628  ...  0.246460  0.733048  0.069134  0.179803   \n",
       "4 -0.949747  0.114092 -0.135188  ...  0.518394  0.620391  0.052041 -0.260785   \n",
       "5 -0.314290  0.112812 -0.223657  ...  0.089910  0.853435 -0.043592 -0.196540   \n",
       "\n",
       "        194       195       196       197       198       199  \n",
       "0 -0.011635 -0.133113  0.528074  0.203763  0.058233  0.152511  \n",
       "1  0.486739 -0.323947  0.403675  0.370061  0.001408  0.433913  \n",
       "2  0.395027  0.183337 -0.066610 -0.073608  0.199782  0.070070  \n",
       "3  0.584988 -0.214652  0.151292 -0.265060 -0.621677  0.544981  \n",
       "4  0.412637 -0.066304  0.150814  0.908549  0.085849  0.848930  \n",
       "5  0.388729 -0.175960  0.385507  0.259448 -0.125765  0.534994  \n",
       "\n",
       "[6 rows x 200 columns]"
      ]
     },
     "execution_count": 77,
     "metadata": {},
     "output_type": "execute_result"
    }
   ],
   "source": [
    "def crt_array(vecmodel,token):\n",
    "    vec_array = np.zeros((len(token),200))\n",
    "    for i in range(len(token)):\n",
    "        vec_array[i,:] = word_vec(model_tr,token[i],200)\n",
    "    return pd.DataFrame(vec_array)\n",
    "combi_vec_df = crt_array(model_tr,combined)\n",
    "combi_vec_df.head(6)"
   ]
  },
  {
   "cell_type": "code",
   "execution_count": 78,
   "metadata": {
    "execution": {
     "iopub.execute_input": "2020-10-24T09:44:49.259926Z",
     "iopub.status.busy": "2020-10-24T09:44:49.258941Z",
     "iopub.status.idle": "2020-10-24T09:44:49.264403Z",
     "shell.execute_reply": "2020-10-24T09:44:49.263790Z"
    },
    "papermill": {
     "duration": 0.164689,
     "end_time": "2020-10-24T09:44:49.264530",
     "exception": false,
     "start_time": "2020-10-24T09:44:49.099841",
     "status": "completed"
    },
    "tags": []
   },
   "outputs": [
    {
     "data": {
      "text/plain": [
       "True"
      ]
     },
     "execution_count": 78,
     "metadata": {},
     "output_type": "execute_result"
    }
   ],
   "source": [
    "len(combi_vec_df) == len(combined_set)"
   ]
  },
  {
   "cell_type": "code",
   "execution_count": 79,
   "metadata": {
    "execution": {
     "iopub.execute_input": "2020-10-24T09:44:49.579846Z",
     "iopub.status.busy": "2020-10-24T09:44:49.579097Z",
     "iopub.status.idle": "2020-10-24T09:44:49.617423Z",
     "shell.execute_reply": "2020-10-24T09:44:49.616538Z"
    },
    "papermill": {
     "duration": 0.199089,
     "end_time": "2020-10-24T09:44:49.617559",
     "exception": false,
     "start_time": "2020-10-24T09:44:49.418470",
     "status": "completed"
    },
    "tags": []
   },
   "outputs": [
    {
     "data": {
      "text/html": [
       "<div>\n",
       "<style scoped>\n",
       "    .dataframe tbody tr th:only-of-type {\n",
       "        vertical-align: middle;\n",
       "    }\n",
       "\n",
       "    .dataframe tbody tr th {\n",
       "        vertical-align: top;\n",
       "    }\n",
       "\n",
       "    .dataframe thead th {\n",
       "        text-align: right;\n",
       "    }\n",
       "</style>\n",
       "<table border=\"1\" class=\"dataframe\">\n",
       "  <thead>\n",
       "    <tr style=\"text-align: right;\">\n",
       "      <th></th>\n",
       "      <th>0</th>\n",
       "      <th>1</th>\n",
       "      <th>2</th>\n",
       "      <th>3</th>\n",
       "      <th>4</th>\n",
       "      <th>5</th>\n",
       "      <th>6</th>\n",
       "      <th>7</th>\n",
       "      <th>8</th>\n",
       "      <th>9</th>\n",
       "      <th>...</th>\n",
       "      <th>190</th>\n",
       "      <th>191</th>\n",
       "      <th>192</th>\n",
       "      <th>193</th>\n",
       "      <th>194</th>\n",
       "      <th>195</th>\n",
       "      <th>196</th>\n",
       "      <th>197</th>\n",
       "      <th>198</th>\n",
       "      <th>199</th>\n",
       "    </tr>\n",
       "  </thead>\n",
       "  <tbody>\n",
       "    <tr>\n",
       "      <th>0</th>\n",
       "      <td>-0.551448</td>\n",
       "      <td>-0.003809</td>\n",
       "      <td>-0.532317</td>\n",
       "      <td>1.049268</td>\n",
       "      <td>-0.209272</td>\n",
       "      <td>-0.046728</td>\n",
       "      <td>0.003296</td>\n",
       "      <td>-0.681873</td>\n",
       "      <td>0.402447</td>\n",
       "      <td>-0.248552</td>\n",
       "      <td>...</td>\n",
       "      <td>-0.077578</td>\n",
       "      <td>-0.660300</td>\n",
       "      <td>-0.697649</td>\n",
       "      <td>-0.414005</td>\n",
       "      <td>-0.011635</td>\n",
       "      <td>-0.133113</td>\n",
       "      <td>0.528074</td>\n",
       "      <td>0.203763</td>\n",
       "      <td>0.058233</td>\n",
       "      <td>0.152511</td>\n",
       "    </tr>\n",
       "    <tr>\n",
       "      <th>1</th>\n",
       "      <td>0.380703</td>\n",
       "      <td>0.146932</td>\n",
       "      <td>-0.676990</td>\n",
       "      <td>0.697180</td>\n",
       "      <td>-0.191326</td>\n",
       "      <td>-0.795291</td>\n",
       "      <td>-0.073828</td>\n",
       "      <td>-0.022798</td>\n",
       "      <td>0.146404</td>\n",
       "      <td>-0.351722</td>\n",
       "      <td>...</td>\n",
       "      <td>-0.248730</td>\n",
       "      <td>0.936092</td>\n",
       "      <td>-0.049848</td>\n",
       "      <td>0.223630</td>\n",
       "      <td>0.486739</td>\n",
       "      <td>-0.323947</td>\n",
       "      <td>0.403675</td>\n",
       "      <td>0.370061</td>\n",
       "      <td>0.001408</td>\n",
       "      <td>0.433913</td>\n",
       "    </tr>\n",
       "    <tr>\n",
       "      <th>2</th>\n",
       "      <td>0.056824</td>\n",
       "      <td>-0.039017</td>\n",
       "      <td>-0.009687</td>\n",
       "      <td>0.513748</td>\n",
       "      <td>0.085952</td>\n",
       "      <td>-0.055658</td>\n",
       "      <td>-0.575753</td>\n",
       "      <td>-0.191573</td>\n",
       "      <td>0.074893</td>\n",
       "      <td>-0.363949</td>\n",
       "      <td>...</td>\n",
       "      <td>0.061505</td>\n",
       "      <td>-0.082326</td>\n",
       "      <td>-0.020939</td>\n",
       "      <td>-0.121216</td>\n",
       "      <td>0.395027</td>\n",
       "      <td>0.183337</td>\n",
       "      <td>-0.066610</td>\n",
       "      <td>-0.073608</td>\n",
       "      <td>0.199782</td>\n",
       "      <td>0.070070</td>\n",
       "    </tr>\n",
       "    <tr>\n",
       "      <th>3</th>\n",
       "      <td>0.018016</td>\n",
       "      <td>-0.691554</td>\n",
       "      <td>-0.266602</td>\n",
       "      <td>0.242875</td>\n",
       "      <td>0.437788</td>\n",
       "      <td>-0.002795</td>\n",
       "      <td>-0.888622</td>\n",
       "      <td>-0.040678</td>\n",
       "      <td>-0.397648</td>\n",
       "      <td>-0.377628</td>\n",
       "      <td>...</td>\n",
       "      <td>0.246460</td>\n",
       "      <td>0.733048</td>\n",
       "      <td>0.069134</td>\n",
       "      <td>0.179803</td>\n",
       "      <td>0.584988</td>\n",
       "      <td>-0.214652</td>\n",
       "      <td>0.151292</td>\n",
       "      <td>-0.265060</td>\n",
       "      <td>-0.621677</td>\n",
       "      <td>0.544981</td>\n",
       "    </tr>\n",
       "    <tr>\n",
       "      <th>4</th>\n",
       "      <td>0.226495</td>\n",
       "      <td>0.072964</td>\n",
       "      <td>-0.369295</td>\n",
       "      <td>0.077580</td>\n",
       "      <td>-0.301654</td>\n",
       "      <td>-0.357406</td>\n",
       "      <td>-0.219053</td>\n",
       "      <td>-0.949747</td>\n",
       "      <td>0.114092</td>\n",
       "      <td>-0.135188</td>\n",
       "      <td>...</td>\n",
       "      <td>0.518394</td>\n",
       "      <td>0.620391</td>\n",
       "      <td>0.052041</td>\n",
       "      <td>-0.260785</td>\n",
       "      <td>0.412637</td>\n",
       "      <td>-0.066304</td>\n",
       "      <td>0.150814</td>\n",
       "      <td>0.908549</td>\n",
       "      <td>0.085849</td>\n",
       "      <td>0.848930</td>\n",
       "    </tr>\n",
       "    <tr>\n",
       "      <th>...</th>\n",
       "      <td>...</td>\n",
       "      <td>...</td>\n",
       "      <td>...</td>\n",
       "      <td>...</td>\n",
       "      <td>...</td>\n",
       "      <td>...</td>\n",
       "      <td>...</td>\n",
       "      <td>...</td>\n",
       "      <td>...</td>\n",
       "      <td>...</td>\n",
       "      <td>...</td>\n",
       "      <td>...</td>\n",
       "      <td>...</td>\n",
       "      <td>...</td>\n",
       "      <td>...</td>\n",
       "      <td>...</td>\n",
       "      <td>...</td>\n",
       "      <td>...</td>\n",
       "      <td>...</td>\n",
       "      <td>...</td>\n",
       "      <td>...</td>\n",
       "    </tr>\n",
       "    <tr>\n",
       "      <th>7608</th>\n",
       "      <td>0.756646</td>\n",
       "      <td>0.336823</td>\n",
       "      <td>-1.375950</td>\n",
       "      <td>1.407096</td>\n",
       "      <td>-1.459896</td>\n",
       "      <td>-1.300628</td>\n",
       "      <td>0.597647</td>\n",
       "      <td>-0.688954</td>\n",
       "      <td>-1.042763</td>\n",
       "      <td>-0.630698</td>\n",
       "      <td>...</td>\n",
       "      <td>0.289807</td>\n",
       "      <td>0.193673</td>\n",
       "      <td>0.761843</td>\n",
       "      <td>0.537015</td>\n",
       "      <td>-0.657426</td>\n",
       "      <td>-0.375814</td>\n",
       "      <td>0.862334</td>\n",
       "      <td>0.091638</td>\n",
       "      <td>-0.341366</td>\n",
       "      <td>0.836314</td>\n",
       "    </tr>\n",
       "    <tr>\n",
       "      <th>7609</th>\n",
       "      <td>0.209851</td>\n",
       "      <td>0.030489</td>\n",
       "      <td>-0.897099</td>\n",
       "      <td>0.414619</td>\n",
       "      <td>-0.018108</td>\n",
       "      <td>-0.360418</td>\n",
       "      <td>0.351974</td>\n",
       "      <td>-0.267052</td>\n",
       "      <td>-0.129436</td>\n",
       "      <td>0.144177</td>\n",
       "      <td>...</td>\n",
       "      <td>0.126554</td>\n",
       "      <td>0.726742</td>\n",
       "      <td>0.309633</td>\n",
       "      <td>-0.270716</td>\n",
       "      <td>0.561797</td>\n",
       "      <td>0.267779</td>\n",
       "      <td>0.381187</td>\n",
       "      <td>0.310755</td>\n",
       "      <td>-0.600332</td>\n",
       "      <td>0.285834</td>\n",
       "    </tr>\n",
       "    <tr>\n",
       "      <th>7610</th>\n",
       "      <td>-0.785950</td>\n",
       "      <td>0.066653</td>\n",
       "      <td>-0.168872</td>\n",
       "      <td>0.304885</td>\n",
       "      <td>0.105290</td>\n",
       "      <td>-0.260047</td>\n",
       "      <td>-0.292418</td>\n",
       "      <td>-0.867505</td>\n",
       "      <td>0.079486</td>\n",
       "      <td>-0.617568</td>\n",
       "      <td>...</td>\n",
       "      <td>-0.260996</td>\n",
       "      <td>0.074091</td>\n",
       "      <td>-0.613147</td>\n",
       "      <td>0.103605</td>\n",
       "      <td>-0.201183</td>\n",
       "      <td>0.095131</td>\n",
       "      <td>0.824741</td>\n",
       "      <td>-0.352929</td>\n",
       "      <td>-0.165412</td>\n",
       "      <td>0.403051</td>\n",
       "    </tr>\n",
       "    <tr>\n",
       "      <th>7611</th>\n",
       "      <td>-0.340479</td>\n",
       "      <td>-0.111773</td>\n",
       "      <td>-0.322075</td>\n",
       "      <td>0.357046</td>\n",
       "      <td>-0.980287</td>\n",
       "      <td>-0.770177</td>\n",
       "      <td>-0.359815</td>\n",
       "      <td>-0.456515</td>\n",
       "      <td>-0.030048</td>\n",
       "      <td>-0.304642</td>\n",
       "      <td>...</td>\n",
       "      <td>-0.590140</td>\n",
       "      <td>-0.040681</td>\n",
       "      <td>-0.056649</td>\n",
       "      <td>-0.005476</td>\n",
       "      <td>0.290753</td>\n",
       "      <td>0.903904</td>\n",
       "      <td>0.122785</td>\n",
       "      <td>-0.879250</td>\n",
       "      <td>-0.091253</td>\n",
       "      <td>0.241349</td>\n",
       "    </tr>\n",
       "    <tr>\n",
       "      <th>7612</th>\n",
       "      <td>-0.338246</td>\n",
       "      <td>-0.119382</td>\n",
       "      <td>-1.069791</td>\n",
       "      <td>0.227500</td>\n",
       "      <td>0.044042</td>\n",
       "      <td>-0.364111</td>\n",
       "      <td>-0.353831</td>\n",
       "      <td>-0.785072</td>\n",
       "      <td>-0.247348</td>\n",
       "      <td>-0.475129</td>\n",
       "      <td>...</td>\n",
       "      <td>0.183941</td>\n",
       "      <td>0.255853</td>\n",
       "      <td>-0.142411</td>\n",
       "      <td>0.360992</td>\n",
       "      <td>-0.001576</td>\n",
       "      <td>-0.319408</td>\n",
       "      <td>0.176561</td>\n",
       "      <td>0.113182</td>\n",
       "      <td>0.162520</td>\n",
       "      <td>1.038060</td>\n",
       "    </tr>\n",
       "  </tbody>\n",
       "</table>\n",
       "<p>7613 rows × 200 columns</p>\n",
       "</div>"
      ],
      "text/plain": [
       "           0         1         2         3         4         5         6    \\\n",
       "0    -0.551448 -0.003809 -0.532317  1.049268 -0.209272 -0.046728  0.003296   \n",
       "1     0.380703  0.146932 -0.676990  0.697180 -0.191326 -0.795291 -0.073828   \n",
       "2     0.056824 -0.039017 -0.009687  0.513748  0.085952 -0.055658 -0.575753   \n",
       "3     0.018016 -0.691554 -0.266602  0.242875  0.437788 -0.002795 -0.888622   \n",
       "4     0.226495  0.072964 -0.369295  0.077580 -0.301654 -0.357406 -0.219053   \n",
       "...        ...       ...       ...       ...       ...       ...       ...   \n",
       "7608  0.756646  0.336823 -1.375950  1.407096 -1.459896 -1.300628  0.597647   \n",
       "7609  0.209851  0.030489 -0.897099  0.414619 -0.018108 -0.360418  0.351974   \n",
       "7610 -0.785950  0.066653 -0.168872  0.304885  0.105290 -0.260047 -0.292418   \n",
       "7611 -0.340479 -0.111773 -0.322075  0.357046 -0.980287 -0.770177 -0.359815   \n",
       "7612 -0.338246 -0.119382 -1.069791  0.227500  0.044042 -0.364111 -0.353831   \n",
       "\n",
       "           7         8         9    ...       190       191       192  \\\n",
       "0    -0.681873  0.402447 -0.248552  ... -0.077578 -0.660300 -0.697649   \n",
       "1    -0.022798  0.146404 -0.351722  ... -0.248730  0.936092 -0.049848   \n",
       "2    -0.191573  0.074893 -0.363949  ...  0.061505 -0.082326 -0.020939   \n",
       "3    -0.040678 -0.397648 -0.377628  ...  0.246460  0.733048  0.069134   \n",
       "4    -0.949747  0.114092 -0.135188  ...  0.518394  0.620391  0.052041   \n",
       "...        ...       ...       ...  ...       ...       ...       ...   \n",
       "7608 -0.688954 -1.042763 -0.630698  ...  0.289807  0.193673  0.761843   \n",
       "7609 -0.267052 -0.129436  0.144177  ...  0.126554  0.726742  0.309633   \n",
       "7610 -0.867505  0.079486 -0.617568  ... -0.260996  0.074091 -0.613147   \n",
       "7611 -0.456515 -0.030048 -0.304642  ... -0.590140 -0.040681 -0.056649   \n",
       "7612 -0.785072 -0.247348 -0.475129  ...  0.183941  0.255853 -0.142411   \n",
       "\n",
       "           193       194       195       196       197       198       199  \n",
       "0    -0.414005 -0.011635 -0.133113  0.528074  0.203763  0.058233  0.152511  \n",
       "1     0.223630  0.486739 -0.323947  0.403675  0.370061  0.001408  0.433913  \n",
       "2    -0.121216  0.395027  0.183337 -0.066610 -0.073608  0.199782  0.070070  \n",
       "3     0.179803  0.584988 -0.214652  0.151292 -0.265060 -0.621677  0.544981  \n",
       "4    -0.260785  0.412637 -0.066304  0.150814  0.908549  0.085849  0.848930  \n",
       "...        ...       ...       ...       ...       ...       ...       ...  \n",
       "7608  0.537015 -0.657426 -0.375814  0.862334  0.091638 -0.341366  0.836314  \n",
       "7609 -0.270716  0.561797  0.267779  0.381187  0.310755 -0.600332  0.285834  \n",
       "7610  0.103605 -0.201183  0.095131  0.824741 -0.352929 -0.165412  0.403051  \n",
       "7611 -0.005476  0.290753  0.903904  0.122785 -0.879250 -0.091253  0.241349  \n",
       "7612  0.360992 -0.001576 -0.319408  0.176561  0.113182  0.162520  1.038060  \n",
       "\n",
       "[7613 rows x 200 columns]"
      ]
     },
     "execution_count": 79,
     "metadata": {},
     "output_type": "execute_result"
    }
   ],
   "source": [
    "X_set = combi_vec_df.iloc[:7613,:]\n",
    "X_set"
   ]
  },
  {
   "cell_type": "code",
   "execution_count": 80,
   "metadata": {
    "execution": {
     "iopub.execute_input": "2020-10-24T09:44:49.936647Z",
     "iopub.status.busy": "2020-10-24T09:44:49.935833Z",
     "iopub.status.idle": "2020-10-24T09:44:49.983142Z",
     "shell.execute_reply": "2020-10-24T09:44:49.982436Z"
    },
    "papermill": {
     "duration": 0.208195,
     "end_time": "2020-10-24T09:44:49.983283",
     "exception": false,
     "start_time": "2020-10-24T09:44:49.775088",
     "status": "completed"
    },
    "tags": []
   },
   "outputs": [
    {
     "data": {
      "text/html": [
       "<div>\n",
       "<style scoped>\n",
       "    .dataframe tbody tr th:only-of-type {\n",
       "        vertical-align: middle;\n",
       "    }\n",
       "\n",
       "    .dataframe tbody tr th {\n",
       "        vertical-align: top;\n",
       "    }\n",
       "\n",
       "    .dataframe thead th {\n",
       "        text-align: right;\n",
       "    }\n",
       "</style>\n",
       "<table border=\"1\" class=\"dataframe\">\n",
       "  <thead>\n",
       "    <tr style=\"text-align: right;\">\n",
       "      <th></th>\n",
       "      <th>0</th>\n",
       "      <th>1</th>\n",
       "      <th>2</th>\n",
       "      <th>3</th>\n",
       "      <th>4</th>\n",
       "      <th>5</th>\n",
       "      <th>6</th>\n",
       "      <th>7</th>\n",
       "      <th>8</th>\n",
       "      <th>9</th>\n",
       "      <th>...</th>\n",
       "      <th>190</th>\n",
       "      <th>191</th>\n",
       "      <th>192</th>\n",
       "      <th>193</th>\n",
       "      <th>194</th>\n",
       "      <th>195</th>\n",
       "      <th>196</th>\n",
       "      <th>197</th>\n",
       "      <th>198</th>\n",
       "      <th>199</th>\n",
       "    </tr>\n",
       "  </thead>\n",
       "  <tbody>\n",
       "    <tr>\n",
       "      <th>0</th>\n",
       "      <td>-0.374241</td>\n",
       "      <td>-0.186295</td>\n",
       "      <td>0.059741</td>\n",
       "      <td>0.541295</td>\n",
       "      <td>-0.734209</td>\n",
       "      <td>-0.551134</td>\n",
       "      <td>-0.494311</td>\n",
       "      <td>-0.091216</td>\n",
       "      <td>-0.006631</td>\n",
       "      <td>0.044688</td>\n",
       "      <td>...</td>\n",
       "      <td>0.101493</td>\n",
       "      <td>-0.726872</td>\n",
       "      <td>-0.267258</td>\n",
       "      <td>0.922473</td>\n",
       "      <td>0.011315</td>\n",
       "      <td>0.630171</td>\n",
       "      <td>-0.764561</td>\n",
       "      <td>-0.815824</td>\n",
       "      <td>-0.342422</td>\n",
       "      <td>0.203298</td>\n",
       "    </tr>\n",
       "    <tr>\n",
       "      <th>1</th>\n",
       "      <td>-0.306095</td>\n",
       "      <td>-0.319479</td>\n",
       "      <td>-0.346668</td>\n",
       "      <td>0.653790</td>\n",
       "      <td>0.025278</td>\n",
       "      <td>-0.064576</td>\n",
       "      <td>-0.436462</td>\n",
       "      <td>-0.077877</td>\n",
       "      <td>0.218220</td>\n",
       "      <td>0.405344</td>\n",
       "      <td>...</td>\n",
       "      <td>0.287805</td>\n",
       "      <td>0.130226</td>\n",
       "      <td>0.008259</td>\n",
       "      <td>-0.064075</td>\n",
       "      <td>0.305192</td>\n",
       "      <td>0.082913</td>\n",
       "      <td>-0.303587</td>\n",
       "      <td>-0.727569</td>\n",
       "      <td>-0.138129</td>\n",
       "      <td>-0.217420</td>\n",
       "    </tr>\n",
       "    <tr>\n",
       "      <th>2</th>\n",
       "      <td>0.153551</td>\n",
       "      <td>0.154221</td>\n",
       "      <td>-0.838283</td>\n",
       "      <td>0.414655</td>\n",
       "      <td>-0.019505</td>\n",
       "      <td>-0.565909</td>\n",
       "      <td>-0.087815</td>\n",
       "      <td>0.028767</td>\n",
       "      <td>0.058894</td>\n",
       "      <td>-0.031414</td>\n",
       "      <td>...</td>\n",
       "      <td>-0.148354</td>\n",
       "      <td>0.901535</td>\n",
       "      <td>0.376627</td>\n",
       "      <td>0.554987</td>\n",
       "      <td>0.195869</td>\n",
       "      <td>-0.016263</td>\n",
       "      <td>0.619623</td>\n",
       "      <td>0.092698</td>\n",
       "      <td>-0.500181</td>\n",
       "      <td>0.305460</td>\n",
       "    </tr>\n",
       "    <tr>\n",
       "      <th>3</th>\n",
       "      <td>-0.365271</td>\n",
       "      <td>0.158651</td>\n",
       "      <td>-0.425171</td>\n",
       "      <td>-0.279986</td>\n",
       "      <td>0.485152</td>\n",
       "      <td>-0.135406</td>\n",
       "      <td>-0.507950</td>\n",
       "      <td>-0.572697</td>\n",
       "      <td>0.235770</td>\n",
       "      <td>-0.213738</td>\n",
       "      <td>...</td>\n",
       "      <td>0.335569</td>\n",
       "      <td>0.619444</td>\n",
       "      <td>0.256091</td>\n",
       "      <td>0.372662</td>\n",
       "      <td>0.242699</td>\n",
       "      <td>-0.381036</td>\n",
       "      <td>-0.098040</td>\n",
       "      <td>-0.072523</td>\n",
       "      <td>-0.538159</td>\n",
       "      <td>0.577369</td>\n",
       "    </tr>\n",
       "    <tr>\n",
       "      <th>4</th>\n",
       "      <td>0.662656</td>\n",
       "      <td>-0.420061</td>\n",
       "      <td>-0.379874</td>\n",
       "      <td>0.585516</td>\n",
       "      <td>-0.580210</td>\n",
       "      <td>-0.737138</td>\n",
       "      <td>-0.287645</td>\n",
       "      <td>-1.427698</td>\n",
       "      <td>-0.313027</td>\n",
       "      <td>-0.463885</td>\n",
       "      <td>...</td>\n",
       "      <td>-0.514204</td>\n",
       "      <td>-1.390828</td>\n",
       "      <td>0.287076</td>\n",
       "      <td>0.096575</td>\n",
       "      <td>-0.752741</td>\n",
       "      <td>0.222136</td>\n",
       "      <td>0.021286</td>\n",
       "      <td>-0.238772</td>\n",
       "      <td>-0.848385</td>\n",
       "      <td>-0.116089</td>\n",
       "    </tr>\n",
       "    <tr>\n",
       "      <th>...</th>\n",
       "      <td>...</td>\n",
       "      <td>...</td>\n",
       "      <td>...</td>\n",
       "      <td>...</td>\n",
       "      <td>...</td>\n",
       "      <td>...</td>\n",
       "      <td>...</td>\n",
       "      <td>...</td>\n",
       "      <td>...</td>\n",
       "      <td>...</td>\n",
       "      <td>...</td>\n",
       "      <td>...</td>\n",
       "      <td>...</td>\n",
       "      <td>...</td>\n",
       "      <td>...</td>\n",
       "      <td>...</td>\n",
       "      <td>...</td>\n",
       "      <td>...</td>\n",
       "      <td>...</td>\n",
       "      <td>...</td>\n",
       "      <td>...</td>\n",
       "    </tr>\n",
       "    <tr>\n",
       "      <th>3258</th>\n",
       "      <td>0.084091</td>\n",
       "      <td>0.152443</td>\n",
       "      <td>0.166929</td>\n",
       "      <td>0.490567</td>\n",
       "      <td>-0.193986</td>\n",
       "      <td>-0.370804</td>\n",
       "      <td>-0.253940</td>\n",
       "      <td>-0.093995</td>\n",
       "      <td>0.109593</td>\n",
       "      <td>-0.383947</td>\n",
       "      <td>...</td>\n",
       "      <td>0.042527</td>\n",
       "      <td>-0.219164</td>\n",
       "      <td>-0.711273</td>\n",
       "      <td>-0.067130</td>\n",
       "      <td>0.454375</td>\n",
       "      <td>0.671480</td>\n",
       "      <td>0.274053</td>\n",
       "      <td>-0.249760</td>\n",
       "      <td>-0.696814</td>\n",
       "      <td>0.629982</td>\n",
       "    </tr>\n",
       "    <tr>\n",
       "      <th>3259</th>\n",
       "      <td>-0.343738</td>\n",
       "      <td>-0.323137</td>\n",
       "      <td>-0.903390</td>\n",
       "      <td>-0.071720</td>\n",
       "      <td>0.050620</td>\n",
       "      <td>-0.067601</td>\n",
       "      <td>-0.808749</td>\n",
       "      <td>-0.362818</td>\n",
       "      <td>-0.299109</td>\n",
       "      <td>0.527978</td>\n",
       "      <td>...</td>\n",
       "      <td>0.113138</td>\n",
       "      <td>0.527201</td>\n",
       "      <td>0.128281</td>\n",
       "      <td>0.196745</td>\n",
       "      <td>0.039041</td>\n",
       "      <td>0.857115</td>\n",
       "      <td>-0.279694</td>\n",
       "      <td>-0.164667</td>\n",
       "      <td>-0.375729</td>\n",
       "      <td>-0.237152</td>\n",
       "    </tr>\n",
       "    <tr>\n",
       "      <th>3260</th>\n",
       "      <td>0.951464</td>\n",
       "      <td>-0.282415</td>\n",
       "      <td>-0.688223</td>\n",
       "      <td>0.990391</td>\n",
       "      <td>-1.485964</td>\n",
       "      <td>-1.075376</td>\n",
       "      <td>-1.147953</td>\n",
       "      <td>0.125107</td>\n",
       "      <td>-0.053832</td>\n",
       "      <td>-0.652368</td>\n",
       "      <td>...</td>\n",
       "      <td>0.334302</td>\n",
       "      <td>-0.119791</td>\n",
       "      <td>0.087239</td>\n",
       "      <td>0.323978</td>\n",
       "      <td>0.904037</td>\n",
       "      <td>-0.257896</td>\n",
       "      <td>-0.575878</td>\n",
       "      <td>0.889553</td>\n",
       "      <td>0.278754</td>\n",
       "      <td>0.728326</td>\n",
       "    </tr>\n",
       "    <tr>\n",
       "      <th>3261</th>\n",
       "      <td>-0.216163</td>\n",
       "      <td>0.281501</td>\n",
       "      <td>-0.436767</td>\n",
       "      <td>0.572762</td>\n",
       "      <td>-0.705686</td>\n",
       "      <td>0.201328</td>\n",
       "      <td>-0.575105</td>\n",
       "      <td>-0.906678</td>\n",
       "      <td>0.378271</td>\n",
       "      <td>-0.117378</td>\n",
       "      <td>...</td>\n",
       "      <td>-0.124983</td>\n",
       "      <td>-0.133476</td>\n",
       "      <td>-0.163490</td>\n",
       "      <td>0.354506</td>\n",
       "      <td>0.331231</td>\n",
       "      <td>-0.788983</td>\n",
       "      <td>-0.145032</td>\n",
       "      <td>0.637534</td>\n",
       "      <td>0.717948</td>\n",
       "      <td>-0.011222</td>\n",
       "    </tr>\n",
       "    <tr>\n",
       "      <th>3262</th>\n",
       "      <td>0.765319</td>\n",
       "      <td>-0.364428</td>\n",
       "      <td>-0.350109</td>\n",
       "      <td>1.716217</td>\n",
       "      <td>-0.379277</td>\n",
       "      <td>-0.565273</td>\n",
       "      <td>-0.390602</td>\n",
       "      <td>0.121381</td>\n",
       "      <td>0.837538</td>\n",
       "      <td>0.180428</td>\n",
       "      <td>...</td>\n",
       "      <td>-0.390122</td>\n",
       "      <td>0.623335</td>\n",
       "      <td>0.776902</td>\n",
       "      <td>0.195217</td>\n",
       "      <td>1.132523</td>\n",
       "      <td>-0.243333</td>\n",
       "      <td>-0.296490</td>\n",
       "      <td>0.281580</td>\n",
       "      <td>0.227790</td>\n",
       "      <td>0.509605</td>\n",
       "    </tr>\n",
       "  </tbody>\n",
       "</table>\n",
       "<p>3263 rows × 200 columns</p>\n",
       "</div>"
      ],
      "text/plain": [
       "           0         1         2         3         4         5         6    \\\n",
       "0    -0.374241 -0.186295  0.059741  0.541295 -0.734209 -0.551134 -0.494311   \n",
       "1    -0.306095 -0.319479 -0.346668  0.653790  0.025278 -0.064576 -0.436462   \n",
       "2     0.153551  0.154221 -0.838283  0.414655 -0.019505 -0.565909 -0.087815   \n",
       "3    -0.365271  0.158651 -0.425171 -0.279986  0.485152 -0.135406 -0.507950   \n",
       "4     0.662656 -0.420061 -0.379874  0.585516 -0.580210 -0.737138 -0.287645   \n",
       "...        ...       ...       ...       ...       ...       ...       ...   \n",
       "3258  0.084091  0.152443  0.166929  0.490567 -0.193986 -0.370804 -0.253940   \n",
       "3259 -0.343738 -0.323137 -0.903390 -0.071720  0.050620 -0.067601 -0.808749   \n",
       "3260  0.951464 -0.282415 -0.688223  0.990391 -1.485964 -1.075376 -1.147953   \n",
       "3261 -0.216163  0.281501 -0.436767  0.572762 -0.705686  0.201328 -0.575105   \n",
       "3262  0.765319 -0.364428 -0.350109  1.716217 -0.379277 -0.565273 -0.390602   \n",
       "\n",
       "           7         8         9    ...       190       191       192  \\\n",
       "0    -0.091216 -0.006631  0.044688  ...  0.101493 -0.726872 -0.267258   \n",
       "1    -0.077877  0.218220  0.405344  ...  0.287805  0.130226  0.008259   \n",
       "2     0.028767  0.058894 -0.031414  ... -0.148354  0.901535  0.376627   \n",
       "3    -0.572697  0.235770 -0.213738  ...  0.335569  0.619444  0.256091   \n",
       "4    -1.427698 -0.313027 -0.463885  ... -0.514204 -1.390828  0.287076   \n",
       "...        ...       ...       ...  ...       ...       ...       ...   \n",
       "3258 -0.093995  0.109593 -0.383947  ...  0.042527 -0.219164 -0.711273   \n",
       "3259 -0.362818 -0.299109  0.527978  ...  0.113138  0.527201  0.128281   \n",
       "3260  0.125107 -0.053832 -0.652368  ...  0.334302 -0.119791  0.087239   \n",
       "3261 -0.906678  0.378271 -0.117378  ... -0.124983 -0.133476 -0.163490   \n",
       "3262  0.121381  0.837538  0.180428  ... -0.390122  0.623335  0.776902   \n",
       "\n",
       "           193       194       195       196       197       198       199  \n",
       "0     0.922473  0.011315  0.630171 -0.764561 -0.815824 -0.342422  0.203298  \n",
       "1    -0.064075  0.305192  0.082913 -0.303587 -0.727569 -0.138129 -0.217420  \n",
       "2     0.554987  0.195869 -0.016263  0.619623  0.092698 -0.500181  0.305460  \n",
       "3     0.372662  0.242699 -0.381036 -0.098040 -0.072523 -0.538159  0.577369  \n",
       "4     0.096575 -0.752741  0.222136  0.021286 -0.238772 -0.848385 -0.116089  \n",
       "...        ...       ...       ...       ...       ...       ...       ...  \n",
       "3258 -0.067130  0.454375  0.671480  0.274053 -0.249760 -0.696814  0.629982  \n",
       "3259  0.196745  0.039041  0.857115 -0.279694 -0.164667 -0.375729 -0.237152  \n",
       "3260  0.323978  0.904037 -0.257896 -0.575878  0.889553  0.278754  0.728326  \n",
       "3261  0.354506  0.331231 -0.788983 -0.145032  0.637534  0.717948 -0.011222  \n",
       "3262  0.195217  1.132523 -0.243333 -0.296490  0.281580  0.227790  0.509605  \n",
       "\n",
       "[3263 rows x 200 columns]"
      ]
     },
     "execution_count": 80,
     "metadata": {},
     "output_type": "execute_result"
    }
   ],
   "source": [
    "X_test_new = combi_vec_df.iloc[7613:,:]\n",
    "X_test_new = X_test_new.reset_index()\n",
    "X_test_new = X_test_new.drop('index',axis=1)\n",
    "X_test_new"
   ]
  },
  {
   "cell_type": "code",
   "execution_count": 81,
   "metadata": {
    "execution": {
     "iopub.execute_input": "2020-10-24T09:44:50.313056Z",
     "iopub.status.busy": "2020-10-24T09:44:50.312306Z",
     "iopub.status.idle": "2020-10-24T09:44:50.892493Z",
     "shell.execute_reply": "2020-10-24T09:44:50.891888Z"
    },
    "papermill": {
     "duration": 0.752075,
     "end_time": "2020-10-24T09:44:50.892621",
     "exception": false,
     "start_time": "2020-10-24T09:44:50.140546",
     "status": "completed"
    },
    "tags": []
   },
   "outputs": [
    {
     "data": {
      "text/html": [
       "<div>\n",
       "<style scoped>\n",
       "    .dataframe tbody tr th:only-of-type {\n",
       "        vertical-align: middle;\n",
       "    }\n",
       "\n",
       "    .dataframe tbody tr th {\n",
       "        vertical-align: top;\n",
       "    }\n",
       "\n",
       "    .dataframe thead th {\n",
       "        text-align: right;\n",
       "    }\n",
       "</style>\n",
       "<table border=\"1\" class=\"dataframe\">\n",
       "  <thead>\n",
       "    <tr style=\"text-align: right;\">\n",
       "      <th></th>\n",
       "      <th>0</th>\n",
       "      <th>1</th>\n",
       "      <th>2</th>\n",
       "      <th>3</th>\n",
       "      <th>4</th>\n",
       "      <th>5</th>\n",
       "      <th>6</th>\n",
       "      <th>7</th>\n",
       "      <th>8</th>\n",
       "      <th>9</th>\n",
       "      <th>...</th>\n",
       "      <th>190</th>\n",
       "      <th>191</th>\n",
       "      <th>192</th>\n",
       "      <th>193</th>\n",
       "      <th>194</th>\n",
       "      <th>195</th>\n",
       "      <th>196</th>\n",
       "      <th>197</th>\n",
       "      <th>198</th>\n",
       "      <th>199</th>\n",
       "    </tr>\n",
       "  </thead>\n",
       "  <tbody>\n",
       "    <tr>\n",
       "      <th>count</th>\n",
       "      <td>3263.000000</td>\n",
       "      <td>3263.000000</td>\n",
       "      <td>3263.000000</td>\n",
       "      <td>3263.000000</td>\n",
       "      <td>3263.000000</td>\n",
       "      <td>3263.000000</td>\n",
       "      <td>3263.000000</td>\n",
       "      <td>3263.000000</td>\n",
       "      <td>3263.000000</td>\n",
       "      <td>3263.000000</td>\n",
       "      <td>...</td>\n",
       "      <td>3263.000000</td>\n",
       "      <td>3263.000000</td>\n",
       "      <td>3263.000000</td>\n",
       "      <td>3263.000000</td>\n",
       "      <td>3263.000000</td>\n",
       "      <td>3263.000000</td>\n",
       "      <td>3263.000000</td>\n",
       "      <td>3263.000000</td>\n",
       "      <td>3263.000000</td>\n",
       "      <td>3263.000000</td>\n",
       "    </tr>\n",
       "    <tr>\n",
       "      <th>mean</th>\n",
       "      <td>-0.061086</td>\n",
       "      <td>0.009537</td>\n",
       "      <td>-0.367141</td>\n",
       "      <td>0.390569</td>\n",
       "      <td>-0.392672</td>\n",
       "      <td>-0.300767</td>\n",
       "      <td>-0.097690</td>\n",
       "      <td>-0.234311</td>\n",
       "      <td>0.107271</td>\n",
       "      <td>0.077724</td>\n",
       "      <td>...</td>\n",
       "      <td>0.070837</td>\n",
       "      <td>-0.045458</td>\n",
       "      <td>0.117192</td>\n",
       "      <td>0.152226</td>\n",
       "      <td>0.028990</td>\n",
       "      <td>0.081914</td>\n",
       "      <td>0.070398</td>\n",
       "      <td>0.057880</td>\n",
       "      <td>-0.122999</td>\n",
       "      <td>0.058421</td>\n",
       "    </tr>\n",
       "    <tr>\n",
       "      <th>std</th>\n",
       "      <td>0.355326</td>\n",
       "      <td>0.352846</td>\n",
       "      <td>0.421551</td>\n",
       "      <td>0.403083</td>\n",
       "      <td>0.486744</td>\n",
       "      <td>0.363081</td>\n",
       "      <td>0.440924</td>\n",
       "      <td>0.369211</td>\n",
       "      <td>0.375147</td>\n",
       "      <td>0.337502</td>\n",
       "      <td>...</td>\n",
       "      <td>0.343180</td>\n",
       "      <td>0.476528</td>\n",
       "      <td>0.390135</td>\n",
       "      <td>0.388059</td>\n",
       "      <td>0.471877</td>\n",
       "      <td>0.414874</td>\n",
       "      <td>0.436735</td>\n",
       "      <td>0.461809</td>\n",
       "      <td>0.406672</td>\n",
       "      <td>0.397146</td>\n",
       "    </tr>\n",
       "    <tr>\n",
       "      <th>min</th>\n",
       "      <td>-1.975947</td>\n",
       "      <td>-1.451937</td>\n",
       "      <td>-2.786132</td>\n",
       "      <td>-2.455140</td>\n",
       "      <td>-2.815340</td>\n",
       "      <td>-2.435936</td>\n",
       "      <td>-1.967262</td>\n",
       "      <td>-1.889689</td>\n",
       "      <td>-1.442623</td>\n",
       "      <td>-1.693726</td>\n",
       "      <td>...</td>\n",
       "      <td>-1.517070</td>\n",
       "      <td>-2.106555</td>\n",
       "      <td>-2.444367</td>\n",
       "      <td>-1.727897</td>\n",
       "      <td>-1.896526</td>\n",
       "      <td>-1.835967</td>\n",
       "      <td>-2.050282</td>\n",
       "      <td>-2.195122</td>\n",
       "      <td>-2.595948</td>\n",
       "      <td>-2.393183</td>\n",
       "    </tr>\n",
       "    <tr>\n",
       "      <th>25%</th>\n",
       "      <td>-0.281010</td>\n",
       "      <td>-0.224427</td>\n",
       "      <td>-0.622765</td>\n",
       "      <td>0.130634</td>\n",
       "      <td>-0.639549</td>\n",
       "      <td>-0.505732</td>\n",
       "      <td>-0.387593</td>\n",
       "      <td>-0.453563</td>\n",
       "      <td>-0.119577</td>\n",
       "      <td>-0.126814</td>\n",
       "      <td>...</td>\n",
       "      <td>-0.130413</td>\n",
       "      <td>-0.331437</td>\n",
       "      <td>-0.129043</td>\n",
       "      <td>-0.075865</td>\n",
       "      <td>-0.260023</td>\n",
       "      <td>-0.171231</td>\n",
       "      <td>-0.204794</td>\n",
       "      <td>-0.233863</td>\n",
       "      <td>-0.362773</td>\n",
       "      <td>-0.193833</td>\n",
       "    </tr>\n",
       "    <tr>\n",
       "      <th>50%</th>\n",
       "      <td>-0.061767</td>\n",
       "      <td>-0.009121</td>\n",
       "      <td>-0.344045</td>\n",
       "      <td>0.375538</td>\n",
       "      <td>-0.324510</td>\n",
       "      <td>-0.274589</td>\n",
       "      <td>-0.098214</td>\n",
       "      <td>-0.219782</td>\n",
       "      <td>0.102486</td>\n",
       "      <td>0.075433</td>\n",
       "      <td>...</td>\n",
       "      <td>0.077756</td>\n",
       "      <td>-0.015499</td>\n",
       "      <td>0.105661</td>\n",
       "      <td>0.160719</td>\n",
       "      <td>0.027381</td>\n",
       "      <td>0.087135</td>\n",
       "      <td>0.072688</td>\n",
       "      <td>0.037747</td>\n",
       "      <td>-0.122519</td>\n",
       "      <td>0.043685</td>\n",
       "    </tr>\n",
       "    <tr>\n",
       "      <th>75%</th>\n",
       "      <td>0.157690</td>\n",
       "      <td>0.218443</td>\n",
       "      <td>-0.089551</td>\n",
       "      <td>0.629804</td>\n",
       "      <td>-0.064249</td>\n",
       "      <td>-0.067065</td>\n",
       "      <td>0.177795</td>\n",
       "      <td>-0.008056</td>\n",
       "      <td>0.339626</td>\n",
       "      <td>0.297413</td>\n",
       "      <td>...</td>\n",
       "      <td>0.289326</td>\n",
       "      <td>0.257317</td>\n",
       "      <td>0.358975</td>\n",
       "      <td>0.371689</td>\n",
       "      <td>0.317584</td>\n",
       "      <td>0.340458</td>\n",
       "      <td>0.346606</td>\n",
       "      <td>0.344495</td>\n",
       "      <td>0.124150</td>\n",
       "      <td>0.300401</td>\n",
       "    </tr>\n",
       "    <tr>\n",
       "      <th>max</th>\n",
       "      <td>1.425941</td>\n",
       "      <td>2.798487</td>\n",
       "      <td>3.065528</td>\n",
       "      <td>2.459918</td>\n",
       "      <td>1.135716</td>\n",
       "      <td>0.998258</td>\n",
       "      <td>1.892991</td>\n",
       "      <td>1.346805</td>\n",
       "      <td>2.221314</td>\n",
       "      <td>1.628942</td>\n",
       "      <td>...</td>\n",
       "      <td>1.560343</td>\n",
       "      <td>1.654397</td>\n",
       "      <td>1.918975</td>\n",
       "      <td>1.999441</td>\n",
       "      <td>2.418550</td>\n",
       "      <td>2.123333</td>\n",
       "      <td>1.688905</td>\n",
       "      <td>2.504392</td>\n",
       "      <td>1.890186</td>\n",
       "      <td>1.568393</td>\n",
       "    </tr>\n",
       "  </tbody>\n",
       "</table>\n",
       "<p>8 rows × 200 columns</p>\n",
       "</div>"
      ],
      "text/plain": [
       "               0            1            2            3            4    \\\n",
       "count  3263.000000  3263.000000  3263.000000  3263.000000  3263.000000   \n",
       "mean     -0.061086     0.009537    -0.367141     0.390569    -0.392672   \n",
       "std       0.355326     0.352846     0.421551     0.403083     0.486744   \n",
       "min      -1.975947    -1.451937    -2.786132    -2.455140    -2.815340   \n",
       "25%      -0.281010    -0.224427    -0.622765     0.130634    -0.639549   \n",
       "50%      -0.061767    -0.009121    -0.344045     0.375538    -0.324510   \n",
       "75%       0.157690     0.218443    -0.089551     0.629804    -0.064249   \n",
       "max       1.425941     2.798487     3.065528     2.459918     1.135716   \n",
       "\n",
       "               5            6            7            8            9    ...  \\\n",
       "count  3263.000000  3263.000000  3263.000000  3263.000000  3263.000000  ...   \n",
       "mean     -0.300767    -0.097690    -0.234311     0.107271     0.077724  ...   \n",
       "std       0.363081     0.440924     0.369211     0.375147     0.337502  ...   \n",
       "min      -2.435936    -1.967262    -1.889689    -1.442623    -1.693726  ...   \n",
       "25%      -0.505732    -0.387593    -0.453563    -0.119577    -0.126814  ...   \n",
       "50%      -0.274589    -0.098214    -0.219782     0.102486     0.075433  ...   \n",
       "75%      -0.067065     0.177795    -0.008056     0.339626     0.297413  ...   \n",
       "max       0.998258     1.892991     1.346805     2.221314     1.628942  ...   \n",
       "\n",
       "               190          191          192          193          194  \\\n",
       "count  3263.000000  3263.000000  3263.000000  3263.000000  3263.000000   \n",
       "mean      0.070837    -0.045458     0.117192     0.152226     0.028990   \n",
       "std       0.343180     0.476528     0.390135     0.388059     0.471877   \n",
       "min      -1.517070    -2.106555    -2.444367    -1.727897    -1.896526   \n",
       "25%      -0.130413    -0.331437    -0.129043    -0.075865    -0.260023   \n",
       "50%       0.077756    -0.015499     0.105661     0.160719     0.027381   \n",
       "75%       0.289326     0.257317     0.358975     0.371689     0.317584   \n",
       "max       1.560343     1.654397     1.918975     1.999441     2.418550   \n",
       "\n",
       "               195          196          197          198          199  \n",
       "count  3263.000000  3263.000000  3263.000000  3263.000000  3263.000000  \n",
       "mean      0.081914     0.070398     0.057880    -0.122999     0.058421  \n",
       "std       0.414874     0.436735     0.461809     0.406672     0.397146  \n",
       "min      -1.835967    -2.050282    -2.195122    -2.595948    -2.393183  \n",
       "25%      -0.171231    -0.204794    -0.233863    -0.362773    -0.193833  \n",
       "50%       0.087135     0.072688     0.037747    -0.122519     0.043685  \n",
       "75%       0.340458     0.346606     0.344495     0.124150     0.300401  \n",
       "max       2.123333     1.688905     2.504392     1.890186     1.568393  \n",
       "\n",
       "[8 rows x 200 columns]"
      ]
     },
     "execution_count": 81,
     "metadata": {},
     "output_type": "execute_result"
    }
   ],
   "source": [
    "X_test_new.describe()"
   ]
  },
  {
   "cell_type": "code",
   "execution_count": 82,
   "metadata": {
    "execution": {
     "iopub.execute_input": "2020-10-24T09:44:51.214336Z",
     "iopub.status.busy": "2020-10-24T09:44:51.213253Z",
     "iopub.status.idle": "2020-10-24T09:44:51.227657Z",
     "shell.execute_reply": "2020-10-24T09:44:51.227046Z"
    },
    "papermill": {
     "duration": 0.177926,
     "end_time": "2020-10-24T09:44:51.227785",
     "exception": false,
     "start_time": "2020-10-24T09:44:51.049859",
     "status": "completed"
    },
    "tags": []
   },
   "outputs": [],
   "source": [
    "Xvec_train ,Xvec_val,yvec_train,yvec_val = train_test_split(X_set,y ,test_size=0.2 ,random_state=42)"
   ]
  },
  {
   "cell_type": "code",
   "execution_count": 83,
   "metadata": {
    "execution": {
     "iopub.execute_input": "2020-10-24T09:44:51.551691Z",
     "iopub.status.busy": "2020-10-24T09:44:51.550557Z",
     "iopub.status.idle": "2020-10-24T09:44:51.569246Z",
     "shell.execute_reply": "2020-10-24T09:44:51.564138Z"
    },
    "papermill": {
     "duration": 0.184234,
     "end_time": "2020-10-24T09:44:51.569426",
     "exception": false,
     "start_time": "2020-10-24T09:44:51.385192",
     "status": "completed"
    },
    "tags": []
   },
   "outputs": [],
   "source": [
    "train_vec = np.array(Xvec_train)\n",
    "val_vec =  np.array(Xvec_val)\n",
    "test_vec = np.array(X_test_new)\n",
    "ytrain_vec = np.array(yvec_train)\n",
    "yval_vec = np.array(yvec_val)"
   ]
  },
  {
   "cell_type": "markdown",
   "metadata": {
    "papermill": {
     "duration": 0.159031,
     "end_time": "2020-10-24T09:44:51.889112",
     "exception": false,
     "start_time": "2020-10-24T09:44:51.730081",
     "status": "completed"
    },
    "tags": []
   },
   "source": [
    "#### Creating Neural Network "
   ]
  },
  {
   "cell_type": "markdown",
   "metadata": {
    "papermill": {
     "duration": 0.158698,
     "end_time": "2020-10-24T09:44:52.206823",
     "exception": false,
     "start_time": "2020-10-24T09:44:52.048125",
     "status": "completed"
    },
    "tags": []
   },
   "source": [
    "##### ModelNN"
   ]
  },
  {
   "cell_type": "code",
   "execution_count": 84,
   "metadata": {
    "execution": {
     "iopub.execute_input": "2020-10-24T09:44:52.536354Z",
     "iopub.status.busy": "2020-10-24T09:44:52.535558Z",
     "iopub.status.idle": "2020-10-24T09:44:57.741751Z",
     "shell.execute_reply": "2020-10-24T09:44:57.740985Z"
    },
    "papermill": {
     "duration": 5.374199,
     "end_time": "2020-10-24T09:44:57.741878",
     "exception": false,
     "start_time": "2020-10-24T09:44:52.367679",
     "status": "completed"
    },
    "tags": []
   },
   "outputs": [],
   "source": [
    "import tensorflow\n",
    "from tensorflow import keras\n",
    "from keras.models import Sequential\n",
    "from keras.layers import Dense,Dropout,Flatten,Embedding,LSTM,Bidirectional,SpatialDropout1D\n",
    "from keras.callbacks import EarlyStopping,ModelCheckpoint\n",
    "from keras.preprocessing.text import one_hot\n",
    "from keras.layers.embeddings import Embedding\n",
    "from keras.optimizers import Adam\n",
    "from keras.preprocessing.sequence import pad_sequences"
   ]
  },
  {
   "cell_type": "code",
   "execution_count": 85,
   "metadata": {
    "execution": {
     "iopub.execute_input": "2020-10-24T09:44:58.063321Z",
     "iopub.status.busy": "2020-10-24T09:44:58.062567Z",
     "iopub.status.idle": "2020-10-24T09:44:58.064935Z",
     "shell.execute_reply": "2020-10-24T09:44:58.065520Z"
    },
    "papermill": {
     "duration": 0.165529,
     "end_time": "2020-10-24T09:44:58.065668",
     "exception": false,
     "start_time": "2020-10-24T09:44:57.900139",
     "status": "completed"
    },
    "tags": []
   },
   "outputs": [],
   "source": [
    "call_backs = [EarlyStopping(monitor='val_loss',patience=8),\n",
    "              ModelCheckpoint(filepath='best_model.h5',monitor='val_loss',\n",
    "                             save_best_only=True)]"
   ]
  },
  {
   "cell_type": "code",
   "execution_count": 86,
   "metadata": {
    "execution": {
     "iopub.execute_input": "2020-10-24T09:44:58.387750Z",
     "iopub.status.busy": "2020-10-24T09:44:58.386749Z",
     "iopub.status.idle": "2020-10-24T09:44:58.390356Z",
     "shell.execute_reply": "2020-10-24T09:44:58.389648Z"
    },
    "papermill": {
     "duration": 0.165349,
     "end_time": "2020-10-24T09:44:58.390478",
     "exception": false,
     "start_time": "2020-10-24T09:44:58.225129",
     "status": "completed"
    },
    "tags": []
   },
   "outputs": [],
   "source": [
    "voc_size = 3"
   ]
  },
  {
   "cell_type": "code",
   "execution_count": 87,
   "metadata": {
    "execution": {
     "iopub.execute_input": "2020-10-24T09:44:58.737972Z",
     "iopub.status.busy": "2020-10-24T09:44:58.737148Z",
     "iopub.status.idle": "2020-10-24T09:44:58.924907Z",
     "shell.execute_reply": "2020-10-24T09:44:58.924215Z"
    },
    "papermill": {
     "duration": 0.375414,
     "end_time": "2020-10-24T09:44:58.925030",
     "exception": false,
     "start_time": "2020-10-24T09:44:58.549616",
     "status": "completed"
    },
    "tags": []
   },
   "outputs": [],
   "source": [
    "modelNN = Sequential()\n",
    "modelNN.add(Dense(200,kernel_initializer='he_uniform',activation='relu',input_shape=(200,)))\n",
    "modelNN.add(Dense(512,kernel_initializer='he_uniform',activation='relu'))\n",
    "modelNN.add(Dropout(0.2))\n",
    "modelNN.add(Dense(128,kernel_initializer='he_uniform',activation='relu'))\n",
    "# modelNN.add(Dropout(0.2))\n",
    "modelNN.add(Dense(64,kernel_initializer='he_uniform',activation='relu'))\n",
    "modelNN.add(Dropout(0.2))                                            \n",
    "modelNN.add(Dense(1,activation='sigmoid'))\n",
    "modelNN.compile(optimizer='adam',loss='binary_crossentropy',metrics=['accuracy'])"
   ]
  },
  {
   "cell_type": "code",
   "execution_count": 88,
   "metadata": {
    "execution": {
     "iopub.execute_input": "2020-10-24T09:44:59.245137Z",
     "iopub.status.busy": "2020-10-24T09:44:59.244440Z",
     "iopub.status.idle": "2020-10-24T09:44:59.247074Z",
     "shell.execute_reply": "2020-10-24T09:44:59.247610Z"
    },
    "papermill": {
     "duration": 0.165222,
     "end_time": "2020-10-24T09:44:59.247757",
     "exception": false,
     "start_time": "2020-10-24T09:44:59.082535",
     "status": "completed"
    },
    "tags": []
   },
   "outputs": [],
   "source": [
    "# modelNN.fit(train_vec , ytrain_vec ,#callbacks=call_backs,\n",
    "#             batch_size = 200,validation_split=0.33,epochs=2000)"
   ]
  },
  {
   "cell_type": "code",
   "execution_count": 89,
   "metadata": {
    "execution": {
     "iopub.execute_input": "2020-10-24T09:44:59.568370Z",
     "iopub.status.busy": "2020-10-24T09:44:59.567556Z",
     "iopub.status.idle": "2020-10-24T09:44:59.570679Z",
     "shell.execute_reply": "2020-10-24T09:44:59.569956Z"
    },
    "papermill": {
     "duration": 0.164776,
     "end_time": "2020-10-24T09:44:59.570809",
     "exception": false,
     "start_time": "2020-10-24T09:44:59.406033",
     "status": "completed"
    },
    "tags": []
   },
   "outputs": [],
   "source": [
    "# preds = modelNN.predict(val_vec)\n",
    "# adj = np.where(preds > 0.5 ,1,0)\n",
    "# adj"
   ]
  },
  {
   "cell_type": "code",
   "execution_count": 90,
   "metadata": {
    "execution": {
     "iopub.execute_input": "2020-10-24T09:44:59.896444Z",
     "iopub.status.busy": "2020-10-24T09:44:59.895208Z",
     "iopub.status.idle": "2020-10-24T09:44:59.898693Z",
     "shell.execute_reply": "2020-10-24T09:44:59.897958Z"
    },
    "papermill": {
     "duration": 0.166377,
     "end_time": "2020-10-24T09:44:59.898816",
     "exception": false,
     "start_time": "2020-10-24T09:44:59.732439",
     "status": "completed"
    },
    "tags": []
   },
   "outputs": [],
   "source": [
    "# accuracy_score(adj,yval_vec)"
   ]
  },
  {
   "cell_type": "code",
   "execution_count": 91,
   "metadata": {
    "execution": {
     "iopub.execute_input": "2020-10-24T09:45:00.221355Z",
     "iopub.status.busy": "2020-10-24T09:45:00.220559Z",
     "iopub.status.idle": "2020-10-24T09:45:00.223827Z",
     "shell.execute_reply": "2020-10-24T09:45:00.223213Z"
    },
    "papermill": {
     "duration": 0.166731,
     "end_time": "2020-10-24T09:45:00.223950",
     "exception": false,
     "start_time": "2020-10-24T09:45:00.057219",
     "status": "completed"
    },
    "tags": []
   },
   "outputs": [],
   "source": [
    "# accuracy_NNls = []\n",
    "# for pred in preds:\n",
    "#     y_pred_NNreview = np.where(preds > pred ,1,0)\n",
    "#     score = f1_score(y_pred_NNreview.reshape(-1,1),yval_vec.reshape(-1,1) )\n",
    "#     accuracy_NNls.append(score)\n",
    "# predaccu_series = pd.DataFrame(preds)\n",
    "# accuracy_series = pd.Series(accuracy_NNls)\n",
    "# fin_accuracyNN = pd.concat((predaccu_series,accuracy_series) ,axis=1)\n",
    "# fin_accuracyNN.columns = ['prediction','accuracy']\n",
    "# fin_accuracyNN.sort_values(by='accuracy',ascending=False,inplace=True)\n",
    "    "
   ]
  },
  {
   "cell_type": "code",
   "execution_count": 92,
   "metadata": {
    "execution": {
     "iopub.execute_input": "2020-10-24T09:45:00.547980Z",
     "iopub.status.busy": "2020-10-24T09:45:00.546913Z",
     "iopub.status.idle": "2020-10-24T09:45:00.550012Z",
     "shell.execute_reply": "2020-10-24T09:45:00.549293Z"
    },
    "papermill": {
     "duration": 0.167245,
     "end_time": "2020-10-24T09:45:00.550132",
     "exception": false,
     "start_time": "2020-10-24T09:45:00.382887",
     "status": "completed"
    },
    "tags": []
   },
   "outputs": [],
   "source": [
    "# fin_accuracyNN"
   ]
  },
  {
   "cell_type": "code",
   "execution_count": 93,
   "metadata": {
    "execution": {
     "iopub.execute_input": "2020-10-24T09:45:00.873530Z",
     "iopub.status.busy": "2020-10-24T09:45:00.872610Z",
     "iopub.status.idle": "2020-10-24T09:45:00.874997Z",
     "shell.execute_reply": "2020-10-24T09:45:00.875576Z"
    },
    "papermill": {
     "duration": 0.16506,
     "end_time": "2020-10-24T09:45:00.875728",
     "exception": false,
     "start_time": "2020-10-24T09:45:00.710668",
     "status": "completed"
    },
    "tags": []
   },
   "outputs": [],
   "source": [
    "\n",
    "# adj = np.where(preds > 0.00010318 ,1,0)\n",
    "# adj"
   ]
  },
  {
   "cell_type": "code",
   "execution_count": 94,
   "metadata": {
    "execution": {
     "iopub.execute_input": "2020-10-24T09:45:01.198293Z",
     "iopub.status.busy": "2020-10-24T09:45:01.197263Z",
     "iopub.status.idle": "2020-10-24T09:45:01.200403Z",
     "shell.execute_reply": "2020-10-24T09:45:01.199733Z"
    },
    "papermill": {
     "duration": 0.16618,
     "end_time": "2020-10-24T09:45:01.200524",
     "exception": false,
     "start_time": "2020-10-24T09:45:01.034344",
     "status": "completed"
    },
    "tags": []
   },
   "outputs": [],
   "source": [
    "# flaccuracy = f1_score(adj,yval_vec)\n",
    "# flaccuracy"
   ]
  },
  {
   "cell_type": "code",
   "execution_count": null,
   "metadata": {
    "papermill": {
     "duration": 0.159283,
     "end_time": "2020-10-24T09:45:01.521388",
     "exception": false,
     "start_time": "2020-10-24T09:45:01.362105",
     "status": "completed"
    },
    "tags": []
   },
   "outputs": [],
   "source": []
  },
  {
   "cell_type": "code",
   "execution_count": 95,
   "metadata": {
    "execution": {
     "iopub.execute_input": "2020-10-24T09:45:01.852285Z",
     "iopub.status.busy": "2020-10-24T09:45:01.851337Z",
     "iopub.status.idle": "2020-10-24T09:45:01.854415Z",
     "shell.execute_reply": "2020-10-24T09:45:01.853662Z"
    },
    "papermill": {
     "duration": 0.168615,
     "end_time": "2020-10-24T09:45:01.854546",
     "exception": false,
     "start_time": "2020-10-24T09:45:01.685931",
     "status": "completed"
    },
    "tags": []
   },
   "outputs": [],
   "source": [
    "# NNtest_pred = modelNN.predict(test_vec_df)\n",
    "# adj_test = np.where(preds > 0.410577 ,1,0)\n",
    "# adj_test = adj_test.reshape(-1,1) \n",
    "# adj_test\n",
    "# pd.DataFrame(adj_test)"
   ]
  },
  {
   "cell_type": "code",
   "execution_count": null,
   "metadata": {
    "papermill": {
     "duration": 0.15855,
     "end_time": "2020-10-24T09:45:02.172567",
     "exception": false,
     "start_time": "2020-10-24T09:45:02.014017",
     "status": "completed"
    },
    "tags": []
   },
   "outputs": [],
   "source": []
  },
  {
   "cell_type": "code",
   "execution_count": 96,
   "metadata": {
    "execution": {
     "iopub.execute_input": "2020-10-24T09:45:02.497066Z",
     "iopub.status.busy": "2020-10-24T09:45:02.496344Z",
     "iopub.status.idle": "2020-10-24T09:45:02.501151Z",
     "shell.execute_reply": "2020-10-24T09:45:02.500573Z"
    },
    "papermill": {
     "duration": 0.168662,
     "end_time": "2020-10-24T09:45:02.501305",
     "exception": false,
     "start_time": "2020-10-24T09:45:02.332643",
     "status": "completed"
    },
    "tags": []
   },
   "outputs": [],
   "source": [
    "# dfsubmtest = pd.read_csv(\"../input/nlp-getting-started/test.csv\")\n",
    "# submission =pd.DataFrame({'id':dfsubmtest.id,\n",
    "#                          'target':})\n"
   ]
  },
  {
   "cell_type": "code",
   "execution_count": 97,
   "metadata": {
    "execution": {
     "iopub.execute_input": "2020-10-24T09:45:02.826942Z",
     "iopub.status.busy": "2020-10-24T09:45:02.825879Z",
     "iopub.status.idle": "2020-10-24T09:45:02.829119Z",
     "shell.execute_reply": "2020-10-24T09:45:02.828412Z"
    },
    "papermill": {
     "duration": 0.167381,
     "end_time": "2020-10-24T09:45:02.829258",
     "exception": false,
     "start_time": "2020-10-24T09:45:02.661877",
     "status": "completed"
    },
    "tags": []
   },
   "outputs": [],
   "source": [
    "# submission.to_csv('submissionNN.csv')"
   ]
  },
  {
   "cell_type": "code",
   "execution_count": 98,
   "metadata": {
    "execution": {
     "iopub.execute_input": "2020-10-24T09:45:03.155613Z",
     "iopub.status.busy": "2020-10-24T09:45:03.154580Z",
     "iopub.status.idle": "2020-10-24T09:45:03.157195Z",
     "shell.execute_reply": "2020-10-24T09:45:03.157728Z"
    },
    "papermill": {
     "duration": 0.168384,
     "end_time": "2020-10-24T09:45:03.157877",
     "exception": false,
     "start_time": "2020-10-24T09:45:02.989493",
     "status": "completed"
    },
    "tags": []
   },
   "outputs": [],
   "source": [
    "# Trainspar = tfidfVect.fit_transform(X_train)\n",
    "# val_spar = tfidfVect.transform(X_val)"
   ]
  },
  {
   "cell_type": "code",
   "execution_count": 99,
   "metadata": {
    "execution": {
     "iopub.execute_input": "2020-10-24T09:45:03.484787Z",
     "iopub.status.busy": "2020-10-24T09:45:03.483977Z",
     "iopub.status.idle": "2020-10-24T09:45:03.486644Z",
     "shell.execute_reply": "2020-10-24T09:45:03.487254Z"
    },
    "papermill": {
     "duration": 0.168859,
     "end_time": "2020-10-24T09:45:03.487405",
     "exception": false,
     "start_time": "2020-10-24T09:45:03.318546",
     "status": "completed"
    },
    "tags": []
   },
   "outputs": [],
   "source": [
    "# Testspar = tfidfVect.transform(X_test)"
   ]
  },
  {
   "cell_type": "code",
   "execution_count": 100,
   "metadata": {
    "execution": {
     "iopub.execute_input": "2020-10-24T09:45:03.816070Z",
     "iopub.status.busy": "2020-10-24T09:45:03.815132Z",
     "iopub.status.idle": "2020-10-24T09:45:03.818238Z",
     "shell.execute_reply": "2020-10-24T09:45:03.817498Z"
    },
    "papermill": {
     "duration": 0.169215,
     "end_time": "2020-10-24T09:45:03.818358",
     "exception": false,
     "start_time": "2020-10-24T09:45:03.649143",
     "status": "completed"
    },
    "tags": []
   },
   "outputs": [],
   "source": [
    "# arrtrain = Trainspar.toarray()\n",
    "# valarr = val_spar.toarray()\n",
    "# arrtest = Testspar.toarray()"
   ]
  },
  {
   "cell_type": "code",
   "execution_count": 101,
   "metadata": {
    "execution": {
     "iopub.execute_input": "2020-10-24T09:45:04.143931Z",
     "iopub.status.busy": "2020-10-24T09:45:04.142840Z",
     "iopub.status.idle": "2020-10-24T09:45:04.146354Z",
     "shell.execute_reply": "2020-10-24T09:45:04.145607Z"
    },
    "papermill": {
     "duration": 0.167907,
     "end_time": "2020-10-24T09:45:04.146475",
     "exception": false,
     "start_time": "2020-10-24T09:45:03.978568",
     "status": "completed"
    },
    "tags": []
   },
   "outputs": [],
   "source": [
    "# print(arrtrain.shape)\n",
    "# print(valarr.shape)\n",
    "# print(arrtest.shape)"
   ]
  },
  {
   "cell_type": "code",
   "execution_count": 102,
   "metadata": {
    "execution": {
     "iopub.execute_input": "2020-10-24T09:45:04.475794Z",
     "iopub.status.busy": "2020-10-24T09:45:04.475000Z",
     "iopub.status.idle": "2020-10-24T09:45:04.478341Z",
     "shell.execute_reply": "2020-10-24T09:45:04.477739Z"
    },
    "papermill": {
     "duration": 0.169087,
     "end_time": "2020-10-24T09:45:04.478470",
     "exception": false,
     "start_time": "2020-10-24T09:45:04.309383",
     "status": "completed"
    },
    "tags": []
   },
   "outputs": [],
   "source": [
    "# modelNN = Sequential()\n",
    "# modelNN.add(Dense(1024,kernel_initializer='he_uniform',activation='relu',input_shape=(8386,)))\n",
    "# modelNN.add(Dense(1024,kernel_initializer='he_uniform',activation='relu'))\n",
    "# # modelNN.add(Dropout(0.1))\n",
    "# modelNN.add(Dense(512,kernel_initializer='he_uniform',activation='relu'))\n",
    "# # modelNN.add(Dropout(0.2))\n",
    "# modelNN.add(Dense(128,kernel_initializer='he_uniform',activation='relu'))\n",
    "# # modelNN.add(Dropout(0.2))\n",
    "# modelNN.add(Dense(64,kernel_initializer='he_uniform',activation='relu'))\n",
    "# modelNN.add(Dense(1,activation='sigmoid'))\n",
    "# modelNN.compile(optimizer='adam',loss='binary_crossentropy',metrics=['accuracy'])"
   ]
  },
  {
   "cell_type": "code",
   "execution_count": 103,
   "metadata": {
    "execution": {
     "iopub.execute_input": "2020-10-24T09:45:04.807973Z",
     "iopub.status.busy": "2020-10-24T09:45:04.807003Z",
     "iopub.status.idle": "2020-10-24T09:45:04.810058Z",
     "shell.execute_reply": "2020-10-24T09:45:04.809460Z"
    },
    "papermill": {
     "duration": 0.16969,
     "end_time": "2020-10-24T09:45:04.810178",
     "exception": false,
     "start_time": "2020-10-24T09:45:04.640488",
     "status": "completed"
    },
    "tags": []
   },
   "outputs": [],
   "source": [
    "# modelNN.fit(arrtrain , np.array(y_train) ,\n",
    "#             batch_size = 2048,validation_split=0.33,epochs= 1000)"
   ]
  },
  {
   "cell_type": "code",
   "execution_count": 104,
   "metadata": {
    "execution": {
     "iopub.execute_input": "2020-10-24T09:45:05.135964Z",
     "iopub.status.busy": "2020-10-24T09:45:05.135042Z",
     "iopub.status.idle": "2020-10-24T09:45:05.137844Z",
     "shell.execute_reply": "2020-10-24T09:45:05.137129Z"
    },
    "papermill": {
     "duration": 0.167411,
     "end_time": "2020-10-24T09:45:05.137985",
     "exception": false,
     "start_time": "2020-10-24T09:45:04.970574",
     "status": "completed"
    },
    "tags": []
   },
   "outputs": [],
   "source": [
    "# prediction_val = modelNN.predict(valarr)\n",
    "# prediction_ = np.where(prediction_val > 0.72354312232 ,1,0)\n",
    "# prediction_"
   ]
  },
  {
   "cell_type": "code",
   "execution_count": 105,
   "metadata": {
    "execution": {
     "iopub.execute_input": "2020-10-24T09:45:05.466361Z",
     "iopub.status.busy": "2020-10-24T09:45:05.465321Z",
     "iopub.status.idle": "2020-10-24T09:45:05.468586Z",
     "shell.execute_reply": "2020-10-24T09:45:05.467998Z"
    },
    "papermill": {
     "duration": 0.168882,
     "end_time": "2020-10-24T09:45:05.468711",
     "exception": false,
     "start_time": "2020-10-24T09:45:05.299829",
     "status": "completed"
    },
    "tags": []
   },
   "outputs": [],
   "source": [
    "# accuracy_score(prediction_,np.array(y_val))"
   ]
  },
  {
   "cell_type": "code",
   "execution_count": 106,
   "metadata": {
    "execution": {
     "iopub.execute_input": "2020-10-24T09:45:05.797059Z",
     "iopub.status.busy": "2020-10-24T09:45:05.796154Z",
     "iopub.status.idle": "2020-10-24T09:45:05.798755Z",
     "shell.execute_reply": "2020-10-24T09:45:05.799300Z"
    },
    "papermill": {
     "duration": 0.168981,
     "end_time": "2020-10-24T09:45:05.799460",
     "exception": false,
     "start_time": "2020-10-24T09:45:05.630479",
     "status": "completed"
    },
    "tags": []
   },
   "outputs": [],
   "source": [
    "# f1_score(prediction_,np.array(y_val))"
   ]
  },
  {
   "cell_type": "code",
   "execution_count": 107,
   "metadata": {
    "execution": {
     "iopub.execute_input": "2020-10-24T09:45:06.127329Z",
     "iopub.status.busy": "2020-10-24T09:45:06.126297Z",
     "iopub.status.idle": "2020-10-24T09:45:06.129542Z",
     "shell.execute_reply": "2020-10-24T09:45:06.128975Z"
    },
    "papermill": {
     "duration": 0.168334,
     "end_time": "2020-10-24T09:45:06.129661",
     "exception": false,
     "start_time": "2020-10-24T09:45:05.961327",
     "status": "completed"
    },
    "tags": []
   },
   "outputs": [],
   "source": [
    "# accuracy_NNls = []\n",
    "# for pred in prediction_val:\n",
    "#     y_pred_NNreview = np.where(prediction_val > pred ,1,0)\n",
    "#     score = f1_score(y_pred_NNreview.reshape(-1,1),np.array(y_val).reshape(-1,1) )\n",
    "#     accuracy_NNls.append(score)\n",
    "# predaccu_series = pd.DataFrame(prediction_val)\n",
    "# accuracy_series = pd.Series(accuracy_NNls)\n",
    "# fin_accuracyNN = pd.concat((predaccu_series,accuracy_series) ,axis=1)\n",
    "# fin_accuracyNN.columns = ['prediction','accuracy']\n",
    "# fin_accuracyNN.sort_values(by='accuracy',ascending=False,inplace=True)\n",
    "    "
   ]
  },
  {
   "cell_type": "code",
   "execution_count": 108,
   "metadata": {
    "execution": {
     "iopub.execute_input": "2020-10-24T09:45:06.458193Z",
     "iopub.status.busy": "2020-10-24T09:45:06.457208Z",
     "iopub.status.idle": "2020-10-24T09:45:06.459767Z",
     "shell.execute_reply": "2020-10-24T09:45:06.460358Z"
    },
    "papermill": {
     "duration": 0.169369,
     "end_time": "2020-10-24T09:45:06.460528",
     "exception": false,
     "start_time": "2020-10-24T09:45:06.291159",
     "status": "completed"
    },
    "tags": []
   },
   "outputs": [],
   "source": [
    "# fin_accuracyNN"
   ]
  },
  {
   "cell_type": "markdown",
   "metadata": {
    "papermill": {
     "duration": 0.167541,
     "end_time": "2020-10-24T09:45:06.789441",
     "exception": false,
     "start_time": "2020-10-24T09:45:06.621900",
     "status": "completed"
    },
    "tags": []
   },
   "source": [
    "#### Keras Embedding"
   ]
  },
  {
   "cell_type": "code",
   "execution_count": 109,
   "metadata": {
    "execution": {
     "iopub.execute_input": "2020-10-24T09:45:07.117493Z",
     "iopub.status.busy": "2020-10-24T09:45:07.116530Z",
     "iopub.status.idle": "2020-10-24T09:45:07.119657Z",
     "shell.execute_reply": "2020-10-24T09:45:07.119059Z"
    },
    "papermill": {
     "duration": 0.169167,
     "end_time": "2020-10-24T09:45:07.119783",
     "exception": false,
     "start_time": "2020-10-24T09:45:06.950616",
     "status": "completed"
    },
    "tags": []
   },
   "outputs": [],
   "source": [
    "vocab_size = 512"
   ]
  },
  {
   "cell_type": "code",
   "execution_count": 110,
   "metadata": {
    "execution": {
     "iopub.execute_input": "2020-10-24T09:45:07.454631Z",
     "iopub.status.busy": "2020-10-24T09:45:07.453582Z",
     "iopub.status.idle": "2020-10-24T09:45:07.456885Z",
     "shell.execute_reply": "2020-10-24T09:45:07.456168Z"
    },
    "papermill": {
     "duration": 0.17205,
     "end_time": "2020-10-24T09:45:07.457017",
     "exception": false,
     "start_time": "2020-10-24T09:45:07.284967",
     "status": "completed"
    },
    "tags": []
   },
   "outputs": [],
   "source": [
    "def onehot(data):\n",
    "    data = [one_hot(i,vocab_size)for i in data]\n",
    "    return data\n",
    "onehotter = lambda x: onehot(x)"
   ]
  },
  {
   "cell_type": "code",
   "execution_count": 111,
   "metadata": {
    "execution": {
     "iopub.execute_input": "2020-10-24T09:45:07.825877Z",
     "iopub.status.busy": "2020-10-24T09:45:07.815671Z",
     "iopub.status.idle": "2020-10-24T09:45:08.665076Z",
     "shell.execute_reply": "2020-10-24T09:45:08.664439Z"
    },
    "papermill": {
     "duration": 1.044585,
     "end_time": "2020-10-24T09:45:08.665217",
     "exception": false,
     "start_time": "2020-10-24T09:45:07.620632",
     "status": "completed"
    },
    "tags": []
   },
   "outputs": [
    {
     "data": {
      "text/plain": [
       "0                     [[172], [367], [289], [359], [191]]\n",
       "1        [[307], [479], [91], [272], [158], [107], [395]]\n",
       "2       [[215], [409], [95], [500], [389], [166], [10]...\n",
       "3                [[203], [509], [362], [10], [96], [421]]\n",
       "4        [[511], [211], [310], [502], [362], [43], [115]]\n",
       "                              ...                        \n",
       "7608    [[451], [481], [490], [335], [245], [172], [17...\n",
       "7609    [[258], [33], [494], [56], [32], [479], [421],...\n",
       "7610                  [[121], [381], [175], [208], [416]]\n",
       "7611    [[374], [32], [342], [443], [6], [374], [418],...\n",
       "7612    [[56], [170], [296], [31], [421], [362], [279]...\n",
       "Name: text, Length: 7613, dtype: object"
      ]
     },
     "execution_count": 111,
     "metadata": {},
     "output_type": "execute_result"
    }
   ],
   "source": [
    "X_train_embed = token_train.apply(onehotter)\n",
    "X_train_embed\n"
   ]
  },
  {
   "cell_type": "code",
   "execution_count": 112,
   "metadata": {
    "execution": {
     "iopub.execute_input": "2020-10-24T09:45:09.059485Z",
     "iopub.status.busy": "2020-10-24T09:45:09.033871Z",
     "iopub.status.idle": "2020-10-24T09:45:09.366073Z",
     "shell.execute_reply": "2020-10-24T09:45:09.365436Z"
    },
    "papermill": {
     "duration": 0.536859,
     "end_time": "2020-10-24T09:45:09.366190",
     "exception": false,
     "start_time": "2020-10-24T09:45:08.829331",
     "status": "completed"
    },
    "tags": []
   },
   "outputs": [
    {
     "data": {
      "text/plain": [
       "0                            [[359], [175], [374], [136]]\n",
       "1               [[289], [206], [72], [395], [308], [435]]\n",
       "2       [[307], [479], [388], [201], [143], [332], [35...\n",
       "3                             [[232], [381], [70], [362]]\n",
       "4                     [[197], [450], [238], [509], [342]]\n",
       "                              ...                        \n",
       "3258     [[289], [369], [352], [129], [369], [52], [184]]\n",
       "3259    [[67], [194], [461], [71], [225], [72], [468],...\n",
       "3260                  [[176], [270], [437], [481], [447]]\n",
       "3261    [[50], [417], [91], [329], [325], [305], [224]...\n",
       "3262           [[164], [465], [312], [334], [161], [211]]\n",
       "Name: text, Length: 3263, dtype: object"
      ]
     },
     "execution_count": 112,
     "metadata": {},
     "output_type": "execute_result"
    }
   ],
   "source": [
    "X_test_embed = token_test.apply(onehotter)\n",
    "X_test_embed"
   ]
  },
  {
   "cell_type": "code",
   "execution_count": 113,
   "metadata": {
    "execution": {
     "iopub.execute_input": "2020-10-24T09:45:09.721598Z",
     "iopub.status.busy": "2020-10-24T09:45:09.720334Z",
     "iopub.status.idle": "2020-10-24T09:45:09.846429Z",
     "shell.execute_reply": "2020-10-24T09:45:09.846976Z"
    },
    "papermill": {
     "duration": 0.317259,
     "end_time": "2020-10-24T09:45:09.847149",
     "exception": false,
     "start_time": "2020-10-24T09:45:09.529890",
     "status": "completed"
    },
    "tags": []
   },
   "outputs": [
    {
     "data": {
      "text/plain": [
       "array([[[  0],\n",
       "        [  0],\n",
       "        [  0],\n",
       "        ...,\n",
       "        [289],\n",
       "        [359],\n",
       "        [191]],\n",
       "\n",
       "       [[  0],\n",
       "        [  0],\n",
       "        [  0],\n",
       "        ...,\n",
       "        [158],\n",
       "        [107],\n",
       "        [395]],\n",
       "\n",
       "       [[  0],\n",
       "        [  0],\n",
       "        [  0],\n",
       "        ...,\n",
       "        [500],\n",
       "        [ 96],\n",
       "        [504]],\n",
       "\n",
       "       ...,\n",
       "\n",
       "       [[  0],\n",
       "        [  0],\n",
       "        [  0],\n",
       "        ...,\n",
       "        [175],\n",
       "        [208],\n",
       "        [416]],\n",
       "\n",
       "       [[  0],\n",
       "        [  0],\n",
       "        [  0],\n",
       "        ...,\n",
       "        [ 59],\n",
       "        [285],\n",
       "        [472]],\n",
       "\n",
       "       [[  0],\n",
       "        [  0],\n",
       "        [  0],\n",
       "        ...,\n",
       "        [397],\n",
       "        [162],\n",
       "        [192]]], dtype=int32)"
      ]
     },
     "execution_count": 113,
     "metadata": {},
     "output_type": "execute_result"
    }
   ],
   "source": [
    "sent_length = 20\n",
    "X_train_pad = pad_sequences(X_train_embed ,padding='pre',maxlen=sent_length)\n",
    "X_train_pad"
   ]
  },
  {
   "cell_type": "code",
   "execution_count": 114,
   "metadata": {
    "execution": {
     "iopub.execute_input": "2020-10-24T09:45:10.179680Z",
     "iopub.status.busy": "2020-10-24T09:45:10.178826Z",
     "iopub.status.idle": "2020-10-24T09:45:10.183948Z",
     "shell.execute_reply": "2020-10-24T09:45:10.183397Z"
    },
    "papermill": {
     "duration": 0.173591,
     "end_time": "2020-10-24T09:45:10.184070",
     "exception": false,
     "start_time": "2020-10-24T09:45:10.010479",
     "status": "completed"
    },
    "tags": []
   },
   "outputs": [
    {
     "data": {
      "text/plain": [
       "(6000, 20, 1)"
      ]
     },
     "execution_count": 114,
     "metadata": {},
     "output_type": "execute_result"
    }
   ],
   "source": [
    "train_set = X_train_pad[0:6000]\n",
    "train_set.shape"
   ]
  },
  {
   "cell_type": "code",
   "execution_count": 115,
   "metadata": {
    "execution": {
     "iopub.execute_input": "2020-10-24T09:45:10.519498Z",
     "iopub.status.busy": "2020-10-24T09:45:10.518435Z",
     "iopub.status.idle": "2020-10-24T09:45:10.522971Z",
     "shell.execute_reply": "2020-10-24T09:45:10.522250Z"
    },
    "papermill": {
     "duration": 0.174174,
     "end_time": "2020-10-24T09:45:10.523095",
     "exception": false,
     "start_time": "2020-10-24T09:45:10.348921",
     "status": "completed"
    },
    "tags": []
   },
   "outputs": [
    {
     "data": {
      "text/plain": [
       "(1613, 20, 1)"
      ]
     },
     "execution_count": 115,
     "metadata": {},
     "output_type": "execute_result"
    }
   ],
   "source": [
    "val_set = X_train_pad[6000: ]\n",
    "val_set.shape"
   ]
  },
  {
   "cell_type": "code",
   "execution_count": 116,
   "metadata": {
    "execution": {
     "iopub.execute_input": "2020-10-24T09:45:10.864734Z",
     "iopub.status.busy": "2020-10-24T09:45:10.863721Z",
     "iopub.status.idle": "2020-10-24T09:45:10.867826Z",
     "shell.execute_reply": "2020-10-24T09:45:10.867126Z"
    },
    "papermill": {
     "duration": 0.176923,
     "end_time": "2020-10-24T09:45:10.867943",
     "exception": false,
     "start_time": "2020-10-24T09:45:10.691020",
     "status": "completed"
    },
    "tags": []
   },
   "outputs": [
    {
     "data": {
      "text/plain": [
       "0       1\n",
       "1       1\n",
       "2       1\n",
       "3       1\n",
       "4       1\n",
       "       ..\n",
       "5995    0\n",
       "5996    0\n",
       "5997    0\n",
       "5998    0\n",
       "5999    0\n",
       "Name: target, Length: 6000, dtype: int64"
      ]
     },
     "execution_count": 116,
     "metadata": {},
     "output_type": "execute_result"
    }
   ],
   "source": [
    "y_train_set = y[ :6000]\n",
    "y_val_set = y[6000: ]\n",
    "y_train_set"
   ]
  },
  {
   "cell_type": "code",
   "execution_count": 117,
   "metadata": {
    "execution": {
     "iopub.execute_input": "2020-10-24T09:45:11.205414Z",
     "iopub.status.busy": "2020-10-24T09:45:11.204562Z",
     "iopub.status.idle": "2020-10-24T09:45:11.207874Z",
     "shell.execute_reply": "2020-10-24T09:45:11.208565Z"
    },
    "papermill": {
     "duration": 0.176029,
     "end_time": "2020-10-24T09:45:11.208721",
     "exception": false,
     "start_time": "2020-10-24T09:45:11.032692",
     "status": "completed"
    },
    "tags": []
   },
   "outputs": [
    {
     "data": {
      "text/plain": [
       "6000    0\n",
       "6001    0\n",
       "6002    0\n",
       "6003    0\n",
       "6004    0\n",
       "       ..\n",
       "7608    1\n",
       "7609    1\n",
       "7610    1\n",
       "7611    1\n",
       "7612    1\n",
       "Name: target, Length: 1613, dtype: int64"
      ]
     },
     "execution_count": 117,
     "metadata": {},
     "output_type": "execute_result"
    }
   ],
   "source": [
    "y_val_set "
   ]
  },
  {
   "cell_type": "code",
   "execution_count": 118,
   "metadata": {
    "execution": {
     "iopub.execute_input": "2020-10-24T09:45:11.553632Z",
     "iopub.status.busy": "2020-10-24T09:45:11.548538Z",
     "iopub.status.idle": "2020-10-24T09:45:11.608765Z",
     "shell.execute_reply": "2020-10-24T09:45:11.608079Z"
    },
    "papermill": {
     "duration": 0.233959,
     "end_time": "2020-10-24T09:45:11.608902",
     "exception": false,
     "start_time": "2020-10-24T09:45:11.374943",
     "status": "completed"
    },
    "tags": []
   },
   "outputs": [
    {
     "data": {
      "text/plain": [
       "(3263, 20, 1)"
      ]
     },
     "execution_count": 118,
     "metadata": {},
     "output_type": "execute_result"
    }
   ],
   "source": [
    "X_test_pad = pad_sequences(X_test_embed ,padding='pre',maxlen=sent_length)\n",
    "X_test_pad.shape"
   ]
  },
  {
   "cell_type": "code",
   "execution_count": 119,
   "metadata": {
    "execution": {
     "iopub.execute_input": "2020-10-24T09:45:11.950882Z",
     "iopub.status.busy": "2020-10-24T09:45:11.950011Z",
     "iopub.status.idle": "2020-10-24T09:45:11.952526Z",
     "shell.execute_reply": "2020-10-24T09:45:11.953144Z"
    },
    "papermill": {
     "duration": 0.175824,
     "end_time": "2020-10-24T09:45:11.953319",
     "exception": false,
     "start_time": "2020-10-24T09:45:11.777495",
     "status": "completed"
    },
    "tags": []
   },
   "outputs": [],
   "source": [
    "embedding_layer = Embedding(vocab_size,1024,input_length = sent_length,trainable = True)"
   ]
  },
  {
   "cell_type": "code",
   "execution_count": 120,
   "metadata": {
    "execution": {
     "iopub.execute_input": "2020-10-24T09:45:12.294882Z",
     "iopub.status.busy": "2020-10-24T09:45:12.293908Z",
     "iopub.status.idle": "2020-10-24T09:45:12.296925Z",
     "shell.execute_reply": "2020-10-24T09:45:12.296172Z"
    },
    "papermill": {
     "duration": 0.176064,
     "end_time": "2020-10-24T09:45:12.297044",
     "exception": false,
     "start_time": "2020-10-24T09:45:12.120980",
     "status": "completed"
    },
    "tags": []
   },
   "outputs": [],
   "source": [
    "call_back = [EarlyStopping(monitor='val_loss',patience=3),\n",
    "              ModelCheckpoint(filepath='best_model.h5',monitor='val_loss',\n",
    "                             save_best_only=True)]"
   ]
  },
  {
   "cell_type": "code",
   "execution_count": 121,
   "metadata": {
    "execution": {
     "iopub.execute_input": "2020-10-24T09:45:12.652565Z",
     "iopub.status.busy": "2020-10-24T09:45:12.648212Z",
     "iopub.status.idle": "2020-10-24T09:45:13.270500Z",
     "shell.execute_reply": "2020-10-24T09:45:13.269826Z"
    },
    "papermill": {
     "duration": 0.805029,
     "end_time": "2020-10-24T09:45:13.270635",
     "exception": false,
     "start_time": "2020-10-24T09:45:12.465606",
     "status": "completed"
    },
    "tags": []
   },
   "outputs": [],
   "source": [
    "modelEM = Sequential()\n",
    "modelEM.add(embedding_layer)\n",
    "modelEM.add(Dense(512,activation='relu'))\n",
    "modelEM.add(Dropout(0.5))\n",
    "modelEM.add(Dense(512,activation='relu'))\n",
    "modelEM.add(Dropout(0.3))\n",
    "modelEM.add(LSTM(512,activation=\"tanh\",\n",
    "    recurrent_activation=\"sigmoid\",                 \n",
    "    use_bias=True,\n",
    "    kernel_initializer=\"glorot_uniform\",\n",
    "    recurrent_initializer=\"orthogonal\",\n",
    "    bias_initializer=\"zeros\",\n",
    "    unit_forget_bias=True,\n",
    "    kernel_regularizer=None,\n",
    "    recurrent_regularizer=None,\n",
    "    bias_regularizer=None,\n",
    "    activity_regularizer=None,\n",
    "    kernel_constraint=None,\n",
    "    recurrent_constraint=None,\n",
    "    bias_constraint=None,\n",
    "    dropout=0.2,\n",
    "    recurrent_dropout=0.1))\n",
    "modelEM.add(Dense(1,activation=\"sigmoid\"))\n",
    "modelEM.compile(optimizer ='rmsprop',loss='binary_crossentropy',metrics=['accuracy'])"
   ]
  },
  {
   "cell_type": "code",
   "execution_count": 122,
   "metadata": {
    "execution": {
     "iopub.execute_input": "2020-10-24T09:45:13.624533Z",
     "iopub.status.busy": "2020-10-24T09:45:13.623733Z",
     "iopub.status.idle": "2020-10-24T09:46:49.394523Z",
     "shell.execute_reply": "2020-10-24T09:46:49.393775Z"
    },
    "papermill": {
     "duration": 95.954969,
     "end_time": "2020-10-24T09:46:49.394659",
     "exception": false,
     "start_time": "2020-10-24T09:45:13.439690",
     "status": "completed"
    },
    "tags": []
   },
   "outputs": [
    {
     "name": "stdout",
     "output_type": "stream",
     "text": [
      "Epoch 1/500\n",
      "21/21 [==============================] - 18s 866ms/step - loss: 0.6760 - accuracy: 0.5775 - val_loss: 0.6951 - val_accuracy: 0.5401\n",
      "Epoch 2/500\n",
      "21/21 [==============================] - 18s 838ms/step - loss: 0.6451 - accuracy: 0.6295 - val_loss: 0.6808 - val_accuracy: 0.5926\n",
      "Epoch 3/500\n",
      "21/21 [==============================] - 17s 793ms/step - loss: 0.5550 - accuracy: 0.7203 - val_loss: 0.7453 - val_accuracy: 0.5982\n",
      "Epoch 4/500\n",
      "21/21 [==============================] - 17s 813ms/step - loss: 0.5152 - accuracy: 0.7470 - val_loss: 0.8991 - val_accuracy: 0.6184\n",
      "Epoch 5/500\n",
      "21/21 [==============================] - 18s 858ms/step - loss: 0.4989 - accuracy: 0.7671 - val_loss: 0.6870 - val_accuracy: 0.6032\n"
     ]
    },
    {
     "data": {
      "text/plain": [
       "<tensorflow.python.keras.callbacks.History at 0x7f83b612a750>"
      ]
     },
     "execution_count": 122,
     "metadata": {},
     "output_type": "execute_result"
    }
   ],
   "source": [
    "modelEM.fit(train_set,y_train_set,callbacks=call_back,\n",
    "             batch_size = 200,validation_split=0.33,epochs= 500)"
   ]
  },
  {
   "cell_type": "code",
   "execution_count": 123,
   "metadata": {
    "execution": {
     "iopub.execute_input": "2020-10-24T09:46:49.843054Z",
     "iopub.status.busy": "2020-10-24T09:46:49.842024Z",
     "iopub.status.idle": "2020-10-24T09:46:52.935923Z",
     "shell.execute_reply": "2020-10-24T09:46:52.935221Z"
    },
    "papermill": {
     "duration": 3.321042,
     "end_time": "2020-10-24T09:46:52.936061",
     "exception": false,
     "start_time": "2020-10-24T09:46:49.615019",
     "status": "completed"
    },
    "tags": []
   },
   "outputs": [],
   "source": [
    "prediction_em = modelEM.predict(val_set)\n",
    "prediction_ = np.where(prediction_em > 0.5,1,0)\n"
   ]
  },
  {
   "cell_type": "code",
   "execution_count": 124,
   "metadata": {
    "execution": {
     "iopub.execute_input": "2020-10-24T09:46:53.368361Z",
     "iopub.status.busy": "2020-10-24T09:46:53.367544Z",
     "iopub.status.idle": "2020-10-24T09:46:53.373215Z",
     "shell.execute_reply": "2020-10-24T09:46:53.372650Z"
    },
    "papermill": {
     "duration": 0.223497,
     "end_time": "2020-10-24T09:46:53.373362",
     "exception": false,
     "start_time": "2020-10-24T09:46:53.149865",
     "status": "completed"
    },
    "tags": []
   },
   "outputs": [
    {
     "data": {
      "text/plain": [
       "0.6466212027278363"
      ]
     },
     "execution_count": 124,
     "metadata": {},
     "output_type": "execute_result"
    }
   ],
   "source": [
    "accuracy_score(prediction_,y_val_set)"
   ]
  },
  {
   "cell_type": "code",
   "execution_count": 125,
   "metadata": {
    "execution": {
     "iopub.execute_input": "2020-10-24T09:46:53.812373Z",
     "iopub.status.busy": "2020-10-24T09:46:53.811290Z",
     "iopub.status.idle": "2020-10-24T09:46:53.818805Z",
     "shell.execute_reply": "2020-10-24T09:46:53.818069Z"
    },
    "papermill": {
     "duration": 0.229158,
     "end_time": "2020-10-24T09:46:53.818925",
     "exception": false,
     "start_time": "2020-10-24T09:46:53.589767",
     "status": "completed"
    },
    "tags": []
   },
   "outputs": [
    {
     "data": {
      "text/plain": [
       "0.5746268656716419"
      ]
     },
     "execution_count": 125,
     "metadata": {},
     "output_type": "execute_result"
    }
   ],
   "source": [
    "f1_score(prediction_,y_val_set)"
   ]
  },
  {
   "cell_type": "code",
   "execution_count": 126,
   "metadata": {
    "execution": {
     "iopub.execute_input": "2020-10-24T09:46:54.258911Z",
     "iopub.status.busy": "2020-10-24T09:46:54.258164Z",
     "iopub.status.idle": "2020-10-24T09:46:56.630931Z",
     "shell.execute_reply": "2020-10-24T09:46:56.630125Z"
    },
    "papermill": {
     "duration": 2.59725,
     "end_time": "2020-10-24T09:46:56.631056",
     "exception": false,
     "start_time": "2020-10-24T09:46:54.033806",
     "status": "completed"
    },
    "tags": []
   },
   "outputs": [],
   "source": [
    "accuracy_EMls = []\n",
    "for pred in prediction_em:\n",
    "    y_pred_EMreview = np.where(prediction_em > pred ,1,0)\n",
    "    score = f1_score(y_pred_EMreview.reshape(-1,1),np.array(y_val_set).reshape(-1,1) )\n",
    "    accuracy_EMls.append(score)\n",
    "predaccu_series = pd.DataFrame(prediction_em)\n",
    "accuracy_series = pd.Series(accuracy_EMls)\n",
    "fin_accuracyEM = pd.concat((predaccu_series,accuracy_series) ,axis=1)\n",
    "fin_accuracyEM.columns = ['prediction','accuracy']\n",
    "fin_accuracyEM.sort_values(by='accuracy',ascending=False,inplace=True)\n",
    "    "
   ]
  },
  {
   "cell_type": "code",
   "execution_count": 127,
   "metadata": {
    "execution": {
     "iopub.execute_input": "2020-10-24T09:46:57.078172Z",
     "iopub.status.busy": "2020-10-24T09:46:57.077368Z",
     "iopub.status.idle": "2020-10-24T09:46:57.081697Z",
     "shell.execute_reply": "2020-10-24T09:46:57.082278Z"
    },
    "papermill": {
     "duration": 0.233405,
     "end_time": "2020-10-24T09:46:57.082434",
     "exception": false,
     "start_time": "2020-10-24T09:46:56.849029",
     "status": "completed"
    },
    "tags": []
   },
   "outputs": [
    {
     "data": {
      "text/html": [
       "<div>\n",
       "<style scoped>\n",
       "    .dataframe tbody tr th:only-of-type {\n",
       "        vertical-align: middle;\n",
       "    }\n",
       "\n",
       "    .dataframe tbody tr th {\n",
       "        vertical-align: top;\n",
       "    }\n",
       "\n",
       "    .dataframe thead th {\n",
       "        text-align: right;\n",
       "    }\n",
       "</style>\n",
       "<table border=\"1\" class=\"dataframe\">\n",
       "  <thead>\n",
       "    <tr style=\"text-align: right;\">\n",
       "      <th></th>\n",
       "      <th>prediction</th>\n",
       "      <th>accuracy</th>\n",
       "    </tr>\n",
       "  </thead>\n",
       "  <tbody>\n",
       "    <tr>\n",
       "      <th>1463</th>\n",
       "      <td>0.126013</td>\n",
       "      <td>0.641328</td>\n",
       "    </tr>\n",
       "    <tr>\n",
       "      <th>1002</th>\n",
       "      <td>0.125821</td>\n",
       "      <td>0.641048</td>\n",
       "    </tr>\n",
       "    <tr>\n",
       "      <th>832</th>\n",
       "      <td>0.110882</td>\n",
       "      <td>0.640970</td>\n",
       "    </tr>\n",
       "    <tr>\n",
       "      <th>1367</th>\n",
       "      <td>0.116914</td>\n",
       "      <td>0.640903</td>\n",
       "    </tr>\n",
       "    <tr>\n",
       "      <th>185</th>\n",
       "      <td>0.120541</td>\n",
       "      <td>0.640836</td>\n",
       "    </tr>\n",
       "    <tr>\n",
       "      <th>...</th>\n",
       "      <td>...</td>\n",
       "      <td>...</td>\n",
       "    </tr>\n",
       "    <tr>\n",
       "      <th>1506</th>\n",
       "      <td>0.920390</td>\n",
       "      <td>0.010554</td>\n",
       "    </tr>\n",
       "    <tr>\n",
       "      <th>1052</th>\n",
       "      <td>0.922039</td>\n",
       "      <td>0.007926</td>\n",
       "    </tr>\n",
       "    <tr>\n",
       "      <th>28</th>\n",
       "      <td>0.932086</td>\n",
       "      <td>0.002649</td>\n",
       "    </tr>\n",
       "    <tr>\n",
       "      <th>35</th>\n",
       "      <td>0.932086</td>\n",
       "      <td>0.002649</td>\n",
       "    </tr>\n",
       "    <tr>\n",
       "      <th>1346</th>\n",
       "      <td>0.937106</td>\n",
       "      <td>0.000000</td>\n",
       "    </tr>\n",
       "  </tbody>\n",
       "</table>\n",
       "<p>1613 rows × 2 columns</p>\n",
       "</div>"
      ],
      "text/plain": [
       "      prediction  accuracy\n",
       "1463    0.126013  0.641328\n",
       "1002    0.125821  0.641048\n",
       "832     0.110882  0.640970\n",
       "1367    0.116914  0.640903\n",
       "185     0.120541  0.640836\n",
       "...          ...       ...\n",
       "1506    0.920390  0.010554\n",
       "1052    0.922039  0.007926\n",
       "28      0.932086  0.002649\n",
       "35      0.932086  0.002649\n",
       "1346    0.937106  0.000000\n",
       "\n",
       "[1613 rows x 2 columns]"
      ]
     },
     "execution_count": 127,
     "metadata": {},
     "output_type": "execute_result"
    }
   ],
   "source": [
    "fin_accuracyEM"
   ]
  },
  {
   "cell_type": "markdown",
   "metadata": {
    "papermill": {
     "duration": 0.216397,
     "end_time": "2020-10-24T09:46:57.515138",
     "exception": false,
     "start_time": "2020-10-24T09:46:57.298741",
     "status": "completed"
    },
    "tags": []
   },
   "source": [
    "#### Bidirectional LSTM"
   ]
  },
  {
   "cell_type": "code",
   "execution_count": 128,
   "metadata": {
    "execution": {
     "iopub.execute_input": "2020-10-24T09:46:57.960797Z",
     "iopub.status.busy": "2020-10-24T09:46:57.959947Z",
     "iopub.status.idle": "2020-10-24T09:46:58.683933Z",
     "shell.execute_reply": "2020-10-24T09:46:58.683178Z"
    },
    "papermill": {
     "duration": 0.952312,
     "end_time": "2020-10-24T09:46:58.684055",
     "exception": false,
     "start_time": "2020-10-24T09:46:57.731743",
     "status": "completed"
    },
    "tags": []
   },
   "outputs": [],
   "source": [
    "\n",
    "bidirect_model = Sequential()\n",
    "bidirect_model.add(embedding_layer)\n",
    "bidirect_model.add(SpatialDropout1D(0.2))\n",
    "bidirect_model.add(Dense(512,activation='relu'))\n",
    "bidirect_model.add(Dropout(0.3))\n",
    "bidirect_model.add(Bidirectional(LSTM(128, return_sequences=False,dropout=0.2, recurrent_dropout=0.2)))\n",
    "bidirect_model.add(Dense(1, activation='sigmoid'))"
   ]
  },
  {
   "cell_type": "code",
   "execution_count": 129,
   "metadata": {
    "execution": {
     "iopub.execute_input": "2020-10-24T09:46:59.129655Z",
     "iopub.status.busy": "2020-10-24T09:46:59.128532Z",
     "iopub.status.idle": "2020-10-24T09:46:59.134399Z",
     "shell.execute_reply": "2020-10-24T09:46:59.133795Z"
    },
    "papermill": {
     "duration": 0.23435,
     "end_time": "2020-10-24T09:46:59.134526",
     "exception": false,
     "start_time": "2020-10-24T09:46:58.900176",
     "status": "completed"
    },
    "tags": []
   },
   "outputs": [],
   "source": [
    "optimizer = Adam(learning_rate = 3e-4)\n",
    "bidirect_model.compile(optimizer=optimizer,loss='binary_crossentropy',metrics = ['accuracy'])"
   ]
  },
  {
   "cell_type": "code",
   "execution_count": 130,
   "metadata": {
    "execution": {
     "iopub.execute_input": "2020-10-24T09:46:59.576704Z",
     "iopub.status.busy": "2020-10-24T09:46:59.575332Z",
     "iopub.status.idle": "2020-10-24T09:46:59.585039Z",
     "shell.execute_reply": "2020-10-24T09:46:59.584352Z"
    },
    "papermill": {
     "duration": 0.233774,
     "end_time": "2020-10-24T09:46:59.585177",
     "exception": false,
     "start_time": "2020-10-24T09:46:59.351403",
     "status": "completed"
    },
    "tags": []
   },
   "outputs": [
    {
     "name": "stdout",
     "output_type": "stream",
     "text": [
      "Model: \"sequential_2\"\n",
      "_________________________________________________________________\n",
      "Layer (type)                 Output Shape              Param #   \n",
      "=================================================================\n",
      "embedding (Embedding)        (None, 20, 1024)          524288    \n",
      "_________________________________________________________________\n",
      "spatial_dropout1d (SpatialDr (None, 20, 1024)          0         \n",
      "_________________________________________________________________\n",
      "dense_8 (Dense)              (None, 20, 512)           524800    \n",
      "_________________________________________________________________\n",
      "dropout_4 (Dropout)          (None, 20, 512)           0         \n",
      "_________________________________________________________________\n",
      "bidirectional (Bidirectional (None, 256)               656384    \n",
      "_________________________________________________________________\n",
      "dense_9 (Dense)              (None, 1)                 257       \n",
      "=================================================================\n",
      "Total params: 1,705,729\n",
      "Trainable params: 1,705,729\n",
      "Non-trainable params: 0\n",
      "_________________________________________________________________\n"
     ]
    }
   ],
   "source": [
    "bidirect_model.summary()"
   ]
  },
  {
   "cell_type": "code",
   "execution_count": 131,
   "metadata": {
    "execution": {
     "iopub.execute_input": "2020-10-24T09:47:00.056368Z",
     "iopub.status.busy": "2020-10-24T09:47:00.055325Z",
     "iopub.status.idle": "2020-10-24T09:47:45.278309Z",
     "shell.execute_reply": "2020-10-24T09:47:45.277496Z"
    },
    "papermill": {
     "duration": 45.446165,
     "end_time": "2020-10-24T09:47:45.278443",
     "exception": false,
     "start_time": "2020-10-24T09:46:59.832278",
     "status": "completed"
    },
    "tags": []
   },
   "outputs": [
    {
     "name": "stdout",
     "output_type": "stream",
     "text": [
      "Epoch 1/30\n",
      "21/21 [==============================] - 10s 463ms/step - loss: 0.6601 - accuracy: 0.5820 - val_loss: 0.6674 - val_accuracy: 0.5765\n",
      "Epoch 2/30\n",
      "21/21 [==============================] - 9s 449ms/step - loss: 0.5587 - accuracy: 0.7308 - val_loss: 0.7226 - val_accuracy: 0.6164\n",
      "Epoch 3/30\n",
      "21/21 [==============================] - 10s 455ms/step - loss: 0.4847 - accuracy: 0.7741 - val_loss: 0.7219 - val_accuracy: 0.6143\n",
      "Epoch 4/30\n",
      "21/21 [==============================] - 10s 455ms/step - loss: 0.4704 - accuracy: 0.7818 - val_loss: 0.7121 - val_accuracy: 0.6133\n"
     ]
    },
    {
     "data": {
      "text/plain": [
       "<tensorflow.python.keras.callbacks.History at 0x7f83737f7810>"
      ]
     },
     "execution_count": 131,
     "metadata": {},
     "output_type": "execute_result"
    }
   ],
   "source": [
    "bidirect_model.fit(train_set,y_train_set,callbacks=call_back,\n",
    "             batch_size = 200,validation_split=0.33,epochs= 30)"
   ]
  },
  {
   "cell_type": "code",
   "execution_count": 132,
   "metadata": {
    "execution": {
     "iopub.execute_input": "2020-10-24T09:47:45.804806Z",
     "iopub.status.busy": "2020-10-24T09:47:45.803777Z",
     "iopub.status.idle": "2020-10-24T09:47:47.162355Z",
     "shell.execute_reply": "2020-10-24T09:47:47.161628Z"
    },
    "papermill": {
     "duration": 1.627686,
     "end_time": "2020-10-24T09:47:47.162486",
     "exception": false,
     "start_time": "2020-10-24T09:47:45.534800",
     "status": "completed"
    },
    "tags": []
   },
   "outputs": [
    {
     "data": {
      "text/plain": [
       "array([[0],\n",
       "       [0],\n",
       "       [1],\n",
       "       ...,\n",
       "       [1],\n",
       "       [1],\n",
       "       [1]])"
      ]
     },
     "execution_count": 132,
     "metadata": {},
     "output_type": "execute_result"
    }
   ],
   "source": [
    "bi_pred = bidirect_model.predict(val_set)\n",
    "bi_pred = np.where(bi_pred > 0.5 ,1,0)\n",
    "bi_pred"
   ]
  },
  {
   "cell_type": "code",
   "execution_count": 133,
   "metadata": {
    "execution": {
     "iopub.execute_input": "2020-10-24T09:47:47.682467Z",
     "iopub.status.busy": "2020-10-24T09:47:47.681689Z",
     "iopub.status.idle": "2020-10-24T09:47:47.687591Z",
     "shell.execute_reply": "2020-10-24T09:47:47.686867Z"
    },
    "papermill": {
     "duration": 0.269908,
     "end_time": "2020-10-24T09:47:47.687714",
     "exception": false,
     "start_time": "2020-10-24T09:47:47.417806",
     "status": "completed"
    },
    "tags": []
   },
   "outputs": [
    {
     "data": {
      "text/plain": [
       "0.6615003099814011"
      ]
     },
     "execution_count": 133,
     "metadata": {},
     "output_type": "execute_result"
    }
   ],
   "source": [
    "\n",
    "accuracy_score(bi_pred,y_val_set)"
   ]
  },
  {
   "cell_type": "code",
   "execution_count": 134,
   "metadata": {
    "execution": {
     "iopub.execute_input": "2020-10-24T09:47:48.204024Z",
     "iopub.status.busy": "2020-10-24T09:47:48.203292Z",
     "iopub.status.idle": "2020-10-24T09:47:50.030902Z",
     "shell.execute_reply": "2020-10-24T09:47:50.030139Z"
    },
    "papermill": {
     "duration": 2.087533,
     "end_time": "2020-10-24T09:47:50.031024",
     "exception": false,
     "start_time": "2020-10-24T09:47:47.943491",
     "status": "completed"
    },
    "tags": []
   },
   "outputs": [
    {
     "data": {
      "text/plain": [
       "array([[1],\n",
       "       [0],\n",
       "       [1],\n",
       "       ...,\n",
       "       [0],\n",
       "       [1],\n",
       "       [0]])"
      ]
     },
     "execution_count": 134,
     "metadata": {},
     "output_type": "execute_result"
    }
   ],
   "source": [
    "test_pred = np.where(bidirect_model.predict(X_test_pad) > 0.5 , 1,0)\n",
    "test_pred"
   ]
  },
  {
   "cell_type": "code",
   "execution_count": 135,
   "metadata": {
    "execution": {
     "iopub.execute_input": "2020-10-24T09:47:50.555852Z",
     "iopub.status.busy": "2020-10-24T09:47:50.554800Z",
     "iopub.status.idle": "2020-10-24T09:47:50.558443Z",
     "shell.execute_reply": "2020-10-24T09:47:50.557653Z"
    },
    "papermill": {
     "duration": 0.271212,
     "end_time": "2020-10-24T09:47:50.558569",
     "exception": false,
     "start_time": "2020-10-24T09:47:50.287357",
     "status": "completed"
    },
    "tags": []
   },
   "outputs": [],
   "source": [
    "def submit(modelarch):\n",
    "    test_pred = np.where(modelarch.predict(X_test_pad) > 0.5 , 1,0)\n",
    "    target_lst = []\n",
    "    for i in test_pred:\n",
    "        if i < 0.5:\n",
    "            i = 0\n",
    "        else:\n",
    "            i = 1\n",
    "        target_lst.append(i)\n",
    "    submitset = pd.DataFrame({'id':pd.read_csv('../input/nlp-getting-started/test.csv').id,\n",
    "                      'target':target_lst})\n",
    "    submitset.set_index('id',inplace=True)\n",
    "                            \n",
    "    return submitset"
   ]
  },
  {
   "cell_type": "code",
   "execution_count": 136,
   "metadata": {
    "execution": {
     "iopub.execute_input": "2020-10-24T09:47:51.080746Z",
     "iopub.status.busy": "2020-10-24T09:47:51.079998Z",
     "iopub.status.idle": "2020-10-24T09:47:56.922850Z",
     "shell.execute_reply": "2020-10-24T09:47:56.922156Z"
    },
    "papermill": {
     "duration": 6.104086,
     "end_time": "2020-10-24T09:47:56.922979",
     "exception": false,
     "start_time": "2020-10-24T09:47:50.818893",
     "status": "completed"
    },
    "tags": []
   },
   "outputs": [
    {
     "data": {
      "text/html": [
       "<div>\n",
       "<style scoped>\n",
       "    .dataframe tbody tr th:only-of-type {\n",
       "        vertical-align: middle;\n",
       "    }\n",
       "\n",
       "    .dataframe tbody tr th {\n",
       "        vertical-align: top;\n",
       "    }\n",
       "\n",
       "    .dataframe thead th {\n",
       "        text-align: right;\n",
       "    }\n",
       "</style>\n",
       "<table border=\"1\" class=\"dataframe\">\n",
       "  <thead>\n",
       "    <tr style=\"text-align: right;\">\n",
       "      <th></th>\n",
       "      <th>target</th>\n",
       "    </tr>\n",
       "    <tr>\n",
       "      <th>id</th>\n",
       "      <th></th>\n",
       "    </tr>\n",
       "  </thead>\n",
       "  <tbody>\n",
       "    <tr>\n",
       "      <th>0</th>\n",
       "      <td>1</td>\n",
       "    </tr>\n",
       "    <tr>\n",
       "      <th>2</th>\n",
       "      <td>0</td>\n",
       "    </tr>\n",
       "    <tr>\n",
       "      <th>3</th>\n",
       "      <td>1</td>\n",
       "    </tr>\n",
       "    <tr>\n",
       "      <th>9</th>\n",
       "      <td>1</td>\n",
       "    </tr>\n",
       "    <tr>\n",
       "      <th>11</th>\n",
       "      <td>1</td>\n",
       "    </tr>\n",
       "    <tr>\n",
       "      <th>...</th>\n",
       "      <td>...</td>\n",
       "    </tr>\n",
       "    <tr>\n",
       "      <th>10861</th>\n",
       "      <td>0</td>\n",
       "    </tr>\n",
       "    <tr>\n",
       "      <th>10865</th>\n",
       "      <td>0</td>\n",
       "    </tr>\n",
       "    <tr>\n",
       "      <th>10868</th>\n",
       "      <td>0</td>\n",
       "    </tr>\n",
       "    <tr>\n",
       "      <th>10874</th>\n",
       "      <td>1</td>\n",
       "    </tr>\n",
       "    <tr>\n",
       "      <th>10875</th>\n",
       "      <td>1</td>\n",
       "    </tr>\n",
       "  </tbody>\n",
       "</table>\n",
       "<p>3263 rows × 1 columns</p>\n",
       "</div>"
      ],
      "text/plain": [
       "       target\n",
       "id           \n",
       "0           1\n",
       "2           0\n",
       "3           1\n",
       "9           1\n",
       "11          1\n",
       "...       ...\n",
       "10861       0\n",
       "10865       0\n",
       "10868       0\n",
       "10874       1\n",
       "10875       1\n",
       "\n",
       "[3263 rows x 1 columns]"
      ]
     },
     "execution_count": 136,
     "metadata": {},
     "output_type": "execute_result"
    }
   ],
   "source": [
    "submissionEMBED = submit(modelEM)\n",
    "submissionEMBED"
   ]
  },
  {
   "cell_type": "code",
   "execution_count": 137,
   "metadata": {
    "execution": {
     "iopub.execute_input": "2020-10-24T09:47:57.443821Z",
     "iopub.status.busy": "2020-10-24T09:47:57.442775Z",
     "iopub.status.idle": "2020-10-24T09:47:59.373413Z",
     "shell.execute_reply": "2020-10-24T09:47:59.372642Z"
    },
    "papermill": {
     "duration": 2.191839,
     "end_time": "2020-10-24T09:47:59.373540",
     "exception": false,
     "start_time": "2020-10-24T09:47:57.181701",
     "status": "completed"
    },
    "tags": []
   },
   "outputs": [
    {
     "data": {
      "text/html": [
       "<div>\n",
       "<style scoped>\n",
       "    .dataframe tbody tr th:only-of-type {\n",
       "        vertical-align: middle;\n",
       "    }\n",
       "\n",
       "    .dataframe tbody tr th {\n",
       "        vertical-align: top;\n",
       "    }\n",
       "\n",
       "    .dataframe thead th {\n",
       "        text-align: right;\n",
       "    }\n",
       "</style>\n",
       "<table border=\"1\" class=\"dataframe\">\n",
       "  <thead>\n",
       "    <tr style=\"text-align: right;\">\n",
       "      <th></th>\n",
       "      <th>target</th>\n",
       "    </tr>\n",
       "    <tr>\n",
       "      <th>id</th>\n",
       "      <th></th>\n",
       "    </tr>\n",
       "  </thead>\n",
       "  <tbody>\n",
       "    <tr>\n",
       "      <th>0</th>\n",
       "      <td>1</td>\n",
       "    </tr>\n",
       "    <tr>\n",
       "      <th>2</th>\n",
       "      <td>0</td>\n",
       "    </tr>\n",
       "    <tr>\n",
       "      <th>3</th>\n",
       "      <td>1</td>\n",
       "    </tr>\n",
       "    <tr>\n",
       "      <th>9</th>\n",
       "      <td>1</td>\n",
       "    </tr>\n",
       "    <tr>\n",
       "      <th>11</th>\n",
       "      <td>1</td>\n",
       "    </tr>\n",
       "    <tr>\n",
       "      <th>...</th>\n",
       "      <td>...</td>\n",
       "    </tr>\n",
       "    <tr>\n",
       "      <th>10861</th>\n",
       "      <td>0</td>\n",
       "    </tr>\n",
       "    <tr>\n",
       "      <th>10865</th>\n",
       "      <td>1</td>\n",
       "    </tr>\n",
       "    <tr>\n",
       "      <th>10868</th>\n",
       "      <td>0</td>\n",
       "    </tr>\n",
       "    <tr>\n",
       "      <th>10874</th>\n",
       "      <td>1</td>\n",
       "    </tr>\n",
       "    <tr>\n",
       "      <th>10875</th>\n",
       "      <td>0</td>\n",
       "    </tr>\n",
       "  </tbody>\n",
       "</table>\n",
       "<p>3263 rows × 1 columns</p>\n",
       "</div>"
      ],
      "text/plain": [
       "       target\n",
       "id           \n",
       "0           1\n",
       "2           0\n",
       "3           1\n",
       "9           1\n",
       "11          1\n",
       "...       ...\n",
       "10861       0\n",
       "10865       1\n",
       "10868       0\n",
       "10874       1\n",
       "10875       0\n",
       "\n",
       "[3263 rows x 1 columns]"
      ]
     },
     "execution_count": 137,
     "metadata": {},
     "output_type": "execute_result"
    }
   ],
   "source": [
    "submissionBID = submit(bidirect_model)\n",
    "submissionBID"
   ]
  },
  {
   "cell_type": "code",
   "execution_count": 138,
   "metadata": {
    "execution": {
     "iopub.execute_input": "2020-10-24T09:47:59.899688Z",
     "iopub.status.busy": "2020-10-24T09:47:59.898677Z",
     "iopub.status.idle": "2020-10-24T09:47:59.964812Z",
     "shell.execute_reply": "2020-10-24T09:47:59.964078Z"
    },
    "papermill": {
     "duration": 0.331403,
     "end_time": "2020-10-24T09:47:59.964935",
     "exception": false,
     "start_time": "2020-10-24T09:47:59.633532",
     "status": "completed"
    },
    "tags": []
   },
   "outputs": [],
   "source": [
    "submissionEMBED.to_csv('submissionEMBED.csv')\n"
   ]
  },
  {
   "cell_type": "code",
   "execution_count": 139,
   "metadata": {
    "execution": {
     "iopub.execute_input": "2020-10-24T09:48:00.504585Z",
     "iopub.status.busy": "2020-10-24T09:48:00.503823Z",
     "iopub.status.idle": "2020-10-24T09:48:00.506892Z",
     "shell.execute_reply": "2020-10-24T09:48:00.506123Z"
    },
    "papermill": {
     "duration": 0.280891,
     "end_time": "2020-10-24T09:48:00.507020",
     "exception": false,
     "start_time": "2020-10-24T09:48:00.226129",
     "status": "completed"
    },
    "tags": []
   },
   "outputs": [],
   "source": [
    "submissionBID.to_csv('submissionBID.csv')"
   ]
  },
  {
   "cell_type": "code",
   "execution_count": null,
   "metadata": {
    "papermill": {
     "duration": 0.258613,
     "end_time": "2020-10-24T09:48:01.028796",
     "exception": false,
     "start_time": "2020-10-24T09:48:00.770183",
     "status": "completed"
    },
    "tags": []
   },
   "outputs": [],
   "source": []
  },
  {
   "cell_type": "code",
   "execution_count": null,
   "metadata": {
    "papermill": {
     "duration": 0.307454,
     "end_time": "2020-10-24T09:48:01.595768",
     "exception": false,
     "start_time": "2020-10-24T09:48:01.288314",
     "status": "completed"
    },
    "tags": []
   },
   "outputs": [],
   "source": []
  }
 ],
 "metadata": {
  "kernelspec": {
   "display_name": "Python 3",
   "language": "python",
   "name": "python3"
  },
  "language_info": {
   "codemirror_mode": {
    "name": "ipython",
    "version": 3
   },
   "file_extension": ".py",
   "mimetype": "text/x-python",
   "name": "python",
   "nbconvert_exporter": "python",
   "pygments_lexer": "ipython3",
   "version": "3.7.6"
  },
  "papermill": {
   "duration": 246.066242,
   "end_time": "2020-10-24T09:48:01.966406",
   "environment_variables": {},
   "exception": null,
   "input_path": "__notebook__.ipynb",
   "output_path": "__notebook__.ipynb",
   "parameters": {},
   "start_time": "2020-10-24T09:43:55.900164",
   "version": "2.1.0"
  }
 },
 "nbformat": 4,
 "nbformat_minor": 4
}
